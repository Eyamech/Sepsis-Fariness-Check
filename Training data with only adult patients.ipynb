{
 "cells": [
  {
   "cell_type": "code",
   "execution_count": 1,
   "id": "7b762a5c",
   "metadata": {},
   "outputs": [],
   "source": [
    "import pandas as pd\n",
    "import os\n",
    "import pandas as pd\n",
    "import numpy as np\n",
    "import numpy\n",
    "import seaborn as sns\n",
    "import scipy.stats as stats\n",
    "import matplotlib.pyplot as plt\n",
    "from sklearn.model_selection import train_test_split\n",
    "from sklearn.preprocessing import StandardScaler\n",
    "from sklearn.linear_model import LogisticRegression\n",
    "from sklearn.svm import SVC\n",
    "from sklearn.neighbors import KNeighborsClassifier\n",
    "from sklearn.tree import DecisionTreeClassifier\n",
    "from sklearn.ensemble import RandomForestClassifier\n",
    "from sklearn.metrics import confusion_matrix, accuracy_score, classification_report\n",
    "from collections import Counter\n",
    "from imblearn.under_sampling import RandomUnderSampler\n",
    "from imblearn.over_sampling import SMOTE\n",
    "from sklearn.metrics import accuracy_score\n",
    "from sklearn.model_selection import KFold, StratifiedKFold\n",
    "from sklearn.ensemble import VotingClassifier \n",
    "from sklearn.neighbors import KNeighborsClassifier\n",
    "from sklearn.svm import SVC \n",
    "from sklearn.tree import DecisionTreeClassifier \n",
    "from sklearn.ensemble import RandomForestClassifier\n",
    "from numpy import loadtxt\n"
   ]
  },
  {
   "cell_type": "code",
   "execution_count": 2,
   "id": "d6afffdb",
   "metadata": {},
   "outputs": [],
   "source": [
    "# load numpy array from csv file\n",
    "# load array\n",
    "X_train_SMOTE = loadtxt('X_train_SMOTE.csv', delimiter=',')\n",
    "y_train_SMOTE = loadtxt('y_train_SMOTE.csv', delimiter=',')\n",
    "y_pred_SMOTE = loadtxt('y_pred_SMOTE.csv', delimiter=',')\n",
    "y_test = loadtxt('y_test.csv', delimiter=',')\n",
    "X_test = pd.read_csv('X_test.csv', index_col = 0)\n",
    "# print the array\n",
    "#print(X_train_SMOTE,y_train_SMOTE)"
   ]
  },
  {
   "cell_type": "code",
   "execution_count": 3,
   "id": "258627d9",
   "metadata": {},
   "outputs": [
    {
     "data": {
      "text/html": [
       "<div>\n",
       "<style scoped>\n",
       "    .dataframe tbody tr th:only-of-type {\n",
       "        vertical-align: middle;\n",
       "    }\n",
       "\n",
       "    .dataframe tbody tr th {\n",
       "        vertical-align: top;\n",
       "    }\n",
       "\n",
       "    .dataframe thead th {\n",
       "        text-align: right;\n",
       "    }\n",
       "</style>\n",
       "<table border=\"1\" class=\"dataframe\">\n",
       "  <thead>\n",
       "    <tr style=\"text-align: right;\">\n",
       "      <th></th>\n",
       "      <th>HR</th>\n",
       "      <th>O2Sat</th>\n",
       "      <th>Temp</th>\n",
       "      <th>SBP</th>\n",
       "      <th>MAP</th>\n",
       "      <th>DBP</th>\n",
       "      <th>Resp</th>\n",
       "      <th>Age</th>\n",
       "      <th>Gender</th>\n",
       "      <th>Unit1</th>\n",
       "      <th>Unit2</th>\n",
       "      <th>HospAdmTime</th>\n",
       "      <th>ICULOS</th>\n",
       "      <th>AgeGroup</th>\n",
       "    </tr>\n",
       "  </thead>\n",
       "  <tbody>\n",
       "    <tr>\n",
       "      <th>5489</th>\n",
       "      <td>98.0</td>\n",
       "      <td>98.0</td>\n",
       "      <td>98.00</td>\n",
       "      <td>98.0</td>\n",
       "      <td>98.00</td>\n",
       "      <td>98.0</td>\n",
       "      <td>98.0</td>\n",
       "      <td>46</td>\n",
       "      <td>0</td>\n",
       "      <td>98.0</td>\n",
       "      <td>98.0</td>\n",
       "      <td>-4.80</td>\n",
       "      <td>19</td>\n",
       "      <td>Adult</td>\n",
       "    </tr>\n",
       "    <tr>\n",
       "      <th>2500</th>\n",
       "      <td>122.0</td>\n",
       "      <td>98.0</td>\n",
       "      <td>39.28</td>\n",
       "      <td>135.0</td>\n",
       "      <td>93.67</td>\n",
       "      <td>98.0</td>\n",
       "      <td>32.0</td>\n",
       "      <td>36</td>\n",
       "      <td>1</td>\n",
       "      <td>1.0</td>\n",
       "      <td>0.0</td>\n",
       "      <td>-0.02</td>\n",
       "      <td>24</td>\n",
       "      <td>Young</td>\n",
       "    </tr>\n",
       "    <tr>\n",
       "      <th>30561</th>\n",
       "      <td>68.0</td>\n",
       "      <td>96.0</td>\n",
       "      <td>98.00</td>\n",
       "      <td>160.0</td>\n",
       "      <td>90.00</td>\n",
       "      <td>62.0</td>\n",
       "      <td>15.0</td>\n",
       "      <td>53</td>\n",
       "      <td>1</td>\n",
       "      <td>98.0</td>\n",
       "      <td>98.0</td>\n",
       "      <td>0.00</td>\n",
       "      <td>21</td>\n",
       "      <td>Adult</td>\n",
       "    </tr>\n",
       "    <tr>\n",
       "      <th>1925</th>\n",
       "      <td>91.0</td>\n",
       "      <td>98.5</td>\n",
       "      <td>36.90</td>\n",
       "      <td>101.5</td>\n",
       "      <td>72.50</td>\n",
       "      <td>48.5</td>\n",
       "      <td>14.0</td>\n",
       "      <td>62</td>\n",
       "      <td>1</td>\n",
       "      <td>0.0</td>\n",
       "      <td>1.0</td>\n",
       "      <td>-93.26</td>\n",
       "      <td>41</td>\n",
       "      <td>Adult</td>\n",
       "    </tr>\n",
       "    <tr>\n",
       "      <th>32849</th>\n",
       "      <td>98.0</td>\n",
       "      <td>98.0</td>\n",
       "      <td>98.00</td>\n",
       "      <td>98.0</td>\n",
       "      <td>98.00</td>\n",
       "      <td>98.0</td>\n",
       "      <td>98.0</td>\n",
       "      <td>50</td>\n",
       "      <td>0</td>\n",
       "      <td>1.0</td>\n",
       "      <td>0.0</td>\n",
       "      <td>-6.05</td>\n",
       "      <td>31</td>\n",
       "      <td>Adult</td>\n",
       "    </tr>\n",
       "    <tr>\n",
       "      <th>...</th>\n",
       "      <td>...</td>\n",
       "      <td>...</td>\n",
       "      <td>...</td>\n",
       "      <td>...</td>\n",
       "      <td>...</td>\n",
       "      <td>...</td>\n",
       "      <td>...</td>\n",
       "      <td>...</td>\n",
       "      <td>...</td>\n",
       "      <td>...</td>\n",
       "      <td>...</td>\n",
       "      <td>...</td>\n",
       "      <td>...</td>\n",
       "      <td>...</td>\n",
       "    </tr>\n",
       "    <tr>\n",
       "      <th>26145</th>\n",
       "      <td>127.0</td>\n",
       "      <td>94.5</td>\n",
       "      <td>38.70</td>\n",
       "      <td>86.0</td>\n",
       "      <td>70.00</td>\n",
       "      <td>60.0</td>\n",
       "      <td>5.0</td>\n",
       "      <td>58</td>\n",
       "      <td>1</td>\n",
       "      <td>0.0</td>\n",
       "      <td>1.0</td>\n",
       "      <td>-74.53</td>\n",
       "      <td>43</td>\n",
       "      <td>Adult</td>\n",
       "    </tr>\n",
       "    <tr>\n",
       "      <th>7717</th>\n",
       "      <td>97.0</td>\n",
       "      <td>94.0</td>\n",
       "      <td>98.00</td>\n",
       "      <td>147.0</td>\n",
       "      <td>98.00</td>\n",
       "      <td>72.0</td>\n",
       "      <td>21.0</td>\n",
       "      <td>60</td>\n",
       "      <td>0</td>\n",
       "      <td>98.0</td>\n",
       "      <td>98.0</td>\n",
       "      <td>-0.05</td>\n",
       "      <td>22</td>\n",
       "      <td>Adult</td>\n",
       "    </tr>\n",
       "    <tr>\n",
       "      <th>34119</th>\n",
       "      <td>76.0</td>\n",
       "      <td>100.0</td>\n",
       "      <td>36.50</td>\n",
       "      <td>88.0</td>\n",
       "      <td>80.00</td>\n",
       "      <td>77.0</td>\n",
       "      <td>17.0</td>\n",
       "      <td>60</td>\n",
       "      <td>0</td>\n",
       "      <td>98.0</td>\n",
       "      <td>98.0</td>\n",
       "      <td>-0.02</td>\n",
       "      <td>27</td>\n",
       "      <td>Adult</td>\n",
       "    </tr>\n",
       "    <tr>\n",
       "      <th>3206</th>\n",
       "      <td>77.0</td>\n",
       "      <td>100.0</td>\n",
       "      <td>98.00</td>\n",
       "      <td>169.0</td>\n",
       "      <td>110.33</td>\n",
       "      <td>98.0</td>\n",
       "      <td>14.0</td>\n",
       "      <td>61</td>\n",
       "      <td>0</td>\n",
       "      <td>1.0</td>\n",
       "      <td>0.0</td>\n",
       "      <td>-8.63</td>\n",
       "      <td>5</td>\n",
       "      <td>Adult</td>\n",
       "    </tr>\n",
       "    <tr>\n",
       "      <th>5111</th>\n",
       "      <td>80.0</td>\n",
       "      <td>97.5</td>\n",
       "      <td>98.00</td>\n",
       "      <td>114.0</td>\n",
       "      <td>90.00</td>\n",
       "      <td>76.0</td>\n",
       "      <td>23.0</td>\n",
       "      <td>66</td>\n",
       "      <td>1</td>\n",
       "      <td>1.0</td>\n",
       "      <td>0.0</td>\n",
       "      <td>-350.75</td>\n",
       "      <td>117</td>\n",
       "      <td>OLD</td>\n",
       "    </tr>\n",
       "  </tbody>\n",
       "</table>\n",
       "<p>12004 rows × 14 columns</p>\n",
       "</div>"
      ],
      "text/plain": [
       "          HR  O2Sat   Temp    SBP     MAP   DBP  Resp  Age  Gender  Unit1  \\\n",
       "5489    98.0   98.0  98.00   98.0   98.00  98.0  98.0   46       0   98.0   \n",
       "2500   122.0   98.0  39.28  135.0   93.67  98.0  32.0   36       1    1.0   \n",
       "30561   68.0   96.0  98.00  160.0   90.00  62.0  15.0   53       1   98.0   \n",
       "1925    91.0   98.5  36.90  101.5   72.50  48.5  14.0   62       1    0.0   \n",
       "32849   98.0   98.0  98.00   98.0   98.00  98.0  98.0   50       0    1.0   \n",
       "...      ...    ...    ...    ...     ...   ...   ...  ...     ...    ...   \n",
       "26145  127.0   94.5  38.70   86.0   70.00  60.0   5.0   58       1    0.0   \n",
       "7717    97.0   94.0  98.00  147.0   98.00  72.0  21.0   60       0   98.0   \n",
       "34119   76.0  100.0  36.50   88.0   80.00  77.0  17.0   60       0   98.0   \n",
       "3206    77.0  100.0  98.00  169.0  110.33  98.0  14.0   61       0    1.0   \n",
       "5111    80.0   97.5  98.00  114.0   90.00  76.0  23.0   66       1    1.0   \n",
       "\n",
       "       Unit2  HospAdmTime  ICULOS AgeGroup  \n",
       "5489    98.0        -4.80      19    Adult  \n",
       "2500     0.0        -0.02      24    Young  \n",
       "30561   98.0         0.00      21    Adult  \n",
       "1925     1.0       -93.26      41    Adult  \n",
       "32849    0.0        -6.05      31    Adult  \n",
       "...      ...          ...     ...      ...  \n",
       "26145    1.0       -74.53      43    Adult  \n",
       "7717    98.0        -0.05      22    Adult  \n",
       "34119   98.0        -0.02      27    Adult  \n",
       "3206     0.0        -8.63       5    Adult  \n",
       "5111     0.0      -350.75     117      OLD  \n",
       "\n",
       "[12004 rows x 14 columns]"
      ]
     },
     "execution_count": 3,
     "metadata": {},
     "output_type": "execute_result"
    }
   ],
   "source": [
    "#X_test_all = X_test.drop(['AgeGroup'], axis=1)\n",
    "X_test"
   ]
  },
  {
   "cell_type": "code",
   "execution_count": 4,
   "id": "5865beeb",
   "metadata": {},
   "outputs": [
    {
     "data": {
      "text/plain": [
       "Counter({0.0: 11829, 1.0: 175})"
      ]
     },
     "execution_count": 4,
     "metadata": {},
     "output_type": "execute_result"
    }
   ],
   "source": [
    "Counter(y_test)"
   ]
  },
  {
   "cell_type": "code",
   "execution_count": 5,
   "id": "35e6cf6c",
   "metadata": {},
   "outputs": [],
   "source": [
    "df_y_train = pd.DataFrame(y_train_SMOTE,columns = ['SepsisLabel'])\n"
   ]
  },
  {
   "cell_type": "code",
   "execution_count": 6,
   "id": "f73b067f",
   "metadata": {},
   "outputs": [
    {
     "name": "stdout",
     "output_type": "stream",
     "text": [
      "\n",
      " dataframe_X_train_SMOTE: \n"
     ]
    },
    {
     "data": {
      "text/html": [
       "<div>\n",
       "<style scoped>\n",
       "    .dataframe tbody tr th:only-of-type {\n",
       "        vertical-align: middle;\n",
       "    }\n",
       "\n",
       "    .dataframe tbody tr th {\n",
       "        vertical-align: top;\n",
       "    }\n",
       "\n",
       "    .dataframe thead th {\n",
       "        text-align: right;\n",
       "    }\n",
       "</style>\n",
       "<table border=\"1\" class=\"dataframe\">\n",
       "  <thead>\n",
       "    <tr style=\"text-align: right;\">\n",
       "      <th></th>\n",
       "      <th>HR</th>\n",
       "      <th>O2Sat</th>\n",
       "      <th>Temp</th>\n",
       "      <th>SBP</th>\n",
       "      <th>MAP</th>\n",
       "      <th>DBP</th>\n",
       "      <th>Resp</th>\n",
       "      <th>Age</th>\n",
       "      <th>Gender</th>\n",
       "      <th>Unit1</th>\n",
       "      <th>Unit2</th>\n",
       "      <th>HospAdmTime</th>\n",
       "      <th>ICULOS</th>\n",
       "    </tr>\n",
       "  </thead>\n",
       "  <tbody>\n",
       "    <tr>\n",
       "      <th>0</th>\n",
       "      <td>100.000000</td>\n",
       "      <td>98.500000</td>\n",
       "      <td>37.500000</td>\n",
       "      <td>110.000000</td>\n",
       "      <td>70.000000</td>\n",
       "      <td>51.000000</td>\n",
       "      <td>18.000000</td>\n",
       "      <td>61.0</td>\n",
       "      <td>1.0</td>\n",
       "      <td>0.000000</td>\n",
       "      <td>1.000000</td>\n",
       "      <td>-141.650000</td>\n",
       "      <td>35.0</td>\n",
       "    </tr>\n",
       "    <tr>\n",
       "      <th>1</th>\n",
       "      <td>101.000000</td>\n",
       "      <td>99.000000</td>\n",
       "      <td>36.100000</td>\n",
       "      <td>146.000000</td>\n",
       "      <td>121.000000</td>\n",
       "      <td>104.000000</td>\n",
       "      <td>20.000000</td>\n",
       "      <td>30.0</td>\n",
       "      <td>0.0</td>\n",
       "      <td>1.000000</td>\n",
       "      <td>0.000000</td>\n",
       "      <td>-7.810000</td>\n",
       "      <td>8.0</td>\n",
       "    </tr>\n",
       "    <tr>\n",
       "      <th>2</th>\n",
       "      <td>98.000000</td>\n",
       "      <td>98.000000</td>\n",
       "      <td>98.000000</td>\n",
       "      <td>98.000000</td>\n",
       "      <td>98.000000</td>\n",
       "      <td>98.000000</td>\n",
       "      <td>98.000000</td>\n",
       "      <td>66.0</td>\n",
       "      <td>1.0</td>\n",
       "      <td>98.000000</td>\n",
       "      <td>98.000000</td>\n",
       "      <td>-2.940000</td>\n",
       "      <td>16.0</td>\n",
       "    </tr>\n",
       "    <tr>\n",
       "      <th>3</th>\n",
       "      <td>98.000000</td>\n",
       "      <td>98.000000</td>\n",
       "      <td>98.000000</td>\n",
       "      <td>98.000000</td>\n",
       "      <td>98.000000</td>\n",
       "      <td>98.000000</td>\n",
       "      <td>98.000000</td>\n",
       "      <td>69.0</td>\n",
       "      <td>1.0</td>\n",
       "      <td>98.000000</td>\n",
       "      <td>98.000000</td>\n",
       "      <td>-2.890000</td>\n",
       "      <td>45.0</td>\n",
       "    </tr>\n",
       "    <tr>\n",
       "      <th>4</th>\n",
       "      <td>98.000000</td>\n",
       "      <td>98.000000</td>\n",
       "      <td>98.000000</td>\n",
       "      <td>98.000000</td>\n",
       "      <td>98.000000</td>\n",
       "      <td>98.000000</td>\n",
       "      <td>98.000000</td>\n",
       "      <td>100.0</td>\n",
       "      <td>1.0</td>\n",
       "      <td>1.000000</td>\n",
       "      <td>0.000000</td>\n",
       "      <td>-180.740000</td>\n",
       "      <td>1.0</td>\n",
       "    </tr>\n",
       "    <tr>\n",
       "      <th>...</th>\n",
       "      <td>...</td>\n",
       "      <td>...</td>\n",
       "      <td>...</td>\n",
       "      <td>...</td>\n",
       "      <td>...</td>\n",
       "      <td>...</td>\n",
       "      <td>...</td>\n",
       "      <td>...</td>\n",
       "      <td>...</td>\n",
       "      <td>...</td>\n",
       "      <td>...</td>\n",
       "      <td>...</td>\n",
       "      <td>...</td>\n",
       "    </tr>\n",
       "    <tr>\n",
       "      <th>55149</th>\n",
       "      <td>89.216935</td>\n",
       "      <td>97.874193</td>\n",
       "      <td>37.048331</td>\n",
       "      <td>107.342742</td>\n",
       "      <td>73.845968</td>\n",
       "      <td>59.223389</td>\n",
       "      <td>16.108467</td>\n",
       "      <td>64.0</td>\n",
       "      <td>0.0</td>\n",
       "      <td>98.000000</td>\n",
       "      <td>98.000000</td>\n",
       "      <td>-0.971928</td>\n",
       "      <td>18.0</td>\n",
       "    </tr>\n",
       "    <tr>\n",
       "      <th>55150</th>\n",
       "      <td>98.000000</td>\n",
       "      <td>98.000000</td>\n",
       "      <td>98.000000</td>\n",
       "      <td>98.000000</td>\n",
       "      <td>98.000000</td>\n",
       "      <td>98.000000</td>\n",
       "      <td>98.000000</td>\n",
       "      <td>75.0</td>\n",
       "      <td>1.0</td>\n",
       "      <td>0.126677</td>\n",
       "      <td>0.873323</td>\n",
       "      <td>-110.244767</td>\n",
       "      <td>1.0</td>\n",
       "    </tr>\n",
       "    <tr>\n",
       "      <th>55151</th>\n",
       "      <td>96.908068</td>\n",
       "      <td>96.266818</td>\n",
       "      <td>98.000000</td>\n",
       "      <td>128.275795</td>\n",
       "      <td>65.766818</td>\n",
       "      <td>45.150227</td>\n",
       "      <td>21.000000</td>\n",
       "      <td>31.0</td>\n",
       "      <td>1.0</td>\n",
       "      <td>98.000000</td>\n",
       "      <td>98.000000</td>\n",
       "      <td>-0.020000</td>\n",
       "      <td>10.0</td>\n",
       "    </tr>\n",
       "    <tr>\n",
       "      <th>55152</th>\n",
       "      <td>92.967422</td>\n",
       "      <td>99.266804</td>\n",
       "      <td>36.600000</td>\n",
       "      <td>113.382887</td>\n",
       "      <td>74.183299</td>\n",
       "      <td>59.000000</td>\n",
       "      <td>14.000000</td>\n",
       "      <td>68.0</td>\n",
       "      <td>1.0</td>\n",
       "      <td>1.000000</td>\n",
       "      <td>0.000000</td>\n",
       "      <td>-6.760000</td>\n",
       "      <td>35.0</td>\n",
       "    </tr>\n",
       "    <tr>\n",
       "      <th>55153</th>\n",
       "      <td>114.792918</td>\n",
       "      <td>99.000000</td>\n",
       "      <td>98.000000</td>\n",
       "      <td>133.000000</td>\n",
       "      <td>92.448229</td>\n",
       "      <td>66.551771</td>\n",
       "      <td>98.000000</td>\n",
       "      <td>62.0</td>\n",
       "      <td>0.0</td>\n",
       "      <td>1.000000</td>\n",
       "      <td>0.000000</td>\n",
       "      <td>-3.300000</td>\n",
       "      <td>22.0</td>\n",
       "    </tr>\n",
       "  </tbody>\n",
       "</table>\n",
       "<p>55154 rows × 13 columns</p>\n",
       "</div>"
      ],
      "text/plain": [
       "               HR      O2Sat       Temp         SBP         MAP         DBP  \\\n",
       "0      100.000000  98.500000  37.500000  110.000000   70.000000   51.000000   \n",
       "1      101.000000  99.000000  36.100000  146.000000  121.000000  104.000000   \n",
       "2       98.000000  98.000000  98.000000   98.000000   98.000000   98.000000   \n",
       "3       98.000000  98.000000  98.000000   98.000000   98.000000   98.000000   \n",
       "4       98.000000  98.000000  98.000000   98.000000   98.000000   98.000000   \n",
       "...           ...        ...        ...         ...         ...         ...   \n",
       "55149   89.216935  97.874193  37.048331  107.342742   73.845968   59.223389   \n",
       "55150   98.000000  98.000000  98.000000   98.000000   98.000000   98.000000   \n",
       "55151   96.908068  96.266818  98.000000  128.275795   65.766818   45.150227   \n",
       "55152   92.967422  99.266804  36.600000  113.382887   74.183299   59.000000   \n",
       "55153  114.792918  99.000000  98.000000  133.000000   92.448229   66.551771   \n",
       "\n",
       "            Resp    Age  Gender      Unit1      Unit2  HospAdmTime  ICULOS  \n",
       "0      18.000000   61.0     1.0   0.000000   1.000000  -141.650000    35.0  \n",
       "1      20.000000   30.0     0.0   1.000000   0.000000    -7.810000     8.0  \n",
       "2      98.000000   66.0     1.0  98.000000  98.000000    -2.940000    16.0  \n",
       "3      98.000000   69.0     1.0  98.000000  98.000000    -2.890000    45.0  \n",
       "4      98.000000  100.0     1.0   1.000000   0.000000  -180.740000     1.0  \n",
       "...          ...    ...     ...        ...        ...          ...     ...  \n",
       "55149  16.108467   64.0     0.0  98.000000  98.000000    -0.971928    18.0  \n",
       "55150  98.000000   75.0     1.0   0.126677   0.873323  -110.244767     1.0  \n",
       "55151  21.000000   31.0     1.0  98.000000  98.000000    -0.020000    10.0  \n",
       "55152  14.000000   68.0     1.0   1.000000   0.000000    -6.760000    35.0  \n",
       "55153  98.000000   62.0     0.0   1.000000   0.000000    -3.300000    22.0  \n",
       "\n",
       "[55154 rows x 13 columns]"
      ]
     },
     "execution_count": 6,
     "metadata": {},
     "output_type": "execute_result"
    }
   ],
   "source": [
    "import numpy as np\n",
    "import pandas as pd\n",
    "  \n",
    "\n",
    "# convert numpy array to dataframe\n",
    "df_X_train = pd.DataFrame(X_train_SMOTE,columns =['HR', 'O2Sat', 'Temp', 'SBP', 'MAP', 'DBP', 'Resp', 'Age', 'Gender',\n",
    "       'Unit1', 'Unit2', 'HospAdmTime', 'ICULOS'] )\n",
    "print(\"\\n dataframe_X_train_SMOTE: \")\n",
    "\n",
    "df_X_train\n"
   ]
  },
  {
   "cell_type": "code",
   "execution_count": 7,
   "id": "a3630fab",
   "metadata": {},
   "outputs": [
    {
     "name": "stdout",
     "output_type": "stream",
     "text": [
      "Stored 'df_X_train' (DataFrame)\n"
     ]
    }
   ],
   "source": [
    "%store df_X_train"
   ]
  },
  {
   "cell_type": "code",
   "execution_count": 8,
   "id": "4365ee93",
   "metadata": {},
   "outputs": [],
   "source": [
    "import numpy as np\n",
    "bins= [15, 40, 65, np.inf]\n",
    "# (15,40] (40,65] and 60+ \n",
    "labels = ['Young','Adult','OLD']\n",
    "df_X_train['AgeGroup'] = pd.cut(df_X_train['Age'], bins=bins, labels=labels)\n",
    "\n"
   ]
  },
  {
   "cell_type": "code",
   "execution_count": 9,
   "id": "326c5ba0",
   "metadata": {},
   "outputs": [],
   "source": [
    "Young_index = df_X_train[df_X_train['AgeGroup'] == 'Young'].index\n",
    "\n",
    "Adult_index = df_X_train[df_X_train['AgeGroup'] == 'Adult'].index\n",
    "\n",
    "Old_index = df_X_train[df_X_train['AgeGroup'] == 'OLD'].index\n"
   ]
  },
  {
   "cell_type": "code",
   "execution_count": 10,
   "id": "1d1febee",
   "metadata": {},
   "outputs": [],
   "source": [
    "X_Train_Young = df_X_train[df_X_train['AgeGroup'] == 'Young']\n",
    "X_Train_Adult = df_X_train[df_X_train['AgeGroup'] == 'Adult']\n",
    "X_Train_Old= df_X_train[df_X_train['AgeGroup'] == 'OLD']"
   ]
  },
  {
   "cell_type": "code",
   "execution_count": 11,
   "id": "9bd40820",
   "metadata": {},
   "outputs": [],
   "source": [
    "y_train_Young = df_y_train.iloc[Young_index]\n",
    "y_train_Adult = df_y_train.iloc[Adult_index]\n",
    "y_train_Old = df_y_train.iloc[Old_index]"
   ]
  },
  {
   "cell_type": "code",
   "execution_count": 12,
   "id": "3c952db7",
   "metadata": {},
   "outputs": [],
   "source": [
    "#functions to generate accuracy report\n",
    "def evaluation_score (y_test,y_pred):\n",
    "    cm = confusion_matrix(y_test,y_pred) \n",
    "    print(\"Confusion Matrix \\n\", cm)\n",
    "    print(\"Classification Report \\n\", classification_report(y_test,y_pred))"
   ]
  },
  {
   "cell_type": "code",
   "execution_count": 13,
   "id": "3216eb8a",
   "metadata": {},
   "outputs": [],
   "source": [
    "def specificity_score (y_test,y_pred):\n",
    "    cm=confusion_matrix(y_test,y_pred)\n",
    "    TN, FP, FN, TP = cm.ravel()\n",
    "    specificity = TN / (TN+FP)\n",
    "    return specificity"
   ]
  },
  {
   "cell_type": "code",
   "execution_count": 14,
   "id": "59190a95",
   "metadata": {},
   "outputs": [],
   "source": [
    "def Plotting(Plots_title, Acc, Pre, Sens, Spec):\n",
    "    \n",
    "    plot = plt.figure()\n",
    "    axes = plot.add_axes([0,0,1,1])\n",
    "    metrics = ['Accuracy',  'Precision', 'Sensitivity','Specificty']\n",
    "    values = [Acc, Pre, Sens, Spec]\n",
    "    barlist = axes.bar(metrics,values, width=0.5)\n",
    "    barlist[0].set_color('royalblue')\n",
    "    barlist[1].set_color('green')\n",
    "    barlist[2].set_color('orange')\n",
    "    barlist[3].set_color('yellow')\n",
    "    axes.set_yticks(np.arange(0, 1.25, 0.5))\n",
    "    axes.set_title(Plots_title)\n",
    "    def autolabel(rects):\n",
    "        for idx,rect in enumerate(barlist):\n",
    "            height = rect.get_height()\n",
    "            axes.text(rect.get_x() + rect.get_width()/2., 1*height,\n",
    "                    round(values[idx],3),\n",
    "                    ha='center', va='bottom', rotation=0)\n",
    "\n",
    "    autolabel(barlist)\n",
    "    plt.show()\n",
    "\n"
   ]
  },
  {
   "cell_type": "code",
   "execution_count": 15,
   "id": "2abb0b25",
   "metadata": {},
   "outputs": [],
   "source": [
    "import joblib\n",
    "# load\n",
    "rf_model_SMOTE = joblib.load(\"my_random_forest.joblib\")"
   ]
  },
  {
   "cell_type": "code",
   "execution_count": 16,
   "id": "03cfe89a",
   "metadata": {},
   "outputs": [
    {
     "data": {
      "text/plain": [
       "array([0., 0., 0., ..., 1., 1., 1.])"
      ]
     },
     "execution_count": 16,
     "metadata": {},
     "output_type": "execute_result"
    }
   ],
   "source": [
    "y_train_SMOTE\n"
   ]
  },
  {
   "cell_type": "markdown",
   "id": "6885951a",
   "metadata": {},
   "source": [
    "# Model training with only adult patients\n",
    "\n",
    "## Test data set includes all the patients "
   ]
  },
  {
   "cell_type": "code",
   "execution_count": 17,
   "id": "3d3f2439",
   "metadata": {},
   "outputs": [],
   "source": [
    "\n",
    "#Metrics packages\n",
    "from sklearn import metrics\n",
    "from sklearn.metrics import classification_report, confusion_matrix\n",
    "from sklearn.model_selection import cross_val_score\n",
    "from sklearn.model_selection import KFold\n",
    "from sklearn.metrics import accuracy_score \n",
    "import warnings\n",
    "from sklearn.metrics import precision_score, recall_score, make_scorer, accuracy_score"
   ]
  },
  {
   "cell_type": "code",
   "execution_count": 21,
   "id": "9bdc7825",
   "metadata": {},
   "outputs": [],
   "source": [
    "X_test_all = X_test.drop(['AgeGroup'], axis=1)\n",
    "X_train_Adult = X_Train_Adult.drop(['AgeGroup'], axis=1)"
   ]
  },
  {
   "cell_type": "code",
   "execution_count": 22,
   "id": "6c701593",
   "metadata": {},
   "outputs": [
    {
     "name": "stderr",
     "output_type": "stream",
     "text": [
      "<ipython-input-22-9d0d8a676ad0>:2: DataConversionWarning: A column-vector y was passed when a 1d array was expected. Please change the shape of y to (n_samples,), for example using ravel().\n",
      "  rf_model_SMOTE = rf_model_SMOTE.fit(X_train_Adult,y_train_Adult)\n"
     ]
    },
    {
     "name": "stdout",
     "output_type": "stream",
     "text": [
      "Confusion Matrix \n",
      " [[11681   148]\n",
      " [   88    87]]\n",
      "Classification Report \n",
      "               precision    recall  f1-score   support\n",
      "\n",
      "         0.0       0.99      0.99      0.99     11829\n",
      "         1.0       0.37      0.50      0.42       175\n",
      "\n",
      "    accuracy                           0.98     12004\n",
      "   macro avg       0.68      0.74      0.71     12004\n",
      "weighted avg       0.98      0.98      0.98     12004\n",
      "\n"
     ]
    },
    {
     "data": {
      "image/png": "[encoded data removed]",
      "text/plain": [
       "<Figure size 432x288 with 1 Axes>"
      ]
     },
     "metadata": {
      "needs_background": "light"
     },
     "output_type": "display_data"
    }
   ],
   "source": [
    "rf_model = RandomForestClassifier()\n",
    "rf_model_SMOTE = rf_model_SMOTE.fit(X_train_Adult,y_train_Adult)\n",
    "y_pred_SMOTE = rf_model_SMOTE.predict(X_test_all)\n",
    "evaluation_score(y_test,y_pred_SMOTE)\n",
    "\n",
    "cm_SMOTE=confusion_matrix(y_test,y_pred_SMOTE)\n",
    "TN, FP, FN, TP = cm_SMOTE.ravel()\n",
    "pd.crosstab(y_test, y_pred_SMOTE, rownames = ['Actual'], colnames =['Predicted'], margins = True)\n",
    "Plotting(\"Metrics evaluation after oversampling with SMOTE \", accuracy_score(y_test,y_pred_SMOTE),precision_score(y_test,y_pred_SMOTE),recall_score(y_test,y_pred_SMOTE),specificity_score(y_test,y_pred_SMOTE)) \n",
    "#plt.savefig('rf_model_with_SMOTE_Trainedwithmale.png')"
   ]
  },
  {
   "cell_type": "code",
   "execution_count": 32,
   "id": "89670f2d",
   "metadata": {},
   "outputs": [],
   "source": [
    "def fairness_metrics(sensitive_features):\n",
    "    \"\"\"Calculate fairness for subgroup of population\"\"\"\n",
    "    \n",
    "    #Confusion Matrix\n",
    "    cm=confusion_matrix(sensitive_features['y_true'],sensitive_features['y_pred'])\n",
    "    TN, FP, FN, TP = cm.ravel()\n",
    "    \n",
    "    N = TP+FP+FN+TN #Total population\n",
    "    ACC = (TP+TN)/N #Accuracy\n",
    "    PPV = TP/(TP+FP) #Positive predictive value (Precison)\n",
    "    TPR = TP/(TP+FN) # True positive rate\n",
    "    TNR = TN/(FP+TN) # True negative rate\n",
    "    return np.array([ACC, PPV, TPR, TNR])  "
   ]
  },
  {
   "cell_type": "code",
   "execution_count": 33,
   "id": "20f64338",
   "metadata": {},
   "outputs": [],
   "source": [
    "bins= [15, 40, 65, np.inf]\n",
    "# (15,40] (40,65] and 60+ \n",
    "labels = ['Young','Adult','OLD']\n",
    "X_test_all['AgeGroup'] = pd.cut(X_test_all['Age'], bins=bins, labels=labels)\n",
    "sensitive_features = X_test_all[['Age','Gender','AgeGroup']] "
   ]
  },
  {
   "cell_type": "code",
   "execution_count": 34,
   "id": "bc4a3c77",
   "metadata": {},
   "outputs": [
    {
     "name": "stderr",
     "output_type": "stream",
     "text": [
      "<ipython-input-34-277ca21f020f>:1: SettingWithCopyWarning: \n",
      "A value is trying to be set on a copy of a slice from a DataFrame.\n",
      "Try using .loc[row_indexer,col_indexer] = value instead\n",
      "\n",
      "See the caveats in the documentation: https://pandas.pydata.org/pandas-docs/stable/user_guide/indexing.html#returning-a-view-versus-a-copy\n",
      "  sensitive_features['y_true'] =  y_test\n",
      "<ipython-input-34-277ca21f020f>:2: SettingWithCopyWarning: \n",
      "A value is trying to be set on a copy of a slice from a DataFrame.\n",
      "Try using .loc[row_indexer,col_indexer] = value instead\n",
      "\n",
      "See the caveats in the documentation: https://pandas.pydata.org/pandas-docs/stable/user_guide/indexing.html#returning-a-view-versus-a-copy\n",
      "  sensitive_features['y_pred'] = y_pred_SMOTE\n"
     ]
    }
   ],
   "source": [
    "sensitive_features['y_true'] =  y_test\n",
    "sensitive_features['y_pred'] = y_pred_SMOTE"
   ]
  },
  {
   "cell_type": "code",
   "execution_count": 35,
   "id": "dc29146d",
   "metadata": {},
   "outputs": [],
   "source": [
    "Young = fairness_metrics(sensitive_features[sensitive_features.AgeGroup=='Young'])\n",
    "Adult = fairness_metrics(sensitive_features[sensitive_features.AgeGroup=='Adult'])\n",
    "OLD = fairness_metrics(sensitive_features[sensitive_features.AgeGroup=='OLD'])"
   ]
  },
  {
   "cell_type": "code",
   "execution_count": 36,
   "id": "9dad8f0f",
   "metadata": {},
   "outputs": [
    {
     "data": {
      "image/png": "[encoded data removed]",
      "text/plain": [
       "<Figure size 432x288 with 1 Axes>"
      ]
     },
     "metadata": {
      "needs_background": "light"
     },
     "output_type": "display_data"
    }
   ],
   "source": [
    "Plotting(\"Performance metric evaluation for patients younger than 40 years\",Young[0],Young[1],Young[2],Young[3])\n",
    "#plt.savefig('metrics for young patients.png')\n",
    "\n"
   ]
  },
  {
   "cell_type": "code",
   "execution_count": 37,
   "id": "e843e9cf",
   "metadata": {},
   "outputs": [
    {
     "data": {
      "image/png": "[encoded data removed]",
      "text/plain": [
       "<Figure size 432x288 with 1 Axes>"
      ]
     },
     "metadata": {
      "needs_background": "light"
     },
     "output_type": "display_data"
    }
   ],
   "source": [
    "Plotting(\"Performance metric evaluation for adult patients\",Adult[0],Adult[1],Adult[2],Adult[3])"
   ]
  },
  {
   "cell_type": "code",
   "execution_count": 38,
   "id": "73485dff",
   "metadata": {},
   "outputs": [
    {
     "data": {
      "image/png": "[encoded data removed]",
      "text/plain": [
       "<Figure size 432x288 with 1 Axes>"
      ]
     },
     "metadata": {
      "needs_background": "light"
     },
     "output_type": "display_data"
    }
   ],
   "source": [
    "Plotting(\"Performance metric evaluation for patients older than 65 years\",OLD[0],OLD[1],OLD[2],OLD[3])"
   ]
  },
  {
   "cell_type": "code",
   "execution_count": 39,
   "id": "6220f31a",
   "metadata": {},
   "outputs": [],
   "source": [
    "def evaluation_metrics(sensitive_features):\n",
    "    \n",
    "    #Confusion Matrix\n",
    "    cm=confusion_matrix(sensitive_features['y_true'],sensitive_features['y_pred'])\n",
    "    print(cm)\n",
    "    TN, FP, FN, TP = cm.ravel() \n",
    "    \n",
    "    N = TP+FP+FN+TN #Total population\n",
    "    ACC = (TP+TN)/N #Accuracy\n",
    "    PPV = TP/(TP+FP) #Positive predictive value (Precison)\n",
    "    TPR = TP/(TP+FN) # True positive rate\n",
    "    FPR = FP/(FP+TN) # False positive rate\n",
    "    TNR = TN/(FP + TN) # True negative rate\n",
    "    FNR = FN /(FN +TP) # False negative rate\n",
    "    FDR = 1 - PPV # False discovery rate\n",
    "    df_metrics = [{'Acc': (TP+TN)/N, 'PPV': TP/(TP+FP), 'TPR' : TP/(TP+FN), 'FPR' : FP/(FP+TN), 'TNR' : TN/(FP + TN), 'FNR' : FN /(FN +TP), 'FDR' : 1 - PPV  }]\n",
    "  \n",
    "    return df_metrics"
   ]
  },
  {
   "cell_type": "code",
   "execution_count": 40,
   "id": "85e393be",
   "metadata": {},
   "outputs": [
    {
     "name": "stdout",
     "output_type": "stream",
     "text": [
      "[[1445   49]\n",
      " [  17   10]]\n",
      "[[5209    7]\n",
      " [  29   67]]\n",
      "[[5027   92]\n",
      " [  42   10]]\n"
     ]
    },
    {
     "data": {
      "text/html": [
       "<div>\n",
       "<style scoped>\n",
       "    .dataframe tbody tr th:only-of-type {\n",
       "        vertical-align: middle;\n",
       "    }\n",
       "\n",
       "    .dataframe tbody tr th {\n",
       "        vertical-align: top;\n",
       "    }\n",
       "\n",
       "    .dataframe thead th {\n",
       "        text-align: right;\n",
       "    }\n",
       "</style>\n",
       "<table border=\"1\" class=\"dataframe\">\n",
       "  <thead>\n",
       "    <tr style=\"text-align: right;\">\n",
       "      <th></th>\n",
       "      <th>Acc</th>\n",
       "      <th>PPV</th>\n",
       "      <th>TPR</th>\n",
       "      <th>FPR</th>\n",
       "      <th>TNR</th>\n",
       "      <th>FNR</th>\n",
       "      <th>FDR</th>\n",
       "    </tr>\n",
       "  </thead>\n",
       "  <tbody>\n",
       "    <tr>\n",
       "      <th>Youngs</th>\n",
       "      <td>0.956607</td>\n",
       "      <td>0.169492</td>\n",
       "      <td>0.370370</td>\n",
       "      <td>0.032798</td>\n",
       "      <td>0.967202</td>\n",
       "      <td>0.629630</td>\n",
       "      <td>0.830508</td>\n",
       "    </tr>\n",
       "    <tr>\n",
       "      <th>Adults</th>\n",
       "      <td>0.993223</td>\n",
       "      <td>0.905405</td>\n",
       "      <td>0.697917</td>\n",
       "      <td>0.001342</td>\n",
       "      <td>0.998658</td>\n",
       "      <td>0.302083</td>\n",
       "      <td>0.094595</td>\n",
       "    </tr>\n",
       "    <tr>\n",
       "      <th>Seniors</th>\n",
       "      <td>0.974086</td>\n",
       "      <td>0.098039</td>\n",
       "      <td>0.192308</td>\n",
       "      <td>0.017972</td>\n",
       "      <td>0.982028</td>\n",
       "      <td>0.807692</td>\n",
       "      <td>0.901961</td>\n",
       "    </tr>\n",
       "  </tbody>\n",
       "</table>\n",
       "</div>"
      ],
      "text/plain": [
       "              Acc       PPV       TPR       FPR       TNR       FNR       FDR\n",
       "Youngs   0.956607  0.169492  0.370370  0.032798  0.967202  0.629630  0.830508\n",
       "Adults   0.993223  0.905405  0.697917  0.001342  0.998658  0.302083  0.094595\n",
       "Seniors  0.974086  0.098039  0.192308  0.017972  0.982028  0.807692  0.901961"
      ]
     },
     "execution_count": 40,
     "metadata": {},
     "output_type": "execute_result"
    }
   ],
   "source": [
    "Youngs = evaluation_metrics(sensitive_features[sensitive_features.AgeGroup=='Young'])\n",
    "Adults = evaluation_metrics(sensitive_features[sensitive_features.AgeGroup=='Adult'])\n",
    "OLDs = evaluation_metrics(sensitive_features[sensitive_features.AgeGroup=='OLD'])\n",
    "data_metrics_Youngs = pd.DataFrame(Youngs, index= ['Youngs'])\n",
    "data_metrics_Adults = pd.DataFrame(Adults, index= ['Adults'])\n",
    "data_metrics_Olds = pd.DataFrame(OLDs, index= ['Seniors'])\n",
    "pd.concat([data_metrics_Youngs, data_metrics_Adults, data_metrics_Olds])"
   ]
  },
  {
   "cell_type": "code",
   "execution_count": null,
   "id": "4fb57595",
   "metadata": {},
   "outputs": [],
   "source": []
  }
 ],
 "metadata": {
  "kernelspec": {
   "display_name": "Python 3",
   "language": "python",
   "name": "python3"
  },
  "language_info": {
   "codemirror_mode": {
    "name": "ipython",
    "version": 3
   },
   "file_extension": ".py",
   "mimetype": "text/x-python",
   "name": "python",
   "nbconvert_exporter": "python",
   "pygments_lexer": "ipython3",
   "version": "3.8.8"
  }
 },
 "nbformat": 4,
 "nbformat_minor": 5
}
