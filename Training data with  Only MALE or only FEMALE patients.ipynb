{
 "cells": [
  {
   "cell_type": "code",
   "execution_count": 270,
   "id": "458c45c0",
   "metadata": {},
   "outputs": [],
   "source": [
    "import pandas as pd\n",
    "import os\n",
    "import pandas as pd\n",
    "import numpy as np\n",
    "import numpy\n",
    "import seaborn as sns\n",
    "import scipy.stats as stats\n",
    "import matplotlib.pyplot as plt\n",
    "from sklearn.model_selection import train_test_split\n",
    "from sklearn.preprocessing import StandardScaler\n",
    "from sklearn.linear_model import LogisticRegression\n",
    "from sklearn.svm import SVC\n",
    "from sklearn.neighbors import KNeighborsClassifier\n",
    "from sklearn.tree import DecisionTreeClassifier\n",
    "from sklearn.ensemble import RandomForestClassifier\n",
    "from sklearn.metrics import confusion_matrix, accuracy_score, classification_report\n",
    "from collections import Counter\n",
    "from imblearn.under_sampling import RandomUnderSampler\n",
    "from imblearn.over_sampling import SMOTE\n",
    "from sklearn.metrics import accuracy_score\n",
    "from sklearn.model_selection import KFold, StratifiedKFold\n",
    "from sklearn.ensemble import VotingClassifier \n",
    "from sklearn.neighbors import KNeighborsClassifier\n",
    "from sklearn.svm import SVC \n",
    "from sklearn.tree import DecisionTreeClassifier \n",
    "from sklearn.ensemble import RandomForestClassifier\n",
    "from numpy import loadtxt\n"
   ]
  },
  {
   "cell_type": "code",
   "execution_count": 271,
   "id": "05c72f57",
   "metadata": {},
   "outputs": [],
   "source": [
    "# load numpy array from csv file\n",
    "# load array\n",
    "X_train_SMOTE = loadtxt('X_train_SMOTE.csv', delimiter=',')\n",
    "y_train_SMOTE = loadtxt('y_train_SMOTE.csv', delimiter=',')\n",
    "y_pred_SMOTE = loadtxt('y_pred_SMOTE.csv', delimiter=',')\n",
    "y_test = loadtxt('y_test.csv', delimiter=',')\n",
    "X_test = pd.read_csv('X_test.csv', index_col = 0)\n",
    "# print the array\n",
    "#print(X_train_SMOTE,y_train_SMOTE)"
   ]
  },
  {
   "cell_type": "code",
   "execution_count": 308,
   "id": "ae27620b",
   "metadata": {},
   "outputs": [
    {
     "data": {
      "text/html": [
       "<div>\n",
       "<style scoped>\n",
       "    .dataframe tbody tr th:only-of-type {\n",
       "        vertical-align: middle;\n",
       "    }\n",
       "\n",
       "    .dataframe tbody tr th {\n",
       "        vertical-align: top;\n",
       "    }\n",
       "\n",
       "    .dataframe thead th {\n",
       "        text-align: right;\n",
       "    }\n",
       "</style>\n",
       "<table border=\"1\" class=\"dataframe\">\n",
       "  <thead>\n",
       "    <tr style=\"text-align: right;\">\n",
       "      <th></th>\n",
       "      <th>HR</th>\n",
       "      <th>O2Sat</th>\n",
       "      <th>Temp</th>\n",
       "      <th>SBP</th>\n",
       "      <th>MAP</th>\n",
       "      <th>DBP</th>\n",
       "      <th>Resp</th>\n",
       "      <th>Age</th>\n",
       "      <th>Gender</th>\n",
       "      <th>Unit1</th>\n",
       "      <th>Unit2</th>\n",
       "      <th>HospAdmTime</th>\n",
       "      <th>ICULOS</th>\n",
       "    </tr>\n",
       "  </thead>\n",
       "  <tbody>\n",
       "    <tr>\n",
       "      <th>5489</th>\n",
       "      <td>98.0</td>\n",
       "      <td>98.0</td>\n",
       "      <td>98.00</td>\n",
       "      <td>98.0</td>\n",
       "      <td>98.00</td>\n",
       "      <td>98.0</td>\n",
       "      <td>98.0</td>\n",
       "      <td>46</td>\n",
       "      <td>0</td>\n",
       "      <td>98.0</td>\n",
       "      <td>98.0</td>\n",
       "      <td>-4.80</td>\n",
       "      <td>19</td>\n",
       "    </tr>\n",
       "    <tr>\n",
       "      <th>2500</th>\n",
       "      <td>122.0</td>\n",
       "      <td>98.0</td>\n",
       "      <td>39.28</td>\n",
       "      <td>135.0</td>\n",
       "      <td>93.67</td>\n",
       "      <td>98.0</td>\n",
       "      <td>32.0</td>\n",
       "      <td>36</td>\n",
       "      <td>1</td>\n",
       "      <td>1.0</td>\n",
       "      <td>0.0</td>\n",
       "      <td>-0.02</td>\n",
       "      <td>24</td>\n",
       "    </tr>\n",
       "    <tr>\n",
       "      <th>30561</th>\n",
       "      <td>68.0</td>\n",
       "      <td>96.0</td>\n",
       "      <td>98.00</td>\n",
       "      <td>160.0</td>\n",
       "      <td>90.00</td>\n",
       "      <td>62.0</td>\n",
       "      <td>15.0</td>\n",
       "      <td>53</td>\n",
       "      <td>1</td>\n",
       "      <td>98.0</td>\n",
       "      <td>98.0</td>\n",
       "      <td>0.00</td>\n",
       "      <td>21</td>\n",
       "    </tr>\n",
       "    <tr>\n",
       "      <th>1925</th>\n",
       "      <td>91.0</td>\n",
       "      <td>98.5</td>\n",
       "      <td>36.90</td>\n",
       "      <td>101.5</td>\n",
       "      <td>72.50</td>\n",
       "      <td>48.5</td>\n",
       "      <td>14.0</td>\n",
       "      <td>62</td>\n",
       "      <td>1</td>\n",
       "      <td>0.0</td>\n",
       "      <td>1.0</td>\n",
       "      <td>-93.26</td>\n",
       "      <td>41</td>\n",
       "    </tr>\n",
       "    <tr>\n",
       "      <th>32849</th>\n",
       "      <td>98.0</td>\n",
       "      <td>98.0</td>\n",
       "      <td>98.00</td>\n",
       "      <td>98.0</td>\n",
       "      <td>98.00</td>\n",
       "      <td>98.0</td>\n",
       "      <td>98.0</td>\n",
       "      <td>50</td>\n",
       "      <td>0</td>\n",
       "      <td>1.0</td>\n",
       "      <td>0.0</td>\n",
       "      <td>-6.05</td>\n",
       "      <td>31</td>\n",
       "    </tr>\n",
       "    <tr>\n",
       "      <th>...</th>\n",
       "      <td>...</td>\n",
       "      <td>...</td>\n",
       "      <td>...</td>\n",
       "      <td>...</td>\n",
       "      <td>...</td>\n",
       "      <td>...</td>\n",
       "      <td>...</td>\n",
       "      <td>...</td>\n",
       "      <td>...</td>\n",
       "      <td>...</td>\n",
       "      <td>...</td>\n",
       "      <td>...</td>\n",
       "      <td>...</td>\n",
       "    </tr>\n",
       "    <tr>\n",
       "      <th>26145</th>\n",
       "      <td>127.0</td>\n",
       "      <td>94.5</td>\n",
       "      <td>38.70</td>\n",
       "      <td>86.0</td>\n",
       "      <td>70.00</td>\n",
       "      <td>60.0</td>\n",
       "      <td>5.0</td>\n",
       "      <td>58</td>\n",
       "      <td>1</td>\n",
       "      <td>0.0</td>\n",
       "      <td>1.0</td>\n",
       "      <td>-74.53</td>\n",
       "      <td>43</td>\n",
       "    </tr>\n",
       "    <tr>\n",
       "      <th>7717</th>\n",
       "      <td>97.0</td>\n",
       "      <td>94.0</td>\n",
       "      <td>98.00</td>\n",
       "      <td>147.0</td>\n",
       "      <td>98.00</td>\n",
       "      <td>72.0</td>\n",
       "      <td>21.0</td>\n",
       "      <td>60</td>\n",
       "      <td>0</td>\n",
       "      <td>98.0</td>\n",
       "      <td>98.0</td>\n",
       "      <td>-0.05</td>\n",
       "      <td>22</td>\n",
       "    </tr>\n",
       "    <tr>\n",
       "      <th>34119</th>\n",
       "      <td>76.0</td>\n",
       "      <td>100.0</td>\n",
       "      <td>36.50</td>\n",
       "      <td>88.0</td>\n",
       "      <td>80.00</td>\n",
       "      <td>77.0</td>\n",
       "      <td>17.0</td>\n",
       "      <td>60</td>\n",
       "      <td>0</td>\n",
       "      <td>98.0</td>\n",
       "      <td>98.0</td>\n",
       "      <td>-0.02</td>\n",
       "      <td>27</td>\n",
       "    </tr>\n",
       "    <tr>\n",
       "      <th>3206</th>\n",
       "      <td>77.0</td>\n",
       "      <td>100.0</td>\n",
       "      <td>98.00</td>\n",
       "      <td>169.0</td>\n",
       "      <td>110.33</td>\n",
       "      <td>98.0</td>\n",
       "      <td>14.0</td>\n",
       "      <td>61</td>\n",
       "      <td>0</td>\n",
       "      <td>1.0</td>\n",
       "      <td>0.0</td>\n",
       "      <td>-8.63</td>\n",
       "      <td>5</td>\n",
       "    </tr>\n",
       "    <tr>\n",
       "      <th>5111</th>\n",
       "      <td>80.0</td>\n",
       "      <td>97.5</td>\n",
       "      <td>98.00</td>\n",
       "      <td>114.0</td>\n",
       "      <td>90.00</td>\n",
       "      <td>76.0</td>\n",
       "      <td>23.0</td>\n",
       "      <td>66</td>\n",
       "      <td>1</td>\n",
       "      <td>1.0</td>\n",
       "      <td>0.0</td>\n",
       "      <td>-350.75</td>\n",
       "      <td>117</td>\n",
       "    </tr>\n",
       "  </tbody>\n",
       "</table>\n",
       "<p>12004 rows × 13 columns</p>\n",
       "</div>"
      ],
      "text/plain": [
       "          HR  O2Sat   Temp    SBP     MAP   DBP  Resp  Age  Gender  Unit1  \\\n",
       "5489    98.0   98.0  98.00   98.0   98.00  98.0  98.0   46       0   98.0   \n",
       "2500   122.0   98.0  39.28  135.0   93.67  98.0  32.0   36       1    1.0   \n",
       "30561   68.0   96.0  98.00  160.0   90.00  62.0  15.0   53       1   98.0   \n",
       "1925    91.0   98.5  36.90  101.5   72.50  48.5  14.0   62       1    0.0   \n",
       "32849   98.0   98.0  98.00   98.0   98.00  98.0  98.0   50       0    1.0   \n",
       "...      ...    ...    ...    ...     ...   ...   ...  ...     ...    ...   \n",
       "26145  127.0   94.5  38.70   86.0   70.00  60.0   5.0   58       1    0.0   \n",
       "7717    97.0   94.0  98.00  147.0   98.00  72.0  21.0   60       0   98.0   \n",
       "34119   76.0  100.0  36.50   88.0   80.00  77.0  17.0   60       0   98.0   \n",
       "3206    77.0  100.0  98.00  169.0  110.33  98.0  14.0   61       0    1.0   \n",
       "5111    80.0   97.5  98.00  114.0   90.00  76.0  23.0   66       1    1.0   \n",
       "\n",
       "       Unit2  HospAdmTime  ICULOS  \n",
       "5489    98.0        -4.80      19  \n",
       "2500     0.0        -0.02      24  \n",
       "30561   98.0         0.00      21  \n",
       "1925     1.0       -93.26      41  \n",
       "32849    0.0        -6.05      31  \n",
       "...      ...          ...     ...  \n",
       "26145    1.0       -74.53      43  \n",
       "7717    98.0        -0.05      22  \n",
       "34119   98.0        -0.02      27  \n",
       "3206     0.0        -8.63       5  \n",
       "5111     0.0      -350.75     117  \n",
       "\n",
       "[12004 rows x 13 columns]"
      ]
     },
     "execution_count": 308,
     "metadata": {},
     "output_type": "execute_result"
    }
   ],
   "source": [
    "X_test_all = X_test.drop(['AgeGroup'], axis=1)\n",
    "X_test_all"
   ]
  },
  {
   "cell_type": "code",
   "execution_count": 309,
   "id": "9b390e02",
   "metadata": {},
   "outputs": [
    {
     "data": {
      "text/plain": [
       "Counter({0.0: 11829, 1.0: 175})"
      ]
     },
     "execution_count": 309,
     "metadata": {},
     "output_type": "execute_result"
    }
   ],
   "source": [
    "Counter(y_test)"
   ]
  },
  {
   "cell_type": "code",
   "execution_count": 310,
   "id": "dcb950c6",
   "metadata": {},
   "outputs": [],
   "source": [
    "df_y_train = pd.DataFrame(y_train_SMOTE,columns = ['SepsisLabel'])\n"
   ]
  },
  {
   "cell_type": "code",
   "execution_count": 361,
   "id": "f7953a38",
   "metadata": {},
   "outputs": [
    {
     "name": "stdout",
     "output_type": "stream",
     "text": [
      "\n",
      " dataframe_X_train_SMOTE: \n"
     ]
    }
   ],
   "source": [
    "import numpy as np\n",
    "import pandas as pd\n",
    "  \n",
    "\n",
    "# convert numpy array to dataframe\n",
    "df_X_train = pd.DataFrame(X_train_SMOTE,columns =['HR', 'O2Sat', 'Temp', 'SBP', 'MAP', 'DBP', 'Resp', 'Age', 'Gender',\n",
    "       'Unit1', 'Unit2', 'HospAdmTime', 'ICULOS'] )\n",
    "print(\"\\n dataframe_X_train_SMOTE: \")\n",
    "\n",
    "df_X_train\n"
   ]
  },
  {
   "cell_type": "code",
   "execution_count": 378,
   "id": "5a75eab0",
   "metadata": {},
   "outputs": [
    {
     "name": "stdout",
     "output_type": "stream",
     "text": [
      "Stored 'df_X_train' (DataFrame)\n"
     ]
    }
   ],
   "source": [
    "%store df_X_train"
   ]
  },
  {
   "cell_type": "code",
   "execution_count": 362,
   "id": "3454446c",
   "metadata": {},
   "outputs": [],
   "source": [
    "Female_index = df_X_train[df_X_train['Gender'] == 0].index\n",
    "\n",
    "Male_index = df_X_train[df_X_train['Gender'] == 1].index\n"
   ]
  },
  {
   "cell_type": "code",
   "execution_count": 363,
   "id": "a0091d5f",
   "metadata": {},
   "outputs": [],
   "source": [
    "X_Train_Female = df_X_train[df_X_train['Gender'] == 0]\n",
    "X_Train_MALE = df_X_train[df_X_train['Gender'] == 1]"
   ]
  },
  {
   "cell_type": "code",
   "execution_count": 364,
   "id": "8d1f6401",
   "metadata": {},
   "outputs": [],
   "source": [
    "y_train_male = df_y_train.iloc[Male_index]\n",
    "y_train_Female = df_y_train.iloc[Female_index]"
   ]
  },
  {
   "cell_type": "code",
   "execution_count": 365,
   "id": "5bc501a3",
   "metadata": {},
   "outputs": [
    {
     "data": {
      "text/html": [
       "<div>\n",
       "<style scoped>\n",
       "    .dataframe tbody tr th:only-of-type {\n",
       "        vertical-align: middle;\n",
       "    }\n",
       "\n",
       "    .dataframe tbody tr th {\n",
       "        vertical-align: top;\n",
       "    }\n",
       "\n",
       "    .dataframe thead th {\n",
       "        text-align: right;\n",
       "    }\n",
       "</style>\n",
       "<table border=\"1\" class=\"dataframe\">\n",
       "  <thead>\n",
       "    <tr style=\"text-align: right;\">\n",
       "      <th></th>\n",
       "      <th>SepsisLabel</th>\n",
       "    </tr>\n",
       "  </thead>\n",
       "  <tbody>\n",
       "    <tr>\n",
       "      <th>0</th>\n",
       "      <td>0.0</td>\n",
       "    </tr>\n",
       "    <tr>\n",
       "      <th>2</th>\n",
       "      <td>0.0</td>\n",
       "    </tr>\n",
       "    <tr>\n",
       "      <th>3</th>\n",
       "      <td>0.0</td>\n",
       "    </tr>\n",
       "    <tr>\n",
       "      <th>4</th>\n",
       "      <td>0.0</td>\n",
       "    </tr>\n",
       "    <tr>\n",
       "      <th>6</th>\n",
       "      <td>0.0</td>\n",
       "    </tr>\n",
       "    <tr>\n",
       "      <th>...</th>\n",
       "      <td>...</td>\n",
       "    </tr>\n",
       "    <tr>\n",
       "      <th>55147</th>\n",
       "      <td>1.0</td>\n",
       "    </tr>\n",
       "    <tr>\n",
       "      <th>55148</th>\n",
       "      <td>1.0</td>\n",
       "    </tr>\n",
       "    <tr>\n",
       "      <th>55150</th>\n",
       "      <td>1.0</td>\n",
       "    </tr>\n",
       "    <tr>\n",
       "      <th>55151</th>\n",
       "      <td>1.0</td>\n",
       "    </tr>\n",
       "    <tr>\n",
       "      <th>55152</th>\n",
       "      <td>1.0</td>\n",
       "    </tr>\n",
       "  </tbody>\n",
       "</table>\n",
       "<p>26469 rows × 1 columns</p>\n",
       "</div>"
      ],
      "text/plain": [
       "       SepsisLabel\n",
       "0              0.0\n",
       "2              0.0\n",
       "3              0.0\n",
       "4              0.0\n",
       "6              0.0\n",
       "...            ...\n",
       "55147          1.0\n",
       "55148          1.0\n",
       "55150          1.0\n",
       "55151          1.0\n",
       "55152          1.0\n",
       "\n",
       "[26469 rows x 1 columns]"
      ]
     },
     "execution_count": 365,
     "metadata": {},
     "output_type": "execute_result"
    }
   ],
   "source": [
    "y_train_male"
   ]
  },
  {
   "cell_type": "code",
   "execution_count": 366,
   "id": "d2fd95a2",
   "metadata": {},
   "outputs": [
    {
     "data": {
      "text/html": [
       "<div>\n",
       "<style scoped>\n",
       "    .dataframe tbody tr th:only-of-type {\n",
       "        vertical-align: middle;\n",
       "    }\n",
       "\n",
       "    .dataframe tbody tr th {\n",
       "        vertical-align: top;\n",
       "    }\n",
       "\n",
       "    .dataframe thead th {\n",
       "        text-align: right;\n",
       "    }\n",
       "</style>\n",
       "<table border=\"1\" class=\"dataframe\">\n",
       "  <thead>\n",
       "    <tr style=\"text-align: right;\">\n",
       "      <th></th>\n",
       "      <th>SepsisLabel</th>\n",
       "    </tr>\n",
       "  </thead>\n",
       "  <tbody>\n",
       "    <tr>\n",
       "      <th>1</th>\n",
       "      <td>0.0</td>\n",
       "    </tr>\n",
       "    <tr>\n",
       "      <th>5</th>\n",
       "      <td>0.0</td>\n",
       "    </tr>\n",
       "    <tr>\n",
       "      <th>8</th>\n",
       "      <td>0.0</td>\n",
       "    </tr>\n",
       "    <tr>\n",
       "      <th>10</th>\n",
       "      <td>0.0</td>\n",
       "    </tr>\n",
       "    <tr>\n",
       "      <th>11</th>\n",
       "      <td>0.0</td>\n",
       "    </tr>\n",
       "    <tr>\n",
       "      <th>...</th>\n",
       "      <td>...</td>\n",
       "    </tr>\n",
       "    <tr>\n",
       "      <th>55143</th>\n",
       "      <td>1.0</td>\n",
       "    </tr>\n",
       "    <tr>\n",
       "      <th>55144</th>\n",
       "      <td>1.0</td>\n",
       "    </tr>\n",
       "    <tr>\n",
       "      <th>55146</th>\n",
       "      <td>1.0</td>\n",
       "    </tr>\n",
       "    <tr>\n",
       "      <th>55149</th>\n",
       "      <td>1.0</td>\n",
       "    </tr>\n",
       "    <tr>\n",
       "      <th>55153</th>\n",
       "      <td>1.0</td>\n",
       "    </tr>\n",
       "  </tbody>\n",
       "</table>\n",
       "<p>28685 rows × 1 columns</p>\n",
       "</div>"
      ],
      "text/plain": [
       "       SepsisLabel\n",
       "1              0.0\n",
       "5              0.0\n",
       "8              0.0\n",
       "10             0.0\n",
       "11             0.0\n",
       "...            ...\n",
       "55143          1.0\n",
       "55144          1.0\n",
       "55146          1.0\n",
       "55149          1.0\n",
       "55153          1.0\n",
       "\n",
       "[28685 rows x 1 columns]"
      ]
     },
     "execution_count": 366,
     "metadata": {},
     "output_type": "execute_result"
    }
   ],
   "source": [
    "y_train_Female"
   ]
  },
  {
   "cell_type": "code",
   "execution_count": 367,
   "id": "4dda145b",
   "metadata": {},
   "outputs": [
    {
     "data": {
      "text/html": [
       "<div>\n",
       "<style scoped>\n",
       "    .dataframe tbody tr th:only-of-type {\n",
       "        vertical-align: middle;\n",
       "    }\n",
       "\n",
       "    .dataframe tbody tr th {\n",
       "        vertical-align: top;\n",
       "    }\n",
       "\n",
       "    .dataframe thead th {\n",
       "        text-align: right;\n",
       "    }\n",
       "</style>\n",
       "<table border=\"1\" class=\"dataframe\">\n",
       "  <thead>\n",
       "    <tr style=\"text-align: right;\">\n",
       "      <th></th>\n",
       "      <th>HR</th>\n",
       "      <th>O2Sat</th>\n",
       "      <th>Temp</th>\n",
       "      <th>SBP</th>\n",
       "      <th>MAP</th>\n",
       "      <th>DBP</th>\n",
       "      <th>Resp</th>\n",
       "      <th>Age</th>\n",
       "      <th>Gender</th>\n",
       "      <th>Unit1</th>\n",
       "      <th>Unit2</th>\n",
       "      <th>HospAdmTime</th>\n",
       "      <th>ICULOS</th>\n",
       "    </tr>\n",
       "  </thead>\n",
       "  <tbody>\n",
       "    <tr>\n",
       "      <th>1</th>\n",
       "      <td>101.000000</td>\n",
       "      <td>99.000000</td>\n",
       "      <td>36.100000</td>\n",
       "      <td>146.000000</td>\n",
       "      <td>121.000000</td>\n",
       "      <td>104.000000</td>\n",
       "      <td>20.000000</td>\n",
       "      <td>30.0</td>\n",
       "      <td>0.0</td>\n",
       "      <td>1.0</td>\n",
       "      <td>0.0</td>\n",
       "      <td>-7.810000</td>\n",
       "      <td>8.0</td>\n",
       "    </tr>\n",
       "    <tr>\n",
       "      <th>5</th>\n",
       "      <td>94.000000</td>\n",
       "      <td>98.000000</td>\n",
       "      <td>98.000000</td>\n",
       "      <td>120.000000</td>\n",
       "      <td>90.000000</td>\n",
       "      <td>82.000000</td>\n",
       "      <td>18.000000</td>\n",
       "      <td>34.0</td>\n",
       "      <td>0.0</td>\n",
       "      <td>98.0</td>\n",
       "      <td>98.0</td>\n",
       "      <td>-2.360000</td>\n",
       "      <td>48.0</td>\n",
       "    </tr>\n",
       "    <tr>\n",
       "      <th>8</th>\n",
       "      <td>69.000000</td>\n",
       "      <td>100.000000</td>\n",
       "      <td>98.000000</td>\n",
       "      <td>105.000000</td>\n",
       "      <td>62.000000</td>\n",
       "      <td>44.000000</td>\n",
       "      <td>10.000000</td>\n",
       "      <td>35.0</td>\n",
       "      <td>0.0</td>\n",
       "      <td>0.0</td>\n",
       "      <td>1.0</td>\n",
       "      <td>-210.310000</td>\n",
       "      <td>23.0</td>\n",
       "    </tr>\n",
       "    <tr>\n",
       "      <th>10</th>\n",
       "      <td>72.000000</td>\n",
       "      <td>95.000000</td>\n",
       "      <td>98.000000</td>\n",
       "      <td>182.000000</td>\n",
       "      <td>130.000000</td>\n",
       "      <td>112.000000</td>\n",
       "      <td>98.000000</td>\n",
       "      <td>75.0</td>\n",
       "      <td>0.0</td>\n",
       "      <td>98.0</td>\n",
       "      <td>98.0</td>\n",
       "      <td>0.000000</td>\n",
       "      <td>36.0</td>\n",
       "    </tr>\n",
       "    <tr>\n",
       "      <th>11</th>\n",
       "      <td>55.000000</td>\n",
       "      <td>96.000000</td>\n",
       "      <td>98.000000</td>\n",
       "      <td>120.000000</td>\n",
       "      <td>85.000000</td>\n",
       "      <td>59.000000</td>\n",
       "      <td>19.000000</td>\n",
       "      <td>81.0</td>\n",
       "      <td>0.0</td>\n",
       "      <td>98.0</td>\n",
       "      <td>98.0</td>\n",
       "      <td>-3.150000</td>\n",
       "      <td>28.0</td>\n",
       "    </tr>\n",
       "    <tr>\n",
       "      <th>...</th>\n",
       "      <td>...</td>\n",
       "      <td>...</td>\n",
       "      <td>...</td>\n",
       "      <td>...</td>\n",
       "      <td>...</td>\n",
       "      <td>...</td>\n",
       "      <td>...</td>\n",
       "      <td>...</td>\n",
       "      <td>...</td>\n",
       "      <td>...</td>\n",
       "      <td>...</td>\n",
       "      <td>...</td>\n",
       "      <td>...</td>\n",
       "    </tr>\n",
       "    <tr>\n",
       "      <th>55143</th>\n",
       "      <td>86.493611</td>\n",
       "      <td>97.534345</td>\n",
       "      <td>37.624681</td>\n",
       "      <td>159.130392</td>\n",
       "      <td>98.000000</td>\n",
       "      <td>66.232827</td>\n",
       "      <td>22.061701</td>\n",
       "      <td>76.0</td>\n",
       "      <td>0.0</td>\n",
       "      <td>0.0</td>\n",
       "      <td>1.0</td>\n",
       "      <td>-88.545873</td>\n",
       "      <td>40.0</td>\n",
       "    </tr>\n",
       "    <tr>\n",
       "      <th>55144</th>\n",
       "      <td>97.481069</td>\n",
       "      <td>100.000000</td>\n",
       "      <td>98.000000</td>\n",
       "      <td>110.278397</td>\n",
       "      <td>76.670824</td>\n",
       "      <td>60.582183</td>\n",
       "      <td>18.784855</td>\n",
       "      <td>40.0</td>\n",
       "      <td>0.0</td>\n",
       "      <td>1.0</td>\n",
       "      <td>0.0</td>\n",
       "      <td>-7.451679</td>\n",
       "      <td>26.0</td>\n",
       "    </tr>\n",
       "    <tr>\n",
       "      <th>55146</th>\n",
       "      <td>87.763352</td>\n",
       "      <td>96.000000</td>\n",
       "      <td>98.000000</td>\n",
       "      <td>140.242726</td>\n",
       "      <td>110.479374</td>\n",
       "      <td>90.668692</td>\n",
       "      <td>25.047330</td>\n",
       "      <td>56.0</td>\n",
       "      <td>0.0</td>\n",
       "      <td>1.0</td>\n",
       "      <td>0.0</td>\n",
       "      <td>-90.510000</td>\n",
       "      <td>22.0</td>\n",
       "    </tr>\n",
       "    <tr>\n",
       "      <th>55149</th>\n",
       "      <td>89.216935</td>\n",
       "      <td>97.874193</td>\n",
       "      <td>37.048331</td>\n",
       "      <td>107.342742</td>\n",
       "      <td>73.845968</td>\n",
       "      <td>59.223389</td>\n",
       "      <td>16.108467</td>\n",
       "      <td>64.0</td>\n",
       "      <td>0.0</td>\n",
       "      <td>98.0</td>\n",
       "      <td>98.0</td>\n",
       "      <td>-0.971928</td>\n",
       "      <td>18.0</td>\n",
       "    </tr>\n",
       "    <tr>\n",
       "      <th>55153</th>\n",
       "      <td>114.792918</td>\n",
       "      <td>99.000000</td>\n",
       "      <td>98.000000</td>\n",
       "      <td>133.000000</td>\n",
       "      <td>92.448229</td>\n",
       "      <td>66.551771</td>\n",
       "      <td>98.000000</td>\n",
       "      <td>62.0</td>\n",
       "      <td>0.0</td>\n",
       "      <td>1.0</td>\n",
       "      <td>0.0</td>\n",
       "      <td>-3.300000</td>\n",
       "      <td>22.0</td>\n",
       "    </tr>\n",
       "  </tbody>\n",
       "</table>\n",
       "<p>28685 rows × 13 columns</p>\n",
       "</div>"
      ],
      "text/plain": [
       "               HR       O2Sat       Temp         SBP         MAP         DBP  \\\n",
       "1      101.000000   99.000000  36.100000  146.000000  121.000000  104.000000   \n",
       "5       94.000000   98.000000  98.000000  120.000000   90.000000   82.000000   \n",
       "8       69.000000  100.000000  98.000000  105.000000   62.000000   44.000000   \n",
       "10      72.000000   95.000000  98.000000  182.000000  130.000000  112.000000   \n",
       "11      55.000000   96.000000  98.000000  120.000000   85.000000   59.000000   \n",
       "...           ...         ...        ...         ...         ...         ...   \n",
       "55143   86.493611   97.534345  37.624681  159.130392   98.000000   66.232827   \n",
       "55144   97.481069  100.000000  98.000000  110.278397   76.670824   60.582183   \n",
       "55146   87.763352   96.000000  98.000000  140.242726  110.479374   90.668692   \n",
       "55149   89.216935   97.874193  37.048331  107.342742   73.845968   59.223389   \n",
       "55153  114.792918   99.000000  98.000000  133.000000   92.448229   66.551771   \n",
       "\n",
       "            Resp   Age  Gender  Unit1  Unit2  HospAdmTime  ICULOS  \n",
       "1      20.000000  30.0     0.0    1.0    0.0    -7.810000     8.0  \n",
       "5      18.000000  34.0     0.0   98.0   98.0    -2.360000    48.0  \n",
       "8      10.000000  35.0     0.0    0.0    1.0  -210.310000    23.0  \n",
       "10     98.000000  75.0     0.0   98.0   98.0     0.000000    36.0  \n",
       "11     19.000000  81.0     0.0   98.0   98.0    -3.150000    28.0  \n",
       "...          ...   ...     ...    ...    ...          ...     ...  \n",
       "55143  22.061701  76.0     0.0    0.0    1.0   -88.545873    40.0  \n",
       "55144  18.784855  40.0     0.0    1.0    0.0    -7.451679    26.0  \n",
       "55146  25.047330  56.0     0.0    1.0    0.0   -90.510000    22.0  \n",
       "55149  16.108467  64.0     0.0   98.0   98.0    -0.971928    18.0  \n",
       "55153  98.000000  62.0     0.0    1.0    0.0    -3.300000    22.0  \n",
       "\n",
       "[28685 rows x 13 columns]"
      ]
     },
     "execution_count": 367,
     "metadata": {},
     "output_type": "execute_result"
    }
   ],
   "source": [
    "X_Train_Female\n"
   ]
  },
  {
   "cell_type": "code",
   "execution_count": 368,
   "id": "8cc6713e",
   "metadata": {},
   "outputs": [
    {
     "data": {
      "text/html": [
       "<div>\n",
       "<style scoped>\n",
       "    .dataframe tbody tr th:only-of-type {\n",
       "        vertical-align: middle;\n",
       "    }\n",
       "\n",
       "    .dataframe tbody tr th {\n",
       "        vertical-align: top;\n",
       "    }\n",
       "\n",
       "    .dataframe thead th {\n",
       "        text-align: right;\n",
       "    }\n",
       "</style>\n",
       "<table border=\"1\" class=\"dataframe\">\n",
       "  <thead>\n",
       "    <tr style=\"text-align: right;\">\n",
       "      <th></th>\n",
       "      <th>HR</th>\n",
       "      <th>O2Sat</th>\n",
       "      <th>Temp</th>\n",
       "      <th>SBP</th>\n",
       "      <th>MAP</th>\n",
       "      <th>DBP</th>\n",
       "      <th>Resp</th>\n",
       "      <th>Age</th>\n",
       "      <th>Gender</th>\n",
       "      <th>Unit1</th>\n",
       "      <th>Unit2</th>\n",
       "      <th>HospAdmTime</th>\n",
       "      <th>ICULOS</th>\n",
       "    </tr>\n",
       "  </thead>\n",
       "  <tbody>\n",
       "    <tr>\n",
       "      <th>0</th>\n",
       "      <td>100.000000</td>\n",
       "      <td>98.500000</td>\n",
       "      <td>37.500000</td>\n",
       "      <td>110.000000</td>\n",
       "      <td>70.000000</td>\n",
       "      <td>51.000000</td>\n",
       "      <td>18.0</td>\n",
       "      <td>61.0</td>\n",
       "      <td>1.0</td>\n",
       "      <td>0.000000</td>\n",
       "      <td>1.000000</td>\n",
       "      <td>-141.650000</td>\n",
       "      <td>35.0</td>\n",
       "    </tr>\n",
       "    <tr>\n",
       "      <th>2</th>\n",
       "      <td>98.000000</td>\n",
       "      <td>98.000000</td>\n",
       "      <td>98.000000</td>\n",
       "      <td>98.000000</td>\n",
       "      <td>98.000000</td>\n",
       "      <td>98.000000</td>\n",
       "      <td>98.0</td>\n",
       "      <td>66.0</td>\n",
       "      <td>1.0</td>\n",
       "      <td>98.000000</td>\n",
       "      <td>98.000000</td>\n",
       "      <td>-2.940000</td>\n",
       "      <td>16.0</td>\n",
       "    </tr>\n",
       "    <tr>\n",
       "      <th>3</th>\n",
       "      <td>98.000000</td>\n",
       "      <td>98.000000</td>\n",
       "      <td>98.000000</td>\n",
       "      <td>98.000000</td>\n",
       "      <td>98.000000</td>\n",
       "      <td>98.000000</td>\n",
       "      <td>98.0</td>\n",
       "      <td>69.0</td>\n",
       "      <td>1.0</td>\n",
       "      <td>98.000000</td>\n",
       "      <td>98.000000</td>\n",
       "      <td>-2.890000</td>\n",
       "      <td>45.0</td>\n",
       "    </tr>\n",
       "    <tr>\n",
       "      <th>4</th>\n",
       "      <td>98.000000</td>\n",
       "      <td>98.000000</td>\n",
       "      <td>98.000000</td>\n",
       "      <td>98.000000</td>\n",
       "      <td>98.000000</td>\n",
       "      <td>98.000000</td>\n",
       "      <td>98.0</td>\n",
       "      <td>100.0</td>\n",
       "      <td>1.0</td>\n",
       "      <td>1.000000</td>\n",
       "      <td>0.000000</td>\n",
       "      <td>-180.740000</td>\n",
       "      <td>1.0</td>\n",
       "    </tr>\n",
       "    <tr>\n",
       "      <th>6</th>\n",
       "      <td>71.000000</td>\n",
       "      <td>100.000000</td>\n",
       "      <td>37.400000</td>\n",
       "      <td>110.000000</td>\n",
       "      <td>72.000000</td>\n",
       "      <td>51.000000</td>\n",
       "      <td>24.0</td>\n",
       "      <td>69.0</td>\n",
       "      <td>1.0</td>\n",
       "      <td>0.000000</td>\n",
       "      <td>1.000000</td>\n",
       "      <td>-192.330000</td>\n",
       "      <td>27.0</td>\n",
       "    </tr>\n",
       "    <tr>\n",
       "      <th>...</th>\n",
       "      <td>...</td>\n",
       "      <td>...</td>\n",
       "      <td>...</td>\n",
       "      <td>...</td>\n",
       "      <td>...</td>\n",
       "      <td>...</td>\n",
       "      <td>...</td>\n",
       "      <td>...</td>\n",
       "      <td>...</td>\n",
       "      <td>...</td>\n",
       "      <td>...</td>\n",
       "      <td>...</td>\n",
       "      <td>...</td>\n",
       "    </tr>\n",
       "    <tr>\n",
       "      <th>55147</th>\n",
       "      <td>108.985076</td>\n",
       "      <td>96.492538</td>\n",
       "      <td>36.501492</td>\n",
       "      <td>102.522387</td>\n",
       "      <td>82.985076</td>\n",
       "      <td>70.014924</td>\n",
       "      <td>25.0</td>\n",
       "      <td>79.0</td>\n",
       "      <td>1.0</td>\n",
       "      <td>1.000000</td>\n",
       "      <td>0.000000</td>\n",
       "      <td>-60.340000</td>\n",
       "      <td>10.0</td>\n",
       "    </tr>\n",
       "    <tr>\n",
       "      <th>55148</th>\n",
       "      <td>98.642882</td>\n",
       "      <td>98.045102</td>\n",
       "      <td>36.488724</td>\n",
       "      <td>128.706835</td>\n",
       "      <td>103.150457</td>\n",
       "      <td>76.687984</td>\n",
       "      <td>98.0</td>\n",
       "      <td>26.0</td>\n",
       "      <td>1.0</td>\n",
       "      <td>0.000000</td>\n",
       "      <td>1.000000</td>\n",
       "      <td>-6.001248</td>\n",
       "      <td>25.0</td>\n",
       "    </tr>\n",
       "    <tr>\n",
       "      <th>55150</th>\n",
       "      <td>98.000000</td>\n",
       "      <td>98.000000</td>\n",
       "      <td>98.000000</td>\n",
       "      <td>98.000000</td>\n",
       "      <td>98.000000</td>\n",
       "      <td>98.000000</td>\n",
       "      <td>98.0</td>\n",
       "      <td>75.0</td>\n",
       "      <td>1.0</td>\n",
       "      <td>0.126677</td>\n",
       "      <td>0.873323</td>\n",
       "      <td>-110.244767</td>\n",
       "      <td>1.0</td>\n",
       "    </tr>\n",
       "    <tr>\n",
       "      <th>55151</th>\n",
       "      <td>96.908068</td>\n",
       "      <td>96.266818</td>\n",
       "      <td>98.000000</td>\n",
       "      <td>128.275795</td>\n",
       "      <td>65.766818</td>\n",
       "      <td>45.150227</td>\n",
       "      <td>21.0</td>\n",
       "      <td>31.0</td>\n",
       "      <td>1.0</td>\n",
       "      <td>98.000000</td>\n",
       "      <td>98.000000</td>\n",
       "      <td>-0.020000</td>\n",
       "      <td>10.0</td>\n",
       "    </tr>\n",
       "    <tr>\n",
       "      <th>55152</th>\n",
       "      <td>92.967422</td>\n",
       "      <td>99.266804</td>\n",
       "      <td>36.600000</td>\n",
       "      <td>113.382887</td>\n",
       "      <td>74.183299</td>\n",
       "      <td>59.000000</td>\n",
       "      <td>14.0</td>\n",
       "      <td>68.0</td>\n",
       "      <td>1.0</td>\n",
       "      <td>1.000000</td>\n",
       "      <td>0.000000</td>\n",
       "      <td>-6.760000</td>\n",
       "      <td>35.0</td>\n",
       "    </tr>\n",
       "  </tbody>\n",
       "</table>\n",
       "<p>26469 rows × 13 columns</p>\n",
       "</div>"
      ],
      "text/plain": [
       "               HR       O2Sat       Temp         SBP         MAP        DBP  \\\n",
       "0      100.000000   98.500000  37.500000  110.000000   70.000000  51.000000   \n",
       "2       98.000000   98.000000  98.000000   98.000000   98.000000  98.000000   \n",
       "3       98.000000   98.000000  98.000000   98.000000   98.000000  98.000000   \n",
       "4       98.000000   98.000000  98.000000   98.000000   98.000000  98.000000   \n",
       "6       71.000000  100.000000  37.400000  110.000000   72.000000  51.000000   \n",
       "...           ...         ...        ...         ...         ...        ...   \n",
       "55147  108.985076   96.492538  36.501492  102.522387   82.985076  70.014924   \n",
       "55148   98.642882   98.045102  36.488724  128.706835  103.150457  76.687984   \n",
       "55150   98.000000   98.000000  98.000000   98.000000   98.000000  98.000000   \n",
       "55151   96.908068   96.266818  98.000000  128.275795   65.766818  45.150227   \n",
       "55152   92.967422   99.266804  36.600000  113.382887   74.183299  59.000000   \n",
       "\n",
       "       Resp    Age  Gender      Unit1      Unit2  HospAdmTime  ICULOS  \n",
       "0      18.0   61.0     1.0   0.000000   1.000000  -141.650000    35.0  \n",
       "2      98.0   66.0     1.0  98.000000  98.000000    -2.940000    16.0  \n",
       "3      98.0   69.0     1.0  98.000000  98.000000    -2.890000    45.0  \n",
       "4      98.0  100.0     1.0   1.000000   0.000000  -180.740000     1.0  \n",
       "6      24.0   69.0     1.0   0.000000   1.000000  -192.330000    27.0  \n",
       "...     ...    ...     ...        ...        ...          ...     ...  \n",
       "55147  25.0   79.0     1.0   1.000000   0.000000   -60.340000    10.0  \n",
       "55148  98.0   26.0     1.0   0.000000   1.000000    -6.001248    25.0  \n",
       "55150  98.0   75.0     1.0   0.126677   0.873323  -110.244767     1.0  \n",
       "55151  21.0   31.0     1.0  98.000000  98.000000    -0.020000    10.0  \n",
       "55152  14.0   68.0     1.0   1.000000   0.000000    -6.760000    35.0  \n",
       "\n",
       "[26469 rows x 13 columns]"
      ]
     },
     "execution_count": 368,
     "metadata": {},
     "output_type": "execute_result"
    }
   ],
   "source": [
    "X_Train_MALE"
   ]
  },
  {
   "cell_type": "code",
   "execution_count": 369,
   "id": "04ae46ca",
   "metadata": {},
   "outputs": [],
   "source": [
    "#functions to generate accuracy report\n",
    "def evaluation_score (y_test,y_pred):\n",
    "    cm = confusion_matrix(y_test,y_pred) \n",
    "    print(\"Confusion Matrix \\n\", cm)\n",
    "    print(\"Classification Report \\n\", classification_report(y_test,y_pred))"
   ]
  },
  {
   "cell_type": "code",
   "execution_count": 370,
   "id": "c60b84bd",
   "metadata": {},
   "outputs": [],
   "source": [
    "def specificity_score (y_test,y_pred):\n",
    "    cm=confusion_matrix(y_test,y_pred)\n",
    "    TN, FP, FN, TP = cm.ravel()\n",
    "    specificity = TN / (TN+FP)\n",
    "    return specificity"
   ]
  },
  {
   "cell_type": "code",
   "execution_count": 371,
   "id": "cb3d6d81",
   "metadata": {},
   "outputs": [],
   "source": [
    "def Plotting(Plots_title, Acc, Pre, Sens, Spec):\n",
    "    \n",
    "    plot = plt.figure()\n",
    "    axes = plot.add_axes([0,0,1,1])\n",
    "    metrics = ['Accuracy',  'Precision', 'Sensitivity','Specificty']\n",
    "    values = [Acc, Pre, Sens, Spec]\n",
    "    barlist = axes.bar(metrics,values, width=0.5)\n",
    "    barlist[0].set_color('royalblue')\n",
    "    barlist[1].set_color('green')\n",
    "    barlist[2].set_color('orange')\n",
    "    barlist[3].set_color('yellow')\n",
    "    axes.set_yticks(np.arange(0, 1.25, 0.5))\n",
    "    axes.set_title(Plots_title)\n",
    "    def autolabel(rects):\n",
    "        for idx,rect in enumerate(barlist):\n",
    "            height = rect.get_height()\n",
    "            axes.text(rect.get_x() + rect.get_width()/2., 1*height,\n",
    "                    round(values[idx],3),\n",
    "                    ha='center', va='bottom', rotation=0)\n",
    "\n",
    "    autolabel(barlist)\n",
    "    plt.show()\n",
    "\n"
   ]
  },
  {
   "cell_type": "code",
   "execution_count": 372,
   "id": "67df8149",
   "metadata": {},
   "outputs": [],
   "source": [
    "import joblib\n",
    "# load\n",
    "rf_model_SMOTE = joblib.load(\"my_random_forest.joblib\")"
   ]
  },
  {
   "cell_type": "code",
   "execution_count": 373,
   "id": "7f6ac635",
   "metadata": {},
   "outputs": [
    {
     "data": {
      "text/plain": [
       "array([0., 0., 0., ..., 1., 1., 1.])"
      ]
     },
     "execution_count": 373,
     "metadata": {},
     "output_type": "execute_result"
    }
   ],
   "source": [
    "y_train_SMOTE\n"
   ]
  },
  {
   "cell_type": "markdown",
   "id": "66785a87",
   "metadata": {},
   "source": [
    "# Model training with only male patients\n",
    "\n",
    "## Test data set includes all the patients "
   ]
  },
  {
   "cell_type": "code",
   "execution_count": 374,
   "id": "32878525",
   "metadata": {},
   "outputs": [],
   "source": [
    "\n",
    "#Metrics packages\n",
    "from sklearn import metrics\n",
    "from sklearn.metrics import classification_report, confusion_matrix\n",
    "from sklearn.model_selection import cross_val_score\n",
    "from sklearn.model_selection import KFold\n",
    "from sklearn.metrics import accuracy_score \n",
    "import warnings\n",
    "from sklearn.metrics import precision_score, recall_score, make_scorer, accuracy_score"
   ]
  },
  {
   "cell_type": "code",
   "execution_count": 375,
   "id": "81986f15",
   "metadata": {},
   "outputs": [
    {
     "name": "stderr",
     "output_type": "stream",
     "text": [
      "<ipython-input-375-80cf783eb393>:3: DataConversionWarning: A column-vector y was passed when a 1d array was expected. Please change the shape of y to (n_samples,), for example using ravel().\n",
      "  rf_model_SMOTE = rf_model_SMOTE.fit(X_Train_MALE,y_train_male)\n"
     ]
    },
    {
     "name": "stdout",
     "output_type": "stream",
     "text": [
      "Confusion Matrix \n",
      " [[11784    45]\n",
      " [  124    51]]\n",
      "Classification Report \n",
      "               precision    recall  f1-score   support\n",
      "\n",
      "         0.0       0.99      1.00      0.99     11829\n",
      "         1.0       0.53      0.29      0.38       175\n",
      "\n",
      "    accuracy                           0.99     12004\n",
      "   macro avg       0.76      0.64      0.68     12004\n",
      "weighted avg       0.98      0.99      0.98     12004\n",
      "\n"
     ]
    },
    {
     "data": {
      "image/png": "[encoded data removed]",
      "text/plain": [
       "<Figure size 432x288 with 1 Axes>"
      ]
     },
     "metadata": {
      "needs_background": "light"
     },
     "output_type": "display_data"
    },
    {
     "data": {
      "text/plain": [
       "<Figure size 432x288 with 0 Axes>"
      ]
     },
     "metadata": {},
     "output_type": "display_data"
    }
   ],
   "source": [
    "from sklearn.ensemble import RandomForestClassifier\n",
    "rf_model = RandomForestClassifier()\n",
    "rf_model_SMOTE = rf_model_SMOTE.fit(X_Train_MALE,y_train_male)\n",
    "y_pred_SMOTE = rf_model_SMOTE.predict(X_test_all)\n",
    "evaluation_score(y_test,y_pred_SMOTE)\n",
    "\n",
    "cm_SMOTE=confusion_matrix(y_test,y_pred_SMOTE)\n",
    "TN, FP, FN, TP = cm_SMOTE.ravel()\n",
    "pd.crosstab(y_test, y_pred_SMOTE, rownames = ['Actual'], colnames =['Predicted'], margins = True)\n",
    "Plotting(\"Metrics evaluation after oversampling with SMOTE \", accuracy_score(y_test,y_pred_SMOTE),precision_score(y_test,y_pred_SMOTE),recall_score(y_test,y_pred_SMOTE),specificity_score(y_test,y_pred_SMOTE)) \n",
    "plt.savefig('rf_model_with_SMOTE_Trainedwithmale.png')"
   ]
  },
  {
   "cell_type": "code",
   "execution_count": 376,
   "id": "105b7fe9",
   "metadata": {},
   "outputs": [
    {
     "data": {
      "text/html": [
       "<div>\n",
       "<style scoped>\n",
       "    .dataframe tbody tr th:only-of-type {\n",
       "        vertical-align: middle;\n",
       "    }\n",
       "\n",
       "    .dataframe tbody tr th {\n",
       "        vertical-align: top;\n",
       "    }\n",
       "\n",
       "    .dataframe thead th {\n",
       "        text-align: right;\n",
       "    }\n",
       "</style>\n",
       "<table border=\"1\" class=\"dataframe\">\n",
       "  <thead>\n",
       "    <tr style=\"text-align: right;\">\n",
       "      <th></th>\n",
       "      <th>Age</th>\n",
       "      <th>Gender</th>\n",
       "    </tr>\n",
       "  </thead>\n",
       "  <tbody>\n",
       "    <tr>\n",
       "      <th>5489</th>\n",
       "      <td>46</td>\n",
       "      <td>0</td>\n",
       "    </tr>\n",
       "    <tr>\n",
       "      <th>2500</th>\n",
       "      <td>36</td>\n",
       "      <td>1</td>\n",
       "    </tr>\n",
       "    <tr>\n",
       "      <th>30561</th>\n",
       "      <td>53</td>\n",
       "      <td>1</td>\n",
       "    </tr>\n",
       "    <tr>\n",
       "      <th>1925</th>\n",
       "      <td>62</td>\n",
       "      <td>1</td>\n",
       "    </tr>\n",
       "    <tr>\n",
       "      <th>32849</th>\n",
       "      <td>50</td>\n",
       "      <td>0</td>\n",
       "    </tr>\n",
       "    <tr>\n",
       "      <th>...</th>\n",
       "      <td>...</td>\n",
       "      <td>...</td>\n",
       "    </tr>\n",
       "    <tr>\n",
       "      <th>26145</th>\n",
       "      <td>58</td>\n",
       "      <td>1</td>\n",
       "    </tr>\n",
       "    <tr>\n",
       "      <th>7717</th>\n",
       "      <td>60</td>\n",
       "      <td>0</td>\n",
       "    </tr>\n",
       "    <tr>\n",
       "      <th>34119</th>\n",
       "      <td>60</td>\n",
       "      <td>0</td>\n",
       "    </tr>\n",
       "    <tr>\n",
       "      <th>3206</th>\n",
       "      <td>61</td>\n",
       "      <td>0</td>\n",
       "    </tr>\n",
       "    <tr>\n",
       "      <th>5111</th>\n",
       "      <td>66</td>\n",
       "      <td>1</td>\n",
       "    </tr>\n",
       "  </tbody>\n",
       "</table>\n",
       "<p>12004 rows × 2 columns</p>\n",
       "</div>"
      ],
      "text/plain": [
       "       Age  Gender\n",
       "5489    46       0\n",
       "2500    36       1\n",
       "30561   53       1\n",
       "1925    62       1\n",
       "32849   50       0\n",
       "...    ...     ...\n",
       "26145   58       1\n",
       "7717    60       0\n",
       "34119   60       0\n",
       "3206    61       0\n",
       "5111    66       1\n",
       "\n",
       "[12004 rows x 2 columns]"
      ]
     },
     "execution_count": 376,
     "metadata": {},
     "output_type": "execute_result"
    }
   ],
   "source": [
    "sensitive_features = X_test[['Age','Gender']] \n",
    "sensitive_features"
   ]
  },
  {
   "cell_type": "code",
   "execution_count": 381,
   "id": "5027c5f9",
   "metadata": {},
   "outputs": [
    {
     "name": "stderr",
     "output_type": "stream",
     "text": [
      "<ipython-input-381-277ca21f020f>:1: SettingWithCopyWarning: \n",
      "A value is trying to be set on a copy of a slice from a DataFrame.\n",
      "Try using .loc[row_indexer,col_indexer] = value instead\n",
      "\n",
      "See the caveats in the documentation: https://pandas.pydata.org/pandas-docs/stable/user_guide/indexing.html#returning-a-view-versus-a-copy\n",
      "  sensitive_features['y_true'] =  y_test\n",
      "<ipython-input-381-277ca21f020f>:2: SettingWithCopyWarning: \n",
      "A value is trying to be set on a copy of a slice from a DataFrame.\n",
      "Try using .loc[row_indexer,col_indexer] = value instead\n",
      "\n",
      "See the caveats in the documentation: https://pandas.pydata.org/pandas-docs/stable/user_guide/indexing.html#returning-a-view-versus-a-copy\n",
      "  sensitive_features['y_pred'] = y_pred_SMOTE\n"
     ]
    }
   ],
   "source": [
    "sensitive_features['y_true'] =  y_test\n",
    "sensitive_features['y_pred'] = y_pred_SMOTE"
   ]
  },
  {
   "cell_type": "code",
   "execution_count": 382,
   "id": "8d1cef04",
   "metadata": {},
   "outputs": [],
   "source": [
    "def fairness_metrics(sensitive_features):\n",
    "    \"\"\"Calculate fairness for subgroup of population\"\"\"\n",
    "    \n",
    "    #Confusion Matrix\n",
    "    cm=confusion_matrix(sensitive_features['y_true'],sensitive_features['y_pred'])\n",
    "    TN, FP, FN, TP = cm.ravel()\n",
    "    \n",
    "    N = TP+FP+FN+TN #Total population\n",
    "    ACC = (TP+TN)/N #Accuracy\n",
    "    PPV = TP/(TP+FP) #Positive predictive value (Precison)\n",
    "    TPR = TP/(TP+FN) # True positive rate\n",
    "    TNR = TN/(FP+TN) # True negative rate\n",
    "    return np.array([ACC, PPV, TPR, TNR])  "
   ]
  },
  {
   "cell_type": "code",
   "execution_count": 383,
   "id": "e1f164c5",
   "metadata": {},
   "outputs": [],
   "source": [
    "fm_Gender_1 = fairness_metrics(sensitive_features[sensitive_features.Gender==1])\n",
    "fm_Gender_0 = fairness_metrics(sensitive_features[sensitive_features.Gender==0])"
   ]
  },
  {
   "cell_type": "code",
   "execution_count": 384,
   "id": "9dc12b6c",
   "metadata": {},
   "outputs": [
    {
     "data": {
      "image/png": "[encoded data removed]",
      "text/plain": [
       "<Figure size 432x288 with 1 Axes>"
      ]
     },
     "metadata": {
      "needs_background": "light"
     },
     "output_type": "display_data"
    }
   ],
   "source": [
    "Plotting(\"Evaluation of male patients' performance metrics\", fm_Gender_1[0],fm_Gender_1[1],fm_Gender_1[2],fm_Gender_1[3])\n",
    "#plt.savefig('barplots for male patients while training only male.png')"
   ]
  },
  {
   "cell_type": "code",
   "execution_count": 385,
   "id": "c4d49d4f",
   "metadata": {},
   "outputs": [
    {
     "data": {
      "image/png": "[encoded data removed]",
      "text/plain": [
       "<Figure size 432x288 with 1 Axes>"
      ]
     },
     "metadata": {
      "needs_background": "light"
     },
     "output_type": "display_data"
    },
    {
     "data": {
      "text/plain": [
       "<Figure size 432x288 with 0 Axes>"
      ]
     },
     "metadata": {},
     "output_type": "display_data"
    }
   ],
   "source": [
    "Plotting(\"Evaluation of female patients' performance metrics\",fm_Gender_0[0],fm_Gender_0[1],fm_Gender_0[2],fm_Gender_0[3])\n",
    "plt.savefig('barplots for female patients while training only male.png')"
   ]
  },
  {
   "cell_type": "code",
   "execution_count": 386,
   "id": "1de141fd",
   "metadata": {},
   "outputs": [],
   "source": [
    "def evaluation_metrics(sensitive_features):\n",
    "    \n",
    "    #Confusion Matrix\n",
    "    cm=confusion_matrix(sensitive_features['y_true'],sensitive_features['y_pred'])\n",
    "    print(cm)\n",
    "    TN, FP, FN, TP = cm.ravel() \n",
    "    \n",
    "    N = TP+FP+FN+TN #Total population\n",
    "    ACC = (TP+TN)/N #Accuracy\n",
    "    PPV = TP/(TP+FP) #Positive predictive value (Precison)\n",
    "    TPR = TP/(TP+FN) # True positive rate\n",
    "    FPR = FP/(FP+TN) # False positive rate\n",
    "    TNR = TN/(FP + TN) # True negative rate\n",
    "    FNR = FN /(FN +TP) # False negative rate\n",
    "    FDR = 1 - PPV # False discovery rate\n",
    "    df_metrics = [{'Acc': (TP+TN)/N, 'PPV': TP/(TP+FP), 'TPR' : TP/(TP+FN), 'FPR' : FP/(FP+TN), 'TNR' : TN/(FP + TN), 'FNR' : FN /(FN +TP), 'FDR' : 1 - PPV  }]\n",
    "  \n",
    "    return df_metrics"
   ]
  },
  {
   "cell_type": "code",
   "execution_count": 387,
   "id": "2dbdd4c7",
   "metadata": {},
   "outputs": [
    {
     "name": "stdout",
     "output_type": "stream",
     "text": [
      "[[6450   10]\n",
      " [  41   51]]\n",
      "[[5334   35]\n",
      " [  83    0]]\n"
     ]
    }
   ],
   "source": [
    "Male = evaluation_metrics(sensitive_features[sensitive_features.Gender==1])\n",
    "Female= evaluation_metrics(sensitive_features[sensitive_features.Gender==0])\n",
    "data_metrics_Male = pd.DataFrame(Male, index= ['Men'])\n",
    "data_metrics_Female = pd.DataFrame(Female, index= ['Women'])"
   ]
  },
  {
   "cell_type": "code",
   "execution_count": 388,
   "id": "f49dc27c",
   "metadata": {},
   "outputs": [
    {
     "data": {
      "text/html": [
       "<div>\n",
       "<style scoped>\n",
       "    .dataframe tbody tr th:only-of-type {\n",
       "        vertical-align: middle;\n",
       "    }\n",
       "\n",
       "    .dataframe tbody tr th {\n",
       "        vertical-align: top;\n",
       "    }\n",
       "\n",
       "    .dataframe thead th {\n",
       "        text-align: right;\n",
       "    }\n",
       "</style>\n",
       "<table border=\"1\" class=\"dataframe\">\n",
       "  <thead>\n",
       "    <tr style=\"text-align: right;\">\n",
       "      <th></th>\n",
       "      <th>Acc</th>\n",
       "      <th>PPV</th>\n",
       "      <th>TPR</th>\n",
       "      <th>FPR</th>\n",
       "      <th>TNR</th>\n",
       "      <th>FNR</th>\n",
       "      <th>FDR</th>\n",
       "    </tr>\n",
       "  </thead>\n",
       "  <tbody>\n",
       "    <tr>\n",
       "      <th>Men</th>\n",
       "      <td>0.992216</td>\n",
       "      <td>0.836066</td>\n",
       "      <td>0.554348</td>\n",
       "      <td>0.001548</td>\n",
       "      <td>0.998452</td>\n",
       "      <td>0.445652</td>\n",
       "      <td>0.163934</td>\n",
       "    </tr>\n",
       "    <tr>\n",
       "      <th>Women</th>\n",
       "      <td>0.978357</td>\n",
       "      <td>0.000000</td>\n",
       "      <td>0.000000</td>\n",
       "      <td>0.006519</td>\n",
       "      <td>0.993481</td>\n",
       "      <td>1.000000</td>\n",
       "      <td>1.000000</td>\n",
       "    </tr>\n",
       "  </tbody>\n",
       "</table>\n",
       "</div>"
      ],
      "text/plain": [
       "            Acc       PPV       TPR       FPR       TNR       FNR       FDR\n",
       "Men    0.992216  0.836066  0.554348  0.001548  0.998452  0.445652  0.163934\n",
       "Women  0.978357  0.000000  0.000000  0.006519  0.993481  1.000000  1.000000"
      ]
     },
     "execution_count": 388,
     "metadata": {},
     "output_type": "execute_result"
    }
   ],
   "source": [
    "pd.concat([data_metrics_Male, data_metrics_Female])"
   ]
  },
  {
   "cell_type": "markdown",
   "id": "1e68c67e",
   "metadata": {},
   "source": [
    "# Model training with only Female patients\n",
    "\n",
    "## Test data set includes all the patients "
   ]
  },
  {
   "cell_type": "code",
   "execution_count": 389,
   "id": "44d3cab5",
   "metadata": {},
   "outputs": [
    {
     "name": "stderr",
     "output_type": "stream",
     "text": [
      "<ipython-input-389-7adc650e7982>:3: DataConversionWarning: A column-vector y was passed when a 1d array was expected. Please change the shape of y to (n_samples,), for example using ravel().\n",
      "  rf_model_SMOTE = rf_model_SMOTE.fit(X_Train_Female,y_train_Female)\n"
     ]
    },
    {
     "name": "stdout",
     "output_type": "stream",
     "text": [
      "Confusion Matrix \n",
      " [[11688   141]\n",
      " [   98    77]]\n",
      "Classification Report \n",
      "               precision    recall  f1-score   support\n",
      "\n",
      "         0.0       0.99      0.99      0.99     11829\n",
      "         1.0       0.35      0.44      0.39       175\n",
      "\n",
      "    accuracy                           0.98     12004\n",
      "   macro avg       0.67      0.71      0.69     12004\n",
      "weighted avg       0.98      0.98      0.98     12004\n",
      "\n"
     ]
    },
    {
     "data": {
      "image/png": "[encoded data removed]",
      "text/plain": [
       "<Figure size 432x288 with 1 Axes>"
      ]
     },
     "metadata": {
      "needs_background": "light"
     },
     "output_type": "display_data"
    },
    {
     "data": {
      "text/plain": [
       "<Figure size 432x288 with 0 Axes>"
      ]
     },
     "metadata": {},
     "output_type": "display_data"
    }
   ],
   "source": [
    "from sklearn.ensemble import RandomForestClassifier\n",
    "rf_model = RandomForestClassifier()\n",
    "rf_model_SMOTE = rf_model_SMOTE.fit(X_Train_Female,y_train_Female)\n",
    "y_pred_SMOTE = rf_model_SMOTE.predict(X_test_all)\n",
    "evaluation_score(y_test,y_pred_SMOTE)\n",
    "\n",
    "cm_SMOTE=confusion_matrix(y_test,y_pred_SMOTE)\n",
    "TN, FP, FN, TP = cm_SMOTE.ravel()\n",
    "pd.crosstab(y_test, y_pred_SMOTE, rownames = ['Actual'], colnames =['Predicted'], margins = True)\n",
    "Plotting(\"Metrics evaluation after oversampling with SMOTE \", accuracy_score(y_test,y_pred_SMOTE),precision_score(y_test,y_pred_SMOTE),recall_score(y_test,y_pred_SMOTE),specificity_score(y_test,y_pred_SMOTE)) \n",
    "plt.savefig('rf_model_with_SMOTEwhiletraining withfemale.png')"
   ]
  },
  {
   "cell_type": "code",
   "execution_count": 390,
   "id": "4fa7dd19",
   "metadata": {},
   "outputs": [
    {
     "name": "stderr",
     "output_type": "stream",
     "text": [
      "<ipython-input-390-277ca21f020f>:1: SettingWithCopyWarning: \n",
      "A value is trying to be set on a copy of a slice from a DataFrame.\n",
      "Try using .loc[row_indexer,col_indexer] = value instead\n",
      "\n",
      "See the caveats in the documentation: https://pandas.pydata.org/pandas-docs/stable/user_guide/indexing.html#returning-a-view-versus-a-copy\n",
      "  sensitive_features['y_true'] =  y_test\n",
      "<ipython-input-390-277ca21f020f>:2: SettingWithCopyWarning: \n",
      "A value is trying to be set on a copy of a slice from a DataFrame.\n",
      "Try using .loc[row_indexer,col_indexer] = value instead\n",
      "\n",
      "See the caveats in the documentation: https://pandas.pydata.org/pandas-docs/stable/user_guide/indexing.html#returning-a-view-versus-a-copy\n",
      "  sensitive_features['y_pred'] = y_pred_SMOTE\n"
     ]
    }
   ],
   "source": [
    "sensitive_features['y_true'] =  y_test\n",
    "sensitive_features['y_pred'] = y_pred_SMOTE"
   ]
  },
  {
   "cell_type": "code",
   "execution_count": 391,
   "id": "3d64906b",
   "metadata": {},
   "outputs": [],
   "source": [
    "fm_Gender_1 = fairness_metrics(sensitive_features[sensitive_features.Gender==1])\n",
    "fm_Gender_0 = fairness_metrics(sensitive_features[sensitive_features.Gender==0])"
   ]
  },
  {
   "cell_type": "code",
   "execution_count": 392,
   "id": "8335c918",
   "metadata": {},
   "outputs": [
    {
     "data": {
      "image/png": "[encoded data removed]",
      "text/plain": [
       "<Figure size 432x288 with 1 Axes>"
      ]
     },
     "metadata": {
      "needs_background": "light"
     },
     "output_type": "display_data"
    },
    {
     "data": {
      "text/plain": [
       "<Figure size 432x288 with 0 Axes>"
      ]
     },
     "metadata": {},
     "output_type": "display_data"
    }
   ],
   "source": [
    "Plotting(\"Evaluation of male patients' performance metrics\", fm_Gender_1[0],fm_Gender_1[1],fm_Gender_1[2],fm_Gender_1[3])\n",
    "plt.savefig('barplots for male patients while training only female.png')"
   ]
  },
  {
   "cell_type": "code",
   "execution_count": 393,
   "id": "df429ea6",
   "metadata": {},
   "outputs": [
    {
     "data": {
      "image/png": "[encoded data removed]",
      "text/plain": [
       "<Figure size 432x288 with 1 Axes>"
      ]
     },
     "metadata": {
      "needs_background": "light"
     },
     "output_type": "display_data"
    },
    {
     "data": {
      "text/plain": [
       "<Figure size 432x288 with 0 Axes>"
      ]
     },
     "metadata": {},
     "output_type": "display_data"
    }
   ],
   "source": [
    "Plotting(\"Evaluation of female patients' performance metrics\",fm_Gender_0[0],fm_Gender_0[1],fm_Gender_0[2],fm_Gender_0[3])\n",
    "plt.savefig('barplots for female patients while training only female.png')"
   ]
  },
  {
   "cell_type": "code",
   "execution_count": 394,
   "id": "74fd43fb",
   "metadata": {},
   "outputs": [
    {
     "name": "stdout",
     "output_type": "stream",
     "text": [
      "[[6329  131]\n",
      " [  66   26]]\n",
      "[[5359   10]\n",
      " [  32   51]]\n"
     ]
    }
   ],
   "source": [
    "Male = evaluation_metrics(sensitive_features[sensitive_features.Gender==1])\n",
    "Female= evaluation_metrics(sensitive_features[sensitive_features.Gender==0])\n",
    "data_metrics_Male = pd.DataFrame(Male, index= ['Men'])\n",
    "data_metrics_Female = pd.DataFrame(Female, index= ['Women'])"
   ]
  },
  {
   "cell_type": "code",
   "execution_count": 395,
   "id": "4a987d78",
   "metadata": {},
   "outputs": [
    {
     "data": {
      "text/html": [
       "<div>\n",
       "<style scoped>\n",
       "    .dataframe tbody tr th:only-of-type {\n",
       "        vertical-align: middle;\n",
       "    }\n",
       "\n",
       "    .dataframe tbody tr th {\n",
       "        vertical-align: top;\n",
       "    }\n",
       "\n",
       "    .dataframe thead th {\n",
       "        text-align: right;\n",
       "    }\n",
       "</style>\n",
       "<table border=\"1\" class=\"dataframe\">\n",
       "  <thead>\n",
       "    <tr style=\"text-align: right;\">\n",
       "      <th></th>\n",
       "      <th>Acc</th>\n",
       "      <th>PPV</th>\n",
       "      <th>TPR</th>\n",
       "      <th>FPR</th>\n",
       "      <th>TNR</th>\n",
       "      <th>FNR</th>\n",
       "      <th>FDR</th>\n",
       "    </tr>\n",
       "  </thead>\n",
       "  <tbody>\n",
       "    <tr>\n",
       "      <th>Men</th>\n",
       "      <td>0.969933</td>\n",
       "      <td>0.165605</td>\n",
       "      <td>0.282609</td>\n",
       "      <td>0.020279</td>\n",
       "      <td>0.979721</td>\n",
       "      <td>0.717391</td>\n",
       "      <td>0.834395</td>\n",
       "    </tr>\n",
       "    <tr>\n",
       "      <th>Women</th>\n",
       "      <td>0.992296</td>\n",
       "      <td>0.836066</td>\n",
       "      <td>0.614458</td>\n",
       "      <td>0.001863</td>\n",
       "      <td>0.998137</td>\n",
       "      <td>0.385542</td>\n",
       "      <td>0.163934</td>\n",
       "    </tr>\n",
       "  </tbody>\n",
       "</table>\n",
       "</div>"
      ],
      "text/plain": [
       "            Acc       PPV       TPR       FPR       TNR       FNR       FDR\n",
       "Men    0.969933  0.165605  0.282609  0.020279  0.979721  0.717391  0.834395\n",
       "Women  0.992296  0.836066  0.614458  0.001863  0.998137  0.385542  0.163934"
      ]
     },
     "execution_count": 395,
     "metadata": {},
     "output_type": "execute_result"
    }
   ],
   "source": [
    "pd.concat([data_metrics_Male, data_metrics_Female])"
   ]
  },
  {
   "cell_type": "code",
   "execution_count": null,
   "id": "c89ac93b",
   "metadata": {},
   "outputs": [],
   "source": []
  }
 ],
 "metadata": {
  "kernelspec": {
   "display_name": "Python 3",
   "language": "python",
   "name": "python3"
  },
  "language_info": {
   "codemirror_mode": {
    "name": "ipython",
    "version": 3
   },
   "file_extension": ".py",
   "mimetype": "text/x-python",
   "name": "python",
   "nbconvert_exporter": "python",
   "pygments_lexer": "ipython3",
   "version": "3.8.8"
  }
 },
 "nbformat": 4,
 "nbformat_minor": 5
}
