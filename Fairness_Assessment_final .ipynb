{
 "cells": [
  {
   "cell_type": "markdown",
   "id": "d77ccd4d",
   "metadata": {},
   "source": [
    "### Import Libraries\n",
    "\n"
   ]
  },
  {
   "cell_type": "code",
   "execution_count": 1183,
   "id": "6f62b78c",
   "metadata": {},
   "outputs": [],
   "source": [
    "import os\n",
    "import pandas as pd\n",
    "import numpy as np\n",
    "import numpy\n",
    "import seaborn as sns\n",
    "import scipy.stats as stats\n",
    "import matplotlib.pyplot as plt\n",
    "from sklearn.model_selection import train_test_split\n",
    "from sklearn.preprocessing import StandardScaler\n",
    "from sklearn.ensemble import RandomForestClassifier\n",
    "from sklearn.metrics import confusion_matrix, accuracy_score, classification_report\n",
    "from collections import Counter\n",
    "from imblearn.under_sampling import RandomUnderSampler\n",
    "from imblearn.over_sampling import SMOTE\n",
    "from sklearn.metrics import accuracy_score\n",
    "from sklearn.ensemble import VotingClassifier \n",
    "\n",
    "#Metrics packages\n",
    "from sklearn import metrics\n",
    "from sklearn.metrics import classification_report, confusion_matrix\n",
    "from sklearn.model_selection import cross_val_score\n",
    "from sklearn.model_selection import KFold\n",
    "from sklearn.metrics import accuracy_score \n",
    "import warnings\n",
    "from sklearn.metrics import precision_score, recall_score, make_scorer, accuracy_score\n",
    "warnings.filterwarnings(\"ignore\")"
   ]
  },
  {
   "cell_type": "code",
   "execution_count": 1184,
   "id": "d4bd6dc2",
   "metadata": {},
   "outputs": [],
   "source": [
    "#Convert the data in csv.file\n",
    "training_SetA = pd.read_csv(\"df1.csv\",sep=\"|\")\n",
    "training_SetB = pd.read_csv(\"df2.csv\",sep =\"|\")\n",
    "#concat in one dataframe\n",
    "dataframe_all = pd.concat([training_SetA, training_SetB],axis =0)"
   ]
  },
  {
   "cell_type": "code",
   "execution_count": 1185,
   "id": "539019a8",
   "metadata": {},
   "outputs": [
    {
     "data": {
      "text/html": [
       "<div>\n",
       "<style scoped>\n",
       "    .dataframe tbody tr th:only-of-type {\n",
       "        vertical-align: middle;\n",
       "    }\n",
       "\n",
       "    .dataframe tbody tr th {\n",
       "        vertical-align: top;\n",
       "    }\n",
       "\n",
       "    .dataframe thead th {\n",
       "        text-align: right;\n",
       "    }\n",
       "</style>\n",
       "<table border=\"1\" class=\"dataframe\">\n",
       "  <thead>\n",
       "    <tr style=\"text-align: right;\">\n",
       "      <th></th>\n",
       "      <th>HR</th>\n",
       "      <th>O2Sat</th>\n",
       "      <th>Temp</th>\n",
       "      <th>SBP</th>\n",
       "      <th>MAP</th>\n",
       "      <th>DBP</th>\n",
       "      <th>Resp</th>\n",
       "      <th>EtCO2</th>\n",
       "      <th>BaseExcess</th>\n",
       "      <th>HCO3</th>\n",
       "      <th>...</th>\n",
       "      <th>WBC</th>\n",
       "      <th>Fibrinogen</th>\n",
       "      <th>Platelets</th>\n",
       "      <th>Age</th>\n",
       "      <th>Gender</th>\n",
       "      <th>Unit1</th>\n",
       "      <th>Unit2</th>\n",
       "      <th>HospAdmTime</th>\n",
       "      <th>ICULOS</th>\n",
       "      <th>SepsisLabel</th>\n",
       "    </tr>\n",
       "  </thead>\n",
       "  <tbody>\n",
       "    <tr>\n",
       "      <th>0</th>\n",
       "      <td>NaN</td>\n",
       "      <td>NaN</td>\n",
       "      <td>NaN</td>\n",
       "      <td>NaN</td>\n",
       "      <td>NaN</td>\n",
       "      <td>NaN</td>\n",
       "      <td>NaN</td>\n",
       "      <td>NaN</td>\n",
       "      <td>NaN</td>\n",
       "      <td>NaN</td>\n",
       "      <td>...</td>\n",
       "      <td>NaN</td>\n",
       "      <td>NaN</td>\n",
       "      <td>NaN</td>\n",
       "      <td>83.14</td>\n",
       "      <td>0</td>\n",
       "      <td>NaN</td>\n",
       "      <td>NaN</td>\n",
       "      <td>-0.03</td>\n",
       "      <td>1</td>\n",
       "      <td>0</td>\n",
       "    </tr>\n",
       "    <tr>\n",
       "      <th>1</th>\n",
       "      <td>97.0</td>\n",
       "      <td>95.0</td>\n",
       "      <td>NaN</td>\n",
       "      <td>98.0</td>\n",
       "      <td>75.33</td>\n",
       "      <td>NaN</td>\n",
       "      <td>19.0</td>\n",
       "      <td>NaN</td>\n",
       "      <td>NaN</td>\n",
       "      <td>NaN</td>\n",
       "      <td>...</td>\n",
       "      <td>NaN</td>\n",
       "      <td>NaN</td>\n",
       "      <td>NaN</td>\n",
       "      <td>83.14</td>\n",
       "      <td>0</td>\n",
       "      <td>NaN</td>\n",
       "      <td>NaN</td>\n",
       "      <td>-0.03</td>\n",
       "      <td>2</td>\n",
       "      <td>0</td>\n",
       "    </tr>\n",
       "    <tr>\n",
       "      <th>2</th>\n",
       "      <td>89.0</td>\n",
       "      <td>99.0</td>\n",
       "      <td>NaN</td>\n",
       "      <td>122.0</td>\n",
       "      <td>86.00</td>\n",
       "      <td>NaN</td>\n",
       "      <td>22.0</td>\n",
       "      <td>NaN</td>\n",
       "      <td>NaN</td>\n",
       "      <td>NaN</td>\n",
       "      <td>...</td>\n",
       "      <td>NaN</td>\n",
       "      <td>NaN</td>\n",
       "      <td>NaN</td>\n",
       "      <td>83.14</td>\n",
       "      <td>0</td>\n",
       "      <td>NaN</td>\n",
       "      <td>NaN</td>\n",
       "      <td>-0.03</td>\n",
       "      <td>3</td>\n",
       "      <td>0</td>\n",
       "    </tr>\n",
       "    <tr>\n",
       "      <th>3</th>\n",
       "      <td>90.0</td>\n",
       "      <td>95.0</td>\n",
       "      <td>NaN</td>\n",
       "      <td>NaN</td>\n",
       "      <td>NaN</td>\n",
       "      <td>NaN</td>\n",
       "      <td>30.0</td>\n",
       "      <td>NaN</td>\n",
       "      <td>24.0</td>\n",
       "      <td>NaN</td>\n",
       "      <td>...</td>\n",
       "      <td>NaN</td>\n",
       "      <td>NaN</td>\n",
       "      <td>NaN</td>\n",
       "      <td>83.14</td>\n",
       "      <td>0</td>\n",
       "      <td>NaN</td>\n",
       "      <td>NaN</td>\n",
       "      <td>-0.03</td>\n",
       "      <td>4</td>\n",
       "      <td>0</td>\n",
       "    </tr>\n",
       "    <tr>\n",
       "      <th>4</th>\n",
       "      <td>103.0</td>\n",
       "      <td>88.5</td>\n",
       "      <td>NaN</td>\n",
       "      <td>122.0</td>\n",
       "      <td>91.33</td>\n",
       "      <td>NaN</td>\n",
       "      <td>24.5</td>\n",
       "      <td>NaN</td>\n",
       "      <td>NaN</td>\n",
       "      <td>NaN</td>\n",
       "      <td>...</td>\n",
       "      <td>NaN</td>\n",
       "      <td>NaN</td>\n",
       "      <td>NaN</td>\n",
       "      <td>83.14</td>\n",
       "      <td>0</td>\n",
       "      <td>NaN</td>\n",
       "      <td>NaN</td>\n",
       "      <td>-0.03</td>\n",
       "      <td>5</td>\n",
       "      <td>0</td>\n",
       "    </tr>\n",
       "  </tbody>\n",
       "</table>\n",
       "<p>5 rows × 41 columns</p>\n",
       "</div>"
      ],
      "text/plain": [
       "      HR  O2Sat  Temp    SBP    MAP  DBP  Resp  EtCO2  BaseExcess  HCO3  ...  \\\n",
       "0    NaN    NaN   NaN    NaN    NaN  NaN   NaN    NaN         NaN   NaN  ...   \n",
       "1   97.0   95.0   NaN   98.0  75.33  NaN  19.0    NaN         NaN   NaN  ...   \n",
       "2   89.0   99.0   NaN  122.0  86.00  NaN  22.0    NaN         NaN   NaN  ...   \n",
       "3   90.0   95.0   NaN    NaN    NaN  NaN  30.0    NaN        24.0   NaN  ...   \n",
       "4  103.0   88.5   NaN  122.0  91.33  NaN  24.5    NaN         NaN   NaN  ...   \n",
       "\n",
       "   WBC  Fibrinogen  Platelets    Age  Gender  Unit1  Unit2  HospAdmTime  \\\n",
       "0  NaN         NaN        NaN  83.14       0    NaN    NaN        -0.03   \n",
       "1  NaN         NaN        NaN  83.14       0    NaN    NaN        -0.03   \n",
       "2  NaN         NaN        NaN  83.14       0    NaN    NaN        -0.03   \n",
       "3  NaN         NaN        NaN  83.14       0    NaN    NaN        -0.03   \n",
       "4  NaN         NaN        NaN  83.14       0    NaN    NaN        -0.03   \n",
       "\n",
       "   ICULOS  SepsisLabel  \n",
       "0       1            0  \n",
       "1       2            0  \n",
       "2       3            0  \n",
       "3       4            0  \n",
       "4       5            0  \n",
       "\n",
       "[5 rows x 41 columns]"
      ]
     },
     "execution_count": 1185,
     "metadata": {},
     "output_type": "execute_result"
    }
   ],
   "source": [
    "dataframe_all.head()"
   ]
  },
  {
   "cell_type": "code",
   "execution_count": 1186,
   "id": "df61d2bb",
   "metadata": {},
   "outputs": [
    {
     "data": {
      "text/plain": [
       "(42543, 41)"
      ]
     },
     "execution_count": 1186,
     "metadata": {},
     "output_type": "execute_result"
    }
   ],
   "source": [
    "dataframe_all.shape\n",
    "# We have received 42543 Patients with 41 features for each patient"
   ]
  },
  {
   "cell_type": "code",
   "execution_count": 1187,
   "id": "5a6e6d8e",
   "metadata": {},
   "outputs": [
    {
     "name": "stdout",
     "output_type": "stream",
     "text": [
      "<class 'pandas.core.frame.DataFrame'>\n",
      "Int64Index: 42543 entries, 0 to 38876\n",
      "Data columns (total 41 columns):\n",
      " #   Column            Non-Null Count  Dtype  \n",
      "---  ------            --------------  -----  \n",
      " 0   HR                37429 non-null  float64\n",
      " 1   O2Sat             36453 non-null  float64\n",
      " 2   Temp              14602 non-null  float64\n",
      " 3   SBP               36507 non-null  float64\n",
      " 4   MAP               36387 non-null  float64\n",
      " 5   DBP               35197 non-null  float64\n",
      " 6   Resp              33893 non-null  float64\n",
      " 7   EtCO2             3180 non-null   float64\n",
      " 8   BaseExcess        468 non-null    float64\n",
      " 9   HCO3              376 non-null    float64\n",
      " 10  FiO2              1368 non-null   float64\n",
      " 11  pH                1272 non-null   float64\n",
      " 12  PaCO2             1191 non-null   float64\n",
      " 13  SaO2              857 non-null    float64\n",
      " 14  AST               729 non-null    float64\n",
      " 15  BUN               2441 non-null   float64\n",
      " 16  Alkalinephos      726 non-null    float64\n",
      " 17  Calcium           2833 non-null   float64\n",
      " 18  Chloride          591 non-null    float64\n",
      " 19  Creatinine        2394 non-null   float64\n",
      " 20  Bilirubin_direct  86 non-null     float64\n",
      " 21  Glucose           9119 non-null   float64\n",
      " 22  Lactate           864 non-null    float64\n",
      " 23  Magnesium         2153 non-null   float64\n",
      " 24  Phosphate         1388 non-null   float64\n",
      " 25  Potassium         3386 non-null   float64\n",
      " 26  Bilirubin_total   717 non-null    float64\n",
      " 27  TroponinI         689 non-null    float64\n",
      " 28  Hct               2667 non-null   float64\n",
      " 29  Hgb               2591 non-null   float64\n",
      " 30  PTT               594 non-null    float64\n",
      " 31  WBC               2309 non-null   float64\n",
      " 32  Fibrinogen        260 non-null    float64\n",
      " 33  Platelets         2308 non-null   float64\n",
      " 34  Age               42543 non-null  float64\n",
      " 35  Gender            42543 non-null  int64  \n",
      " 36  Unit1             29405 non-null  float64\n",
      " 37  Unit2             29405 non-null  float64\n",
      " 38  HospAdmTime       42543 non-null  float64\n",
      " 39  ICULOS            42543 non-null  int64  \n",
      " 40  SepsisLabel       42543 non-null  int64  \n",
      "dtypes: float64(38), int64(3)\n",
      "memory usage: 13.6 MB\n"
     ]
    }
   ],
   "source": [
    "dataframe_all.info()"
   ]
  },
  {
   "cell_type": "code",
   "execution_count": 1188,
   "id": "099c6042",
   "metadata": {},
   "outputs": [
    {
     "data": {
      "text/plain": [
       "HR                   5114\n",
       "O2Sat                6090\n",
       "Temp                27941\n",
       "SBP                  6036\n",
       "MAP                  6156\n",
       "DBP                  7346\n",
       "Resp                 8650\n",
       "EtCO2               39363\n",
       "BaseExcess          42075\n",
       "HCO3                42167\n",
       "FiO2                41175\n",
       "pH                  41271\n",
       "PaCO2               41352\n",
       "SaO2                41686\n",
       "AST                 41814\n",
       "BUN                 40102\n",
       "Alkalinephos        41817\n",
       "Calcium             39710\n",
       "Chloride            41952\n",
       "Creatinine          40149\n",
       "Bilirubin_direct    42457\n",
       "Glucose             33424\n",
       "Lactate             41679\n",
       "Magnesium           40390\n",
       "Phosphate           41155\n",
       "Potassium           39157\n",
       "Bilirubin_total     41826\n",
       "TroponinI           41854\n",
       "Hct                 39876\n",
       "Hgb                 39952\n",
       "PTT                 41949\n",
       "WBC                 40234\n",
       "Fibrinogen          42283\n",
       "Platelets           40235\n",
       "Age                     0\n",
       "Gender                  0\n",
       "Unit1               13138\n",
       "Unit2               13138\n",
       "HospAdmTime             0\n",
       "ICULOS                  0\n",
       "SepsisLabel             0\n",
       "dtype: int64"
      ]
     },
     "execution_count": 1188,
     "metadata": {},
     "output_type": "execute_result"
    }
   ],
   "source": [
    "dataframe_all.isnull().sum()"
   ]
  },
  {
   "cell_type": "code",
   "execution_count": 1189,
   "id": "a14a7c7a",
   "metadata": {},
   "outputs": [
    {
     "data": {
      "text/plain": [
       "Counter({0: 41839, 1: 704})"
      ]
     },
     "execution_count": 1189,
     "metadata": {},
     "output_type": "execute_result"
    }
   ],
   "source": [
    "Counter(dataframe_all['SepsisLabel'])\n",
    "#Target value"
   ]
  },
  {
   "cell_type": "code",
   "execution_count": 1190,
   "id": "f572b498",
   "metadata": {
    "scrolled": true
   },
   "outputs": [
    {
     "name": "stdout",
     "output_type": "stream",
     "text": [
      "HR                  12.020779\n",
      "O2Sat               14.314928\n",
      "Temp                65.677080\n",
      "SBP                 14.187998\n",
      "MAP                 14.470066\n",
      "DBP                 17.267236\n",
      "Resp                20.332370\n",
      "EtCO2               92.525210\n",
      "BaseExcess          98.899937\n",
      "HCO3                99.116188\n",
      "FiO2                96.784430\n",
      "pH                  97.010084\n",
      "PaCO2               97.200480\n",
      "SaO2                97.985568\n",
      "AST                 98.286440\n",
      "BUN                 94.262276\n",
      "Alkalinephos        98.293491\n",
      "Calcium             93.340855\n",
      "Chloride            98.610817\n",
      "Creatinine          94.372752\n",
      "Bilirubin_direct    99.797852\n",
      "Glucose             78.565216\n",
      "Lactate             97.969114\n",
      "Magnesium           94.939238\n",
      "Phosphate           96.737419\n",
      "Potassium           92.040994\n",
      "Bilirubin_total     98.314646\n",
      "TroponinI           98.380462\n",
      "Hct                 93.731049\n",
      "Hgb                 93.909691\n",
      "PTT                 98.603766\n",
      "WBC                 94.572550\n",
      "Fibrinogen          99.388854\n",
      "Platelets           94.574901\n",
      "Age                  0.000000\n",
      "Gender               0.000000\n",
      "Unit1               30.881696\n",
      "Unit2               30.881696\n",
      "HospAdmTime          0.000000\n",
      "ICULOS               0.000000\n",
      "dtype: float64\n"
     ]
    }
   ],
   "source": [
    "#the percentage of the nan values\n",
    "NaN_Values = dataframe_all.loc[:, dataframe_all.columns != 'SepsisLabel'].isnull().sum() * 100 / len(dataframe_all)\n",
    "print(NaN_Values)\n"
   ]
  },
  {
   "cell_type": "code",
   "execution_count": 1191,
   "id": "cc0e4331",
   "metadata": {},
   "outputs": [],
   "source": [
    "#all columns with more than 70 % nan values are deleted\n",
    "drop_columns_70_nanvalues = NaN_Values[NaN_Values>70].keys()\n",
    "dataframe_cleaned = dataframe_all.drop(drop_columns_70_nanvalues, axis=1)"
   ]
  },
  {
   "cell_type": "code",
   "execution_count": 1192,
   "id": "ea75f59b",
   "metadata": {},
   "outputs": [
    {
     "data": {
      "text/plain": [
       "HR              5114\n",
       "O2Sat           6090\n",
       "Temp           27941\n",
       "SBP             6036\n",
       "MAP             6156\n",
       "DBP             7346\n",
       "Resp            8650\n",
       "Age                0\n",
       "Gender             0\n",
       "Unit1          13138\n",
       "Unit2          13138\n",
       "HospAdmTime        0\n",
       "ICULOS             0\n",
       "SepsisLabel        0\n",
       "dtype: int64"
      ]
     },
     "execution_count": 1192,
     "metadata": {},
     "output_type": "execute_result"
    }
   ],
   "source": [
    "dataframe_cleaned.isnull().sum()\n"
   ]
  },
  {
   "cell_type": "code",
   "execution_count": 1193,
   "id": "44c25c6f",
   "metadata": {},
   "outputs": [
    {
     "data": {
      "text/plain": [
       "(42543, 14)"
      ]
     },
     "execution_count": 1193,
     "metadata": {},
     "output_type": "execute_result"
    }
   ],
   "source": [
    "dataframe_cleaned.shape"
   ]
  },
  {
   "cell_type": "code",
   "execution_count": 1194,
   "id": "4c3b31b9",
   "metadata": {},
   "outputs": [
    {
     "data": {
      "text/plain": [
       "HR              0.385559\n",
       "O2Sat          -3.788906\n",
       "Temp           -0.076644\n",
       "SBP             0.558407\n",
       "MAP             0.905256\n",
       "DBP             0.925823\n",
       "Resp            1.021102\n",
       "Age            -0.336120\n",
       "Gender         -0.232914\n",
       "Unit1           0.098953\n",
       "Unit2          -0.098953\n",
       "HospAdmTime   -10.757842\n",
       "ICULOS          3.998531\n",
       "SepsisLabel     7.579662\n",
       "dtype: float64"
      ]
     },
     "execution_count": 1194,
     "metadata": {},
     "output_type": "execute_result"
    }
   ],
   "source": [
    "#we check the skewness to be sure how to impute the values\n",
    "dataframe_cleaned.skew()"
   ]
  },
  {
   "cell_type": "code",
   "execution_count": 1195,
   "id": "882e5cfe",
   "metadata": {},
   "outputs": [],
   "source": [
    "#impute all the skewed values with the median\n",
    "dataframe_cleaned.fillna(dataframe_cleaned[\"O2Sat\"].median(),inplace=True)\n",
    "dataframe_cleaned.fillna(dataframe_all[\"HospAdmTime\"].median(),inplace=True)\n",
    "dataframe_all.fillna(dataframe_all[\"Resp\"].median(),inplace=True)\n",
    "dataframe_all.fillna(dataframe_all[\"ICULOS\"].median(),inplace=True)\n"
   ]
  },
  {
   "cell_type": "code",
   "execution_count": 1196,
   "id": "edf676fa",
   "metadata": {},
   "outputs": [
    {
     "data": {
      "text/plain": [
       "HR              0.161759\n",
       "O2Sat          -4.148418\n",
       "Temp           -0.661193\n",
       "SBP             0.732922\n",
       "MAP             0.608630\n",
       "DBP             0.451572\n",
       "Resp            1.409984\n",
       "Age            -0.336120\n",
       "Gender         -0.232914\n",
       "Unit1           0.827376\n",
       "Unit2           0.827376\n",
       "HospAdmTime   -10.757842\n",
       "ICULOS          3.998531\n",
       "SepsisLabel     7.579662\n",
       "dtype: float64"
      ]
     },
     "execution_count": 1196,
     "metadata": {},
     "output_type": "execute_result"
    }
   ],
   "source": [
    "dataframe_cleaned.skew()"
   ]
  },
  {
   "cell_type": "code",
   "execution_count": 1197,
   "id": "114d69ff",
   "metadata": {},
   "outputs": [],
   "source": [
    "dataframe_all = dataframe_cleaned "
   ]
  },
  {
   "cell_type": "code",
   "execution_count": 1198,
   "id": "5a0a0aa6",
   "metadata": {},
   "outputs": [
    {
     "name": "stdout",
     "output_type": "stream",
     "text": [
      "<class 'pandas.core.frame.DataFrame'>\n",
      "Int64Index: 42543 entries, 0 to 38876\n",
      "Data columns (total 14 columns):\n",
      " #   Column       Non-Null Count  Dtype  \n",
      "---  ------       --------------  -----  \n",
      " 0   HR           42543 non-null  float64\n",
      " 1   O2Sat        42543 non-null  float64\n",
      " 2   Temp         42543 non-null  float64\n",
      " 3   SBP          42543 non-null  float64\n",
      " 4   MAP          42543 non-null  float64\n",
      " 5   DBP          42543 non-null  float64\n",
      " 6   Resp         42543 non-null  float64\n",
      " 7   Age          42543 non-null  float64\n",
      " 8   Gender       42543 non-null  int64  \n",
      " 9   Unit1        42543 non-null  float64\n",
      " 10  Unit2        42543 non-null  float64\n",
      " 11  HospAdmTime  42543 non-null  float64\n",
      " 12  ICULOS       42543 non-null  int64  \n",
      " 13  SepsisLabel  42543 non-null  int64  \n",
      "dtypes: float64(11), int64(3)\n",
      "memory usage: 4.9 MB\n"
     ]
    }
   ],
   "source": [
    "dataframe_all.info()"
   ]
  },
  {
   "cell_type": "code",
   "execution_count": 1199,
   "id": "a8192e17",
   "metadata": {},
   "outputs": [
    {
     "data": {
      "text/plain": [
       "Counter({0: 41839, 1: 704})"
      ]
     },
     "execution_count": 1199,
     "metadata": {},
     "output_type": "execute_result"
    }
   ],
   "source": [
    "Counter(dataframe_all['SepsisLabel'])"
   ]
  },
  {
   "cell_type": "code",
   "execution_count": 1200,
   "id": "0d331e85",
   "metadata": {},
   "outputs": [
    {
     "data": {
      "image/png": "[encoded data removed]",
      "text/plain": [
       "<Figure size 504x432 with 1 Axes>"
      ]
     },
     "metadata": {
      "needs_background": "light"
     },
     "output_type": "display_data"
    }
   ],
   "source": [
    "# Plotting the class distribution\n",
    "Gender = dataframe_all['Gender'].value_counts()\n",
    "plt.figure(figsize=(7, 6))\n",
    "axe = Gender.plot(kind='bar')\n",
    "for x in axe.patches:\n",
    "    x_axe = x.get_x() + x.get_width() / 2\n",
    "    y_axe = x.get_height()\n",
    "    axe.annotate(format(y_axe), (x_axe, y_axe), xytext=(0, 1), textcoords=\"offset points\")    \n",
    "axe.set_xticklabels(('Male', 'Female'))\n",
    "axe.set_xlabel('Gender')\n",
    "axe.set_ylabel('Number of Patients')\n",
    "axe.set_title(\"Gender Distribution\", y = 1)  \n",
    "plt.savefig('Gender_Disstribution.png')\n",
    "plt.show()"
   ]
  },
  {
   "cell_type": "code",
   "execution_count": 1201,
   "id": "ca595043",
   "metadata": {},
   "outputs": [
    {
     "name": "stdout",
     "output_type": "stream",
     "text": [
      "<class 'pandas.core.frame.DataFrame'>\n",
      "Int64Index: 42543 entries, 0 to 38876\n",
      "Data columns (total 14 columns):\n",
      " #   Column       Non-Null Count  Dtype  \n",
      "---  ------       --------------  -----  \n",
      " 0   HR           42543 non-null  float64\n",
      " 1   O2Sat        42543 non-null  float64\n",
      " 2   Temp         42543 non-null  float64\n",
      " 3   SBP          42543 non-null  float64\n",
      " 4   MAP          42543 non-null  float64\n",
      " 5   DBP          42543 non-null  float64\n",
      " 6   Resp         42543 non-null  float64\n",
      " 7   Age          42543 non-null  float64\n",
      " 8   Gender       42543 non-null  int64  \n",
      " 9   Unit1        42543 non-null  float64\n",
      " 10  Unit2        42543 non-null  float64\n",
      " 11  HospAdmTime  42543 non-null  float64\n",
      " 12  ICULOS       42543 non-null  int64  \n",
      " 13  SepsisLabel  42543 non-null  int64  \n",
      "dtypes: float64(11), int64(3)\n",
      "memory usage: 4.9 MB\n"
     ]
    }
   ],
   "source": [
    "dataframe_all.info()"
   ]
  },
  {
   "cell_type": "code",
   "execution_count": 1202,
   "id": "89471d4d",
   "metadata": {},
   "outputs": [
    {
     "data": {
      "image/png": "[encoded data removed]",
      "text/plain": [
       "<Figure size 432x288 with 1 Axes>"
      ]
     },
     "metadata": {
      "needs_background": "light"
     },
     "output_type": "display_data"
    }
   ],
   "source": [
    "#dataframe_all = dataframe_all.replace({'Gender': {0: 'Male', 1: 'Female'}})\n",
    "axe = sns.countplot(data=dataframe_all, x='Gender', hue='SepsisLabel')  \n",
    "\n",
    "for x in axe.patches:\n",
    "    x_axe = x.get_x() + x.get_width() / 2 \n",
    "    y_axe = x.get_height()\n",
    "    axe.annotate(format(y_axe),(x_axe, y_axe), xytext=(0, 1),textcoords=\"offset points\") \n",
    "axe.set_xlabel('Septic and non septic patients')\n",
    "axe.set_ylabel('Number of Patients')\n",
    "plt.title('Class Distributions Over Gender', fontsize=14)  \n",
    "plt.savefig('Class Distribution over gender.png')"
   ]
  },
  {
   "cell_type": "code",
   "execution_count": 1203,
   "id": "51009dc2",
   "metadata": {},
   "outputs": [
    {
     "data": {
      "text/plain": [
       "Counter({0: 41839, 1: 704})"
      ]
     },
     "execution_count": 1203,
     "metadata": {},
     "output_type": "execute_result"
    }
   ],
   "source": [
    "Counter(dataframe_all['SepsisLabel'])"
   ]
  },
  {
   "cell_type": "code",
   "execution_count": 1204,
   "id": "6b39bb6c",
   "metadata": {},
   "outputs": [
    {
     "name": "stdout",
     "output_type": "stream",
     "text": [
      "Non-septic patients 98.35 % of the dataset\n",
      "Septic patients 1.65 % of the dataset\n"
     ]
    }
   ],
   "source": [
    "print('Non-septic patients', round(dataframe_all['SepsisLabel'].value_counts()[0]/len(dataframe_all) * 100,2), '% of the dataset')\n",
    "print('Septic patients', round(dataframe_all['SepsisLabel'].value_counts()[1]/len(dataframe_all) * 100,2), '% of the dataset')"
   ]
  },
  {
   "cell_type": "code",
   "execution_count": 1205,
   "id": "dc426c37",
   "metadata": {},
   "outputs": [
    {
     "data": {
      "image/png": "[encoded data removed]",
      "text/plain": [
       "<Figure size 432x288 with 1 Axes>"
      ]
     },
     "metadata": {
      "needs_background": "light"
     },
     "output_type": "display_data"
    }
   ],
   "source": [
    "colors = [\"#0101DF\", \"#DF0101\"]\n",
    "\n",
    "axe = sns.countplot(x=dataframe_all['SepsisLabel'], data=dataframe_all)\n",
    "plt.title('Class Distributions \\n (0: Non-septic || 1: Septic)', fontsize=14)\n",
    "for x in axe.patches:\n",
    "    x_axe = x.get_x() + x.get_width() / 2\n",
    "    y_axe = x.get_height()\n",
    "    axe.annotate(format(y_axe), (x_axe, y_axe), xytext=(0, 1), textcoords=\"offset points\")    \n",
    "plt.savefig('Class_Disstribution.png')\n",
    "plt.show()"
   ]
  },
  {
   "cell_type": "code",
   "execution_count": 1206,
   "id": "79b29b44",
   "metadata": {},
   "outputs": [
    {
     "data": {
      "text/plain": [
       "Counter({0: 41839, 1: 704})"
      ]
     },
     "execution_count": 1206,
     "metadata": {},
     "output_type": "execute_result"
    }
   ],
   "source": [
    "Counter(dataframe_all['SepsisLabel'])"
   ]
  },
  {
   "cell_type": "code",
   "execution_count": 1207,
   "id": "ac6d4089",
   "metadata": {
    "scrolled": true
   },
   "outputs": [
    {
     "data": {
      "image/png": "[encoded data removed]",
      "text/plain": [
       "<Figure size 432x288 with 2 Axes>"
      ]
     },
     "metadata": {
      "needs_background": "light"
     },
     "output_type": "display_data"
    }
   ],
   "source": [
    "# correlation matrix\n",
    "corr = dataframe_all.corr()\n",
    "sns.heatmap(corr, cmap='coolwarm_r', annot_kws={'size':20})\n",
    "plt.savefig('Correlation_matrix.png')\n",
    "plt.show()"
   ]
  },
  {
   "cell_type": "code",
   "execution_count": 1208,
   "id": "e332ea58",
   "metadata": {},
   "outputs": [
    {
     "data": {
      "text/plain": [
       "(42543, 14)"
      ]
     },
     "execution_count": 1208,
     "metadata": {},
     "output_type": "execute_result"
    }
   ],
   "source": [
    "dataframe_all.shape"
   ]
  },
  {
   "cell_type": "code",
   "execution_count": 1209,
   "id": "801402b3",
   "metadata": {},
   "outputs": [
    {
     "data": {
      "text/plain": [
       "Counter({0: 41839, 1: 704})"
      ]
     },
     "execution_count": 1209,
     "metadata": {},
     "output_type": "execute_result"
    }
   ],
   "source": [
    "Counter(dataframe_all['SepsisLabel'])"
   ]
  },
  {
   "cell_type": "code",
   "execution_count": 1210,
   "id": "a5f3631b",
   "metadata": {},
   "outputs": [],
   "source": [
    "# Detect outliers using the z-score method\n",
    "z = np.abs(stats.zscore(dataframe_all.loc[:, dataframe_all.columns != 'SepsisLabel']))\n",
    "outliers = np.where(z > 3)\n",
    "#Delete the outliers\n",
    "dataframe_all = dataframe_all.drop(dataframe_all.loc[:, dataframe_all.columns != 'SepsisLabel'].index[outliers[0]])"
   ]
  },
  {
   "cell_type": "code",
   "execution_count": 1211,
   "id": "c3f6cdaa",
   "metadata": {},
   "outputs": [
    {
     "data": {
      "text/plain": [
       "Counter({0: 39406, 1: 606})"
      ]
     },
     "execution_count": 1211,
     "metadata": {},
     "output_type": "execute_result"
    }
   ],
   "source": [
    "Counter(dataframe_all['SepsisLabel'])"
   ]
  },
  {
   "cell_type": "code",
   "execution_count": 1212,
   "id": "c4a7e4ca",
   "metadata": {},
   "outputs": [],
   "source": [
    "dataframe_all['Age'] = dataframe_all['Age'].astype(\"int\")"
   ]
  },
  {
   "cell_type": "code",
   "execution_count": 1213,
   "id": "506554c0",
   "metadata": {},
   "outputs": [
    {
     "name": "stdout",
     "output_type": "stream",
     "text": [
      "<class 'pandas.core.frame.DataFrame'>\n",
      "Int64Index: 40012 entries, 0 to 38876\n",
      "Data columns (total 14 columns):\n",
      " #   Column       Non-Null Count  Dtype  \n",
      "---  ------       --------------  -----  \n",
      " 0   HR           40012 non-null  float64\n",
      " 1   O2Sat        40012 non-null  float64\n",
      " 2   Temp         40012 non-null  float64\n",
      " 3   SBP          40012 non-null  float64\n",
      " 4   MAP          40012 non-null  float64\n",
      " 5   DBP          40012 non-null  float64\n",
      " 6   Resp         40012 non-null  float64\n",
      " 7   Age          40012 non-null  int64  \n",
      " 8   Gender       40012 non-null  int64  \n",
      " 9   Unit1        40012 non-null  float64\n",
      " 10  Unit2        40012 non-null  float64\n",
      " 11  HospAdmTime  40012 non-null  float64\n",
      " 12  ICULOS       40012 non-null  int64  \n",
      " 13  SepsisLabel  40012 non-null  int64  \n",
      "dtypes: float64(10), int64(4)\n",
      "memory usage: 4.6 MB\n"
     ]
    }
   ],
   "source": [
    "dataframe_all.info()"
   ]
  },
  {
   "cell_type": "code",
   "execution_count": 1214,
   "id": "30475d6f",
   "metadata": {},
   "outputs": [],
   "source": [
    "\n",
    "from collections import Counter\n",
    "Counter(dataframe_all[\"SepsisLabel\"]) \n",
    "X = dataframe_all.drop(\"SepsisLabel\",axis=1)\n",
    "y = dataframe_all[\"SepsisLabel\"]\n"
   ]
  },
  {
   "cell_type": "code",
   "execution_count": 1215,
   "id": "473fafba",
   "metadata": {},
   "outputs": [
    {
     "data": {
      "text/plain": [
       "Counter({0: 39406, 1: 606})"
      ]
     },
     "execution_count": 1215,
     "metadata": {},
     "output_type": "execute_result"
    }
   ],
   "source": [
    "Counter(y)\n"
   ]
  },
  {
   "cell_type": "code",
   "execution_count": 1216,
   "id": "f7ed2913",
   "metadata": {},
   "outputs": [
    {
     "data": {
      "text/html": [
       "<div>\n",
       "<style scoped>\n",
       "    .dataframe tbody tr th:only-of-type {\n",
       "        vertical-align: middle;\n",
       "    }\n",
       "\n",
       "    .dataframe tbody tr th {\n",
       "        vertical-align: top;\n",
       "    }\n",
       "\n",
       "    .dataframe thead th {\n",
       "        text-align: right;\n",
       "    }\n",
       "</style>\n",
       "<table border=\"1\" class=\"dataframe\">\n",
       "  <thead>\n",
       "    <tr style=\"text-align: right;\">\n",
       "      <th></th>\n",
       "      <th>HR</th>\n",
       "      <th>O2Sat</th>\n",
       "      <th>Temp</th>\n",
       "      <th>SBP</th>\n",
       "      <th>MAP</th>\n",
       "      <th>DBP</th>\n",
       "      <th>Resp</th>\n",
       "      <th>Age</th>\n",
       "      <th>Gender</th>\n",
       "      <th>Unit1</th>\n",
       "      <th>Unit2</th>\n",
       "      <th>HospAdmTime</th>\n",
       "      <th>ICULOS</th>\n",
       "      <th>SepsisLabel</th>\n",
       "    </tr>\n",
       "  </thead>\n",
       "  <tbody>\n",
       "    <tr>\n",
       "      <th>0</th>\n",
       "      <td>98.0</td>\n",
       "      <td>98.0</td>\n",
       "      <td>98.0</td>\n",
       "      <td>98.0</td>\n",
       "      <td>98.00</td>\n",
       "      <td>98.0</td>\n",
       "      <td>98.0</td>\n",
       "      <td>83</td>\n",
       "      <td>0</td>\n",
       "      <td>98.0</td>\n",
       "      <td>98.0</td>\n",
       "      <td>-0.03</td>\n",
       "      <td>1</td>\n",
       "      <td>0</td>\n",
       "    </tr>\n",
       "    <tr>\n",
       "      <th>1</th>\n",
       "      <td>97.0</td>\n",
       "      <td>95.0</td>\n",
       "      <td>98.0</td>\n",
       "      <td>98.0</td>\n",
       "      <td>75.33</td>\n",
       "      <td>98.0</td>\n",
       "      <td>19.0</td>\n",
       "      <td>83</td>\n",
       "      <td>0</td>\n",
       "      <td>98.0</td>\n",
       "      <td>98.0</td>\n",
       "      <td>-0.03</td>\n",
       "      <td>2</td>\n",
       "      <td>0</td>\n",
       "    </tr>\n",
       "    <tr>\n",
       "      <th>2</th>\n",
       "      <td>89.0</td>\n",
       "      <td>99.0</td>\n",
       "      <td>98.0</td>\n",
       "      <td>122.0</td>\n",
       "      <td>86.00</td>\n",
       "      <td>98.0</td>\n",
       "      <td>22.0</td>\n",
       "      <td>83</td>\n",
       "      <td>0</td>\n",
       "      <td>98.0</td>\n",
       "      <td>98.0</td>\n",
       "      <td>-0.03</td>\n",
       "      <td>3</td>\n",
       "      <td>0</td>\n",
       "    </tr>\n",
       "    <tr>\n",
       "      <th>3</th>\n",
       "      <td>90.0</td>\n",
       "      <td>95.0</td>\n",
       "      <td>98.0</td>\n",
       "      <td>98.0</td>\n",
       "      <td>98.00</td>\n",
       "      <td>98.0</td>\n",
       "      <td>30.0</td>\n",
       "      <td>83</td>\n",
       "      <td>0</td>\n",
       "      <td>98.0</td>\n",
       "      <td>98.0</td>\n",
       "      <td>-0.03</td>\n",
       "      <td>4</td>\n",
       "      <td>0</td>\n",
       "    </tr>\n",
       "    <tr>\n",
       "      <th>5</th>\n",
       "      <td>110.0</td>\n",
       "      <td>91.0</td>\n",
       "      <td>98.0</td>\n",
       "      <td>98.0</td>\n",
       "      <td>98.00</td>\n",
       "      <td>98.0</td>\n",
       "      <td>22.0</td>\n",
       "      <td>83</td>\n",
       "      <td>0</td>\n",
       "      <td>98.0</td>\n",
       "      <td>98.0</td>\n",
       "      <td>-0.03</td>\n",
       "      <td>6</td>\n",
       "      <td>0</td>\n",
       "    </tr>\n",
       "  </tbody>\n",
       "</table>\n",
       "</div>"
      ],
      "text/plain": [
       "      HR  O2Sat  Temp    SBP    MAP   DBP  Resp  Age  Gender  Unit1  Unit2  \\\n",
       "0   98.0   98.0  98.0   98.0  98.00  98.0  98.0   83       0   98.0   98.0   \n",
       "1   97.0   95.0  98.0   98.0  75.33  98.0  19.0   83       0   98.0   98.0   \n",
       "2   89.0   99.0  98.0  122.0  86.00  98.0  22.0   83       0   98.0   98.0   \n",
       "3   90.0   95.0  98.0   98.0  98.00  98.0  30.0   83       0   98.0   98.0   \n",
       "5  110.0   91.0  98.0   98.0  98.00  98.0  22.0   83       0   98.0   98.0   \n",
       "\n",
       "   HospAdmTime  ICULOS  SepsisLabel  \n",
       "0        -0.03       1            0  \n",
       "1        -0.03       2            0  \n",
       "2        -0.03       3            0  \n",
       "3        -0.03       4            0  \n",
       "5        -0.03       6            0  "
      ]
     },
     "execution_count": 1216,
     "metadata": {},
     "output_type": "execute_result"
    }
   ],
   "source": [
    "dataframe_all.head()\n"
   ]
  },
  {
   "cell_type": "code",
   "execution_count": 1217,
   "id": "0b4d1662",
   "metadata": {},
   "outputs": [
    {
     "data": {
      "text/plain": [
       "((40012, 13), (40012,))"
      ]
     },
     "execution_count": 1217,
     "metadata": {},
     "output_type": "execute_result"
    }
   ],
   "source": [
    "X.shape, y.shape"
   ]
  },
  {
   "cell_type": "code",
   "execution_count": 1218,
   "id": "ae9551c9",
   "metadata": {},
   "outputs": [],
   "source": [
    "#Split the data into train and test data set \n",
    "from sklearn.model_selection import train_test_split\n",
    "X_train, X_test, y_train, y_test = train_test_split(X,y, test_size = 0.3, random_state = 0)"
   ]
  },
  {
   "cell_type": "code",
   "execution_count": 1219,
   "id": "3733b8f4",
   "metadata": {},
   "outputs": [
    {
     "data": {
      "text/html": [
       "<div>\n",
       "<style scoped>\n",
       "    .dataframe tbody tr th:only-of-type {\n",
       "        vertical-align: middle;\n",
       "    }\n",
       "\n",
       "    .dataframe tbody tr th {\n",
       "        vertical-align: top;\n",
       "    }\n",
       "\n",
       "    .dataframe thead th {\n",
       "        text-align: right;\n",
       "    }\n",
       "</style>\n",
       "<table border=\"1\" class=\"dataframe\">\n",
       "  <thead>\n",
       "    <tr style=\"text-align: right;\">\n",
       "      <th></th>\n",
       "      <th>HR</th>\n",
       "      <th>O2Sat</th>\n",
       "      <th>Temp</th>\n",
       "      <th>SBP</th>\n",
       "      <th>MAP</th>\n",
       "      <th>DBP</th>\n",
       "      <th>Resp</th>\n",
       "      <th>Age</th>\n",
       "      <th>Gender</th>\n",
       "      <th>Unit1</th>\n",
       "      <th>Unit2</th>\n",
       "      <th>HospAdmTime</th>\n",
       "      <th>ICULOS</th>\n",
       "    </tr>\n",
       "  </thead>\n",
       "  <tbody>\n",
       "    <tr>\n",
       "      <th>13806</th>\n",
       "      <td>100.0</td>\n",
       "      <td>98.5</td>\n",
       "      <td>37.50</td>\n",
       "      <td>110.0</td>\n",
       "      <td>70.0</td>\n",
       "      <td>51.0</td>\n",
       "      <td>18.0</td>\n",
       "      <td>61</td>\n",
       "      <td>1</td>\n",
       "      <td>0.0</td>\n",
       "      <td>1.0</td>\n",
       "      <td>-141.65</td>\n",
       "      <td>35</td>\n",
       "    </tr>\n",
       "    <tr>\n",
       "      <th>10770</th>\n",
       "      <td>101.0</td>\n",
       "      <td>99.0</td>\n",
       "      <td>36.10</td>\n",
       "      <td>146.0</td>\n",
       "      <td>121.0</td>\n",
       "      <td>104.0</td>\n",
       "      <td>20.0</td>\n",
       "      <td>30</td>\n",
       "      <td>0</td>\n",
       "      <td>1.0</td>\n",
       "      <td>0.0</td>\n",
       "      <td>-7.81</td>\n",
       "      <td>8</td>\n",
       "    </tr>\n",
       "    <tr>\n",
       "      <th>28847</th>\n",
       "      <td>98.0</td>\n",
       "      <td>98.0</td>\n",
       "      <td>98.00</td>\n",
       "      <td>98.0</td>\n",
       "      <td>98.0</td>\n",
       "      <td>98.0</td>\n",
       "      <td>98.0</td>\n",
       "      <td>66</td>\n",
       "      <td>1</td>\n",
       "      <td>98.0</td>\n",
       "      <td>98.0</td>\n",
       "      <td>-2.94</td>\n",
       "      <td>16</td>\n",
       "    </tr>\n",
       "    <tr>\n",
       "      <th>3244</th>\n",
       "      <td>98.0</td>\n",
       "      <td>98.0</td>\n",
       "      <td>98.00</td>\n",
       "      <td>98.0</td>\n",
       "      <td>98.0</td>\n",
       "      <td>98.0</td>\n",
       "      <td>98.0</td>\n",
       "      <td>69</td>\n",
       "      <td>1</td>\n",
       "      <td>98.0</td>\n",
       "      <td>98.0</td>\n",
       "      <td>-2.89</td>\n",
       "      <td>45</td>\n",
       "    </tr>\n",
       "    <tr>\n",
       "      <th>17026</th>\n",
       "      <td>98.0</td>\n",
       "      <td>98.0</td>\n",
       "      <td>98.00</td>\n",
       "      <td>98.0</td>\n",
       "      <td>98.0</td>\n",
       "      <td>98.0</td>\n",
       "      <td>98.0</td>\n",
       "      <td>100</td>\n",
       "      <td>1</td>\n",
       "      <td>1.0</td>\n",
       "      <td>0.0</td>\n",
       "      <td>-180.74</td>\n",
       "      <td>1</td>\n",
       "    </tr>\n",
       "    <tr>\n",
       "      <th>...</th>\n",
       "      <td>...</td>\n",
       "      <td>...</td>\n",
       "      <td>...</td>\n",
       "      <td>...</td>\n",
       "      <td>...</td>\n",
       "      <td>...</td>\n",
       "      <td>...</td>\n",
       "      <td>...</td>\n",
       "      <td>...</td>\n",
       "      <td>...</td>\n",
       "      <td>...</td>\n",
       "      <td>...</td>\n",
       "      <td>...</td>\n",
       "    </tr>\n",
       "    <tr>\n",
       "      <th>18424</th>\n",
       "      <td>86.0</td>\n",
       "      <td>97.0</td>\n",
       "      <td>98.00</td>\n",
       "      <td>135.0</td>\n",
       "      <td>87.0</td>\n",
       "      <td>60.0</td>\n",
       "      <td>23.0</td>\n",
       "      <td>49</td>\n",
       "      <td>0</td>\n",
       "      <td>0.0</td>\n",
       "      <td>1.0</td>\n",
       "      <td>-11.63</td>\n",
       "      <td>22</td>\n",
       "    </tr>\n",
       "    <tr>\n",
       "      <th>30239</th>\n",
       "      <td>98.5</td>\n",
       "      <td>96.5</td>\n",
       "      <td>37.80</td>\n",
       "      <td>143.0</td>\n",
       "      <td>97.5</td>\n",
       "      <td>67.0</td>\n",
       "      <td>22.5</td>\n",
       "      <td>79</td>\n",
       "      <td>1</td>\n",
       "      <td>0.0</td>\n",
       "      <td>1.0</td>\n",
       "      <td>-0.04</td>\n",
       "      <td>2</td>\n",
       "    </tr>\n",
       "    <tr>\n",
       "      <th>28512</th>\n",
       "      <td>114.0</td>\n",
       "      <td>99.0</td>\n",
       "      <td>98.00</td>\n",
       "      <td>124.0</td>\n",
       "      <td>95.0</td>\n",
       "      <td>80.0</td>\n",
       "      <td>36.0</td>\n",
       "      <td>61</td>\n",
       "      <td>1</td>\n",
       "      <td>0.0</td>\n",
       "      <td>1.0</td>\n",
       "      <td>-527.24</td>\n",
       "      <td>8</td>\n",
       "    </tr>\n",
       "    <tr>\n",
       "      <th>18915</th>\n",
       "      <td>106.0</td>\n",
       "      <td>95.0</td>\n",
       "      <td>98.00</td>\n",
       "      <td>107.0</td>\n",
       "      <td>80.0</td>\n",
       "      <td>67.0</td>\n",
       "      <td>26.0</td>\n",
       "      <td>22</td>\n",
       "      <td>0</td>\n",
       "      <td>1.0</td>\n",
       "      <td>0.0</td>\n",
       "      <td>-11.43</td>\n",
       "      <td>4</td>\n",
       "    </tr>\n",
       "    <tr>\n",
       "      <th>3066</th>\n",
       "      <td>80.0</td>\n",
       "      <td>97.0</td>\n",
       "      <td>37.55</td>\n",
       "      <td>136.5</td>\n",
       "      <td>80.5</td>\n",
       "      <td>56.0</td>\n",
       "      <td>22.0</td>\n",
       "      <td>76</td>\n",
       "      <td>0</td>\n",
       "      <td>0.0</td>\n",
       "      <td>1.0</td>\n",
       "      <td>-114.92</td>\n",
       "      <td>14</td>\n",
       "    </tr>\n",
       "  </tbody>\n",
       "</table>\n",
       "<p>28008 rows × 13 columns</p>\n",
       "</div>"
      ],
      "text/plain": [
       "          HR  O2Sat   Temp    SBP    MAP    DBP  Resp  Age  Gender  Unit1  \\\n",
       "13806  100.0   98.5  37.50  110.0   70.0   51.0  18.0   61       1    0.0   \n",
       "10770  101.0   99.0  36.10  146.0  121.0  104.0  20.0   30       0    1.0   \n",
       "28847   98.0   98.0  98.00   98.0   98.0   98.0  98.0   66       1   98.0   \n",
       "3244    98.0   98.0  98.00   98.0   98.0   98.0  98.0   69       1   98.0   \n",
       "17026   98.0   98.0  98.00   98.0   98.0   98.0  98.0  100       1    1.0   \n",
       "...      ...    ...    ...    ...    ...    ...   ...  ...     ...    ...   \n",
       "18424   86.0   97.0  98.00  135.0   87.0   60.0  23.0   49       0    0.0   \n",
       "30239   98.5   96.5  37.80  143.0   97.5   67.0  22.5   79       1    0.0   \n",
       "28512  114.0   99.0  98.00  124.0   95.0   80.0  36.0   61       1    0.0   \n",
       "18915  106.0   95.0  98.00  107.0   80.0   67.0  26.0   22       0    1.0   \n",
       "3066    80.0   97.0  37.55  136.5   80.5   56.0  22.0   76       0    0.0   \n",
       "\n",
       "       Unit2  HospAdmTime  ICULOS  \n",
       "13806    1.0      -141.65      35  \n",
       "10770    0.0        -7.81       8  \n",
       "28847   98.0        -2.94      16  \n",
       "3244    98.0        -2.89      45  \n",
       "17026    0.0      -180.74       1  \n",
       "...      ...          ...     ...  \n",
       "18424    1.0       -11.63      22  \n",
       "30239    1.0        -0.04       2  \n",
       "28512    1.0      -527.24       8  \n",
       "18915    0.0       -11.43       4  \n",
       "3066     1.0      -114.92      14  \n",
       "\n",
       "[28008 rows x 13 columns]"
      ]
     },
     "execution_count": 1219,
     "metadata": {},
     "output_type": "execute_result"
    }
   ],
   "source": [
    "X_train"
   ]
  },
  {
   "cell_type": "code",
   "execution_count": 1220,
   "id": "ee411d98",
   "metadata": {},
   "outputs": [
    {
     "data": {
      "text/plain": [
       "Index(['HR', 'O2Sat', 'Temp', 'SBP', 'MAP', 'DBP', 'Resp', 'Age', 'Gender',\n",
       "       'Unit1', 'Unit2', 'HospAdmTime', 'ICULOS'],\n",
       "      dtype='object')"
      ]
     },
     "execution_count": 1220,
     "metadata": {},
     "output_type": "execute_result"
    }
   ],
   "source": [
    "X.columns"
   ]
  },
  {
   "cell_type": "code",
   "execution_count": 1221,
   "id": "3d327f49",
   "metadata": {},
   "outputs": [
    {
     "data": {
      "text/plain": [
       "13806    0\n",
       "10770    0\n",
       "28847    0\n",
       "3244     0\n",
       "17026    0\n",
       "        ..\n",
       "18424    0\n",
       "30239    0\n",
       "28512    0\n",
       "18915    0\n",
       "3066     0\n",
       "Name: SepsisLabel, Length: 28008, dtype: int64"
      ]
     },
     "execution_count": 1221,
     "metadata": {},
     "output_type": "execute_result"
    }
   ],
   "source": [
    "y_train"
   ]
  },
  {
   "cell_type": "code",
   "execution_count": 1222,
   "id": "b68e96d8",
   "metadata": {},
   "outputs": [
    {
     "data": {
      "text/plain": [
       "Counter({0: 11829, 1: 175})"
      ]
     },
     "execution_count": 1222,
     "metadata": {},
     "output_type": "execute_result"
    }
   ],
   "source": [
    "Counter(y_test)"
   ]
  },
  {
   "cell_type": "code",
   "execution_count": 1223,
   "id": "ec8f10c0",
   "metadata": {},
   "outputs": [
    {
     "name": "stdout",
     "output_type": "stream",
     "text": [
      "After OverSampling, counts of labels 1 is : 27577\n",
      "After OverSampling, counts of labels 1 is : 27577\n"
     ]
    }
   ],
   "source": [
    "##Method 1: Over-sampling the minority class\n",
    "from imblearn.over_sampling import SMOTE\n",
    "sm = SMOTE(sampling_strategy=1,random_state = 0)\n",
    "X_train_SMOTE, y_train_SMOTE = sm.fit_resample(X_train, y_train.ravel())\n",
    "print(\"After OverSampling, counts of labels 1 is : {}\".format(sum(y_train_SMOTE == 1)))\n",
    "print(\"After OverSampling, counts of labels 1 is : {}\".format(sum(y_train_SMOTE == 0)))\n"
   ]
  },
  {
   "cell_type": "code",
   "execution_count": 1225,
   "id": "79067729",
   "metadata": {},
   "outputs": [
    {
     "data": {
      "text/plain": [
       "array([0, 0, 0, ..., 1, 1, 1])"
      ]
     },
     "execution_count": 1225,
     "metadata": {},
     "output_type": "execute_result"
    }
   ],
   "source": [
    "y_train_SMOTE"
   ]
  },
  {
   "cell_type": "code",
   "execution_count": 970,
   "id": "1fa62ad5",
   "metadata": {},
   "outputs": [
    {
     "name": "stdout",
     "output_type": "stream",
     "text": [
      "Counter({0: 431, 1: 431})\n",
      "After UnderSampling, counts of labels 1 is : 431\n",
      "After UnderSampling, counts of labels 1 is : 431\n"
     ]
    }
   ],
   "source": [
    "#Method 2 : downsampling the majority class \n",
    "from imblearn.under_sampling import RandomUnderSampler\n",
    "undersample = RandomUnderSampler(sampling_strategy='majority')\n",
    "X_train_undersample, y_train_undersample = undersample.fit_resample(X_train, y_train)\n",
    "print(Counter(y_train_undersample)) #join the majority and minority filtered samples\n",
    "print(\"After UnderSampling, counts of labels 1 is : {}\".format(sum(y_train_undersample== 1)))\n",
    "print(\"After UnderSampling, counts of labels 1 is : {}\".format(sum(y_train_undersample == 0)))"
   ]
  },
  {
   "cell_type": "code",
   "execution_count": 971,
   "id": "2f3b27e3",
   "metadata": {},
   "outputs": [
    {
     "name": "stdout",
     "output_type": "stream",
     "text": [
      "After ReSampling with SMOTETOMEK, counts of label '1': 27571\n",
      "After ReSampling with SMOTETOME, counts of label '0': 27571\n"
     ]
    }
   ],
   "source": [
    "#Method 3 : Combine the over and downsampling techniques \n",
    "from imblearn.combine import SMOTETomek\n",
    "smt = SMOTETomek(random_state=42)\n",
    "X_train_smotetomek, y_train_smotetomek = smt.fit_resample(X_train, y_train)\n",
    "X_train_smotetomek.shape,y_train_smotetomek.shape\n",
    "print(\"After ReSampling with SMOTETOMEK, counts of label '1': {}\".format(sum(y_train_smotetomek == 1))) \n",
    "print(\"After ReSampling with SMOTETOME, counts of label '0': {}\".format(sum(y_train_smotetomek == 0))) \n"
   ]
  },
  {
   "cell_type": "code",
   "execution_count": 972,
   "id": "30fb6902",
   "metadata": {},
   "outputs": [],
   "source": [
    "#functions to generate accuracy report\n",
    "def evaluation_score (y_test,y_pred):\n",
    "    cm = confusion_matrix(y_test,y_pred) \n",
    "    print(\"Confusion Matrix \\n\", cm)\n",
    "    print(\"Classification Report \\n\", classification_report(y_test,y_pred))"
   ]
  },
  {
   "cell_type": "code",
   "execution_count": 973,
   "id": "9f95d2cd",
   "metadata": {},
   "outputs": [],
   "source": [
    "def Plotting(Plots_title, Acc, Pre, Sens, Spec):\n",
    "    \n",
    "    plot = plt.figure()\n",
    "    axes = plot.add_axes([0,0,1,1])\n",
    "    metrics = ['Accuracy',  'Precision', 'Sensitivity','Specificty']\n",
    "    values = [Acc, Pre, Sens, Spec]\n",
    "    barlist = axes.bar(metrics,values, width=0.5)\n",
    "    barlist[0].set_color('royalblue')\n",
    "    barlist[1].set_color('green')\n",
    "    barlist[2].set_color('orange')\n",
    "    barlist[3].set_color('yellow')\n",
    "    axes.set_yticks(np.arange(0, 1.25, 0.5))\n",
    "    axes.set_title(Plots_title)\n",
    "    def autolabel(rects):\n",
    "        for idx,rect in enumerate(barlist):\n",
    "            height = rect.get_height()\n",
    "            axes.text(rect.get_x() + rect.get_width()/2., 1*height,\n",
    "                    round(values[idx],3),\n",
    "                    ha='center', va='bottom', rotation=0)\n",
    "\n",
    "    autolabel(barlist)\n",
    "    plt.show()\n"
   ]
  },
  {
   "cell_type": "code",
   "execution_count": 974,
   "id": "649e45b8",
   "metadata": {},
   "outputs": [
    {
     "name": "stdout",
     "output_type": "stream",
     "text": [
      "The best accuracy without resampling: 0.9859325906883747\n",
      "The best paramters without resampling {'min_samples_split': 6, 'min_samples_leaf': 2, 'min_impurity_decrease': 0, 'max_depth': 500, 'criterion': 'entropy'}\n"
     ]
    }
   ],
   "source": [
    "# Parameters tuning \n",
    "from sklearn.ensemble import RandomForestClassifier\n",
    "rf_model = RandomForestClassifier()\n",
    "\n",
    "from sklearn.model_selection import RandomizedSearchCV\n",
    "parameters = [{'max_depth':[10, 100, 500, 1000], 'criterion': ['gini','entropy'],'min_samples_split':[2,3,4,5,6,7,8,9,10],'min_samples_leaf':[1,2,3,4,5],'min_impurity_decrease':[0,1,2,3,4,5]}]\n",
    "param_search = RandomizedSearchCV(estimator = rf_model,param_distributions = parameters,scoring = 'accuracy',cv = 3)\n",
    "\n",
    "\n",
    "#RF with no resampling (NR)\n",
    "\n",
    "param_search = param_search.fit(X_train, y_train)\n",
    "best_accuracy = param_search.best_score_\n",
    "best_parameters = param_search.best_params_\n",
    "print(\"The best accuracy without resampling:\", best_accuracy)\n",
    "print(\"The best paramters without resampling\", best_parameters)\n",
    "\n",
    "rf_model_NR = RandomForestClassifier(criterion = best_parameters['criterion'],\n",
    "                                  max_depth = best_parameters['max_depth'],\n",
    "                                  min_impurity_decrease = best_parameters['min_impurity_decrease'],\n",
    "                                  min_samples_leaf = best_parameters['min_samples_leaf'],\n",
    "                                  min_samples_split = best_parameters['min_samples_split'])\n",
    "\n",
    "\n",
    "\n"
   ]
  },
  {
   "cell_type": "code",
   "execution_count": 975,
   "id": "3c8eec6d",
   "metadata": {},
   "outputs": [
    {
     "name": "stdout",
     "output_type": "stream",
     "text": [
      "The best accuracy using SMOTE : 0.9941799295899939\n",
      "The best paramters using SMOTE  {'min_samples_split': 7, 'min_samples_leaf': 4, 'min_impurity_decrease': 0, 'max_depth': 100, 'criterion': 'gini'}\n"
     ]
    }
   ],
   "source": [
    "#RF with Smote\n",
    "\n",
    "\n",
    "param_search_SMOTE = param_search.fit(X_train_SMOTE, y_train_SMOTE)\n",
    "best_accuracy_SMOTE = param_search_SMOTE.best_score_\n",
    "best_parameters_SMOTE = param_search_SMOTE.best_params_\n",
    "print(\"The best accuracy using SMOTE :\", best_accuracy_SMOTE)\n",
    "print(\"The best paramters using SMOTE \", best_parameters_SMOTE)\n",
    "\n",
    "from sklearn.ensemble import RandomForestClassifier\n",
    "rf_model_SMOTE = RandomForestClassifier(criterion = best_parameters_SMOTE['criterion'],\n",
    "                                  max_depth = best_parameters_SMOTE['max_depth'],\n",
    "                                  min_impurity_decrease = best_parameters_SMOTE['min_impurity_decrease'],\n",
    "                                  min_samples_leaf = best_parameters_SMOTE['min_samples_leaf'],\n",
    "                                  min_samples_split = best_parameters_SMOTE['min_samples_split'])\n"
   ]
  },
  {
   "cell_type": "code",
   "execution_count": 1228,
   "id": "ff66c09e",
   "metadata": {},
   "outputs": [
    {
     "data": {
      "text/plain": [
       "['my_random_forest.joblib']"
      ]
     },
     "execution_count": 1228,
     "metadata": {},
     "output_type": "execute_result"
    }
   ],
   "source": [
    "# Save for next models\n",
    "import joblib\n",
    "\n",
    "# save\n",
    "joblib.dump(rf_model_SMOTE, \"my_random_forest.joblib\")\n"
   ]
  },
  {
   "cell_type": "code",
   "execution_count": 976,
   "id": "55659776",
   "metadata": {},
   "outputs": [
    {
     "name": "stdout",
     "output_type": "stream",
     "text": [
      "The best accuracy after undersampling: 0.79352577751968\n",
      "The best paramters after undersampling {'min_samples_split': 6, 'min_samples_leaf': 3, 'min_impurity_decrease': 0, 'max_depth': 10, 'criterion': 'entropy'}\n"
     ]
    }
   ],
   "source": [
    "#Rf with Undersampling \n",
    "\n",
    "param_search_undersample = param_search.fit(X_train_undersample, y_train_undersample)\n",
    "best_accuracy_undersample = param_search.best_score_\n",
    "best_parameters_undersample = param_search_undersample.best_params_\n",
    "print(\"The best accuracy after undersampling:\", best_accuracy_undersample)\n",
    "print(\"The best paramters after undersampling\", best_parameters_undersample)\n",
    "\n",
    "\n",
    "rf_model_undersample = RandomForestClassifier(criterion = best_parameters_undersample['criterion'],\n",
    "                                  max_depth = best_parameters_undersample['max_depth'],\n",
    "                                  min_impurity_decrease = best_parameters_undersample['min_impurity_decrease'],\n",
    "                                  min_samples_leaf = best_parameters_undersample['min_samples_leaf'],\n",
    "                                  min_samples_split = best_parameters_undersample['min_samples_split'])\n"
   ]
  },
  {
   "cell_type": "code",
   "execution_count": 977,
   "id": "eec302bf",
   "metadata": {},
   "outputs": [
    {
     "name": "stdout",
     "output_type": "stream",
     "text": [
      "The best accuracy using smotetomek: 0.9859325906883747\n",
      "The best paramters using smotetomek {'min_samples_split': 6, 'min_samples_leaf': 2, 'min_impurity_decrease': 0, 'max_depth': 500, 'criterion': 'entropy'}\n"
     ]
    }
   ],
   "source": [
    "# Rf with smotetomek \n",
    "param_search_smotetomek = param_search.fit(X_train_smotetomek, y_train_smotetomek)\n",
    "best_accuracy_smotetomek = param_search_smotetomek.best_score_\n",
    "best_parameters_smotetomek = param_search_smotetomek.best_params_\n",
    "print(\"The best accuracy using smotetomek:\", best_accuracy)\n",
    "print(\"The best paramters using smotetomek\", best_parameters)\n",
    "\n",
    "from sklearn.ensemble import RandomForestClassifier\n",
    "rf_model_smotetomek = RandomForestClassifier(criterion = best_parameters_smotetomek['criterion'],\n",
    "                                  max_depth = best_parameters_smotetomek['max_depth'],\n",
    "                                  min_impurity_decrease = best_parameters_smotetomek['min_impurity_decrease'],\n",
    "                                  min_samples_leaf = best_parameters_smotetomek['min_samples_leaf'],\n",
    "                                  min_samples_split = best_parameters_smotetomek['min_samples_split'])\n"
   ]
  },
  {
   "cell_type": "code",
   "execution_count": 978,
   "id": "26c1b250",
   "metadata": {},
   "outputs": [
    {
     "name": "stdout",
     "output_type": "stream",
     "text": [
      "Confusion Matrix \n",
      " [[11828     1]\n",
      " [  133    42]]\n",
      "Classification Report \n",
      "               precision    recall  f1-score   support\n",
      "\n",
      "           0       0.99      1.00      0.99     11829\n",
      "           1       0.98      0.24      0.39       175\n",
      "\n",
      "    accuracy                           0.99     12004\n",
      "   macro avg       0.98      0.62      0.69     12004\n",
      "weighted avg       0.99      0.99      0.99     12004\n",
      "\n"
     ]
    },
    {
     "data": {
      "image/png": "[encoded data removed]",
      "text/plain": [
       "<Figure size 432x288 with 1 Axes>"
      ]
     },
     "metadata": {
      "needs_background": "light"
     },
     "output_type": "display_data"
    },
    {
     "data": {
      "text/plain": [
       "<Figure size 432x288 with 0 Axes>"
      ]
     },
     "metadata": {},
     "output_type": "display_data"
    }
   ],
   "source": [
    "#evaluations of four model: rf_model/ rf_model_SMOTe/rf_model_undersampling / rf_model_oversampling\n",
    "rf_model_NR = rf_model.fit(X_train,y_train)\n",
    "y_pred = rf_model_NR.predict(X_test)\n",
    "evaluation_score(y_test,y_pred)\n",
    "\n",
    "def specificity_score (y_test,y_pred):\n",
    "    cm=confusion_matrix(y_test,y_pred)\n",
    "    TN, FP, FN, TP = cm.ravel()\n",
    "    specificity = TN / (TN+FP)\n",
    "    return specificity\n",
    "\n",
    "cm=confusion_matrix(y_test,y_pred)\n",
    "TN, FP, FN, TP = cm.ravel()\n",
    "pd.crosstab(y_test, y_pred, rownames = ['Actual'], colnames =['Predicted'], margins = True)\n",
    "Plotting(\"Metrics evaluation wihtout resampling\", accuracy_score(y_test,y_pred),precision_score(y_test,y_pred),recall_score(y_test,y_pred),specificity_score(y_test,y_pred)) \n",
    "\n",
    "\n",
    "plt.savefig('rf_model_with_no_resampling.png')"
   ]
  },
  {
   "cell_type": "code",
   "execution_count": 979,
   "id": "6f6c4f2f",
   "metadata": {},
   "outputs": [
    {
     "name": "stdout",
     "output_type": "stream",
     "text": [
      "Confusion Matrix \n",
      " [[11810    19]\n",
      " [   71   104]]\n",
      "Classification Report \n",
      "               precision    recall  f1-score   support\n",
      "\n",
      "           0       0.99      1.00      1.00     11829\n",
      "           1       0.85      0.59      0.70       175\n",
      "\n",
      "    accuracy                           0.99     12004\n",
      "   macro avg       0.92      0.80      0.85     12004\n",
      "weighted avg       0.99      0.99      0.99     12004\n",
      "\n"
     ]
    },
    {
     "data": {
      "image/png": "[encoded data removed]",
      "text/plain": [
       "<Figure size 432x288 with 1 Axes>"
      ]
     },
     "metadata": {
      "needs_background": "light"
     },
     "output_type": "display_data"
    },
    {
     "data": {
      "text/plain": [
       "<Figure size 432x288 with 0 Axes>"
      ]
     },
     "metadata": {},
     "output_type": "display_data"
    }
   ],
   "source": [
    "rf_model_SMOTE = rf_model.fit(X_train_SMOTE,y_train_SMOTE)\n",
    "y_pred_SMOTE = rf_model_SMOTE.predict(X_test)\n",
    "evaluation_score(y_test,y_pred_SMOTE)\n",
    "\n",
    "cm_SMOTE=confusion_matrix(y_test,y_pred_SMOTE)\n",
    "TN, FP, FN, TP = cm.ravel()\n",
    "pd.crosstab(y_test, y_pred_SMOTE, rownames = ['Actual'], colnames =['Predicted'], margins = True)\n",
    "Plotting(\"Metrics evaluation after oversampling with SMOTE \", accuracy_score(y_test,y_pred_SMOTE),precision_score(y_test,y_pred_SMOTE),recall_score(y_test,y_pred_SMOTE),specificity_score(y_test,y_pred_SMOTE)) \n",
    "plt.savefig('rf_model_with_SMOTE.png')"
   ]
  },
  {
   "cell_type": "code",
   "execution_count": 1170,
   "id": "cd461ac0",
   "metadata": {},
   "outputs": [
    {
     "data": {
      "text/plain": [
       "array([0, 0, 0, ..., 1, 1, 1])"
      ]
     },
     "execution_count": 1170,
     "metadata": {},
     "output_type": "execute_result"
    }
   ],
   "source": [
    "y_train_SMOTE\n"
   ]
  },
  {
   "cell_type": "code",
   "execution_count": 980,
   "id": "2104d8fc",
   "metadata": {},
   "outputs": [
    {
     "name": "stdout",
     "output_type": "stream",
     "text": [
      "Confusion Matrix \n",
      " [[10462  1367]\n",
      " [   19   156]]\n",
      "Classification Report \n",
      "               precision    recall  f1-score   support\n",
      "\n",
      "           0       1.00      0.88      0.94     11829\n",
      "           1       0.10      0.89      0.18       175\n",
      "\n",
      "    accuracy                           0.88     12004\n",
      "   macro avg       0.55      0.89      0.56     12004\n",
      "weighted avg       0.99      0.88      0.93     12004\n",
      "\n"
     ]
    },
    {
     "data": {
      "image/png": "[encoded data removed]",
      "text/plain": [
       "<Figure size 432x288 with 1 Axes>"
      ]
     },
     "metadata": {
      "needs_background": "light"
     },
     "output_type": "display_data"
    },
    {
     "name": "stdout",
     "output_type": "stream",
     "text": [
      "Accuracy: 0.884538487170943 \n",
      "precision: 0.10242941562705186 \n",
      "Recall: 0.8914285714285715 \n",
      "Specificity: 0.8844365542311269\n"
     ]
    },
    {
     "data": {
      "text/plain": [
       "<Figure size 432x288 with 0 Axes>"
      ]
     },
     "metadata": {},
     "output_type": "display_data"
    }
   ],
   "source": [
    "rf_model_undersample = rf_model.fit(X_train_undersample,y_train_undersample)\n",
    "y_pred_undersample = rf_model_undersample.predict(X_test)\n",
    "evaluation_score(y_test,y_pred_undersample)\n",
    "\n",
    "cm_undersample =confusion_matrix(y_test,y_pred_undersample)\n",
    "TN, FP, FN, TP = cm.ravel()\n",
    "pd.crosstab(y_test, y_pred_undersample, rownames = ['Actual'], colnames =['Predicted'], margins = True)\n",
    "Plotting(\"Metrics evaluation after UnderSampling\", accuracy_score(y_test,y_pred_undersample),precision_score(y_test,y_pred_undersample),recall_score(y_test,y_pred_undersample),specificity_score(y_test,y_pred_undersample)) \n",
    "print('Accuracy:', accuracy_score(y_test,y_pred_undersample),'\\nprecision:', precision_score(y_test,y_pred_undersample),\n",
    "     '\\nRecall:', recall_score(y_test,y_pred_undersample),'\\nSpecificity:', specificity_score(y_test,y_pred_undersample))\n",
    "plt.savefig('rf_model_with_undersampling.png')"
   ]
  },
  {
   "cell_type": "code",
   "execution_count": 981,
   "id": "7de6b494",
   "metadata": {},
   "outputs": [
    {
     "name": "stdout",
     "output_type": "stream",
     "text": [
      "Confusion Matrix \n",
      " [[11806    23]\n",
      " [   76    99]]\n",
      "Classification Report \n",
      "               precision    recall  f1-score   support\n",
      "\n",
      "           0       0.99      1.00      1.00     11829\n",
      "           1       0.81      0.57      0.67       175\n",
      "\n",
      "    accuracy                           0.99     12004\n",
      "   macro avg       0.90      0.78      0.83     12004\n",
      "weighted avg       0.99      0.99      0.99     12004\n",
      "\n"
     ]
    },
    {
     "data": {
      "image/png": "[encoded data removed]",
      "text/plain": [
       "<Figure size 432x288 with 1 Axes>"
      ]
     },
     "metadata": {
      "needs_background": "light"
     },
     "output_type": "display_data"
    },
    {
     "name": "stdout",
     "output_type": "stream",
     "text": [
      "Accuracy: 0.9917527490836388 \n",
      "precision: 0.8114754098360656 \n",
      "Recall: 0.5657142857142857 \n",
      "Specificity: 0.9980556260038888\n"
     ]
    },
    {
     "data": {
      "text/plain": [
       "<Figure size 432x288 with 0 Axes>"
      ]
     },
     "metadata": {},
     "output_type": "display_data"
    }
   ],
   "source": [
    "rf_model_smotetomek = rf_model.fit(X_train_smotetomek,y_train_smotetomek)\n",
    "y_pred_smotetomek = rf_model_smotetomek.predict(X_test)\n",
    "evaluation_score(y_test,y_pred_smotetomek)\n",
    "\n",
    "confusion_matrix(y_test,y_pred_smotetomek)\n",
    "pd.crosstab(y_test, y_pred_smotetomek, rownames = ['Actual'], colnames =['Predicted'], margins = True)\n",
    "Plotting(\"Metrics evaluation after SMOTETOMEK\", accuracy_score(y_test,y_pred_smotetomek),precision_score(y_test,y_pred_smotetomek),recall_score(y_test,y_pred_smotetomek),specificity_score(y_test,y_pred_smotetomek)) \n",
    "print('Accuracy:', accuracy_score(y_test,y_pred_smotetomek),'\\nprecision:', precision_score(y_test,y_pred_smotetomek),\n",
    "     '\\nRecall:', recall_score(y_test,y_pred_smotetomek),'\\nSpecificity:', specificity_score(y_test,y_pred_smotetomek))\n",
    "plt.savefig('rf_model_with_SMOTETOMEK.png')"
   ]
  },
  {
   "cell_type": "code",
   "execution_count": 982,
   "id": "7b0863db",
   "metadata": {
    "scrolled": true
   },
   "outputs": [
    {
     "data": {
      "image/png": "[encoded data removed]",
      "text/plain": [
       "<Figure size 432x288 with 1 Axes>"
      ]
     },
     "metadata": {
      "needs_background": "light"
     },
     "output_type": "display_data"
    },
    {
     "data": {
      "image/png": "[encoded data removed]",
      "text/plain": [
       "<Figure size 432x288 with 1 Axes>"
      ]
     },
     "metadata": {
      "needs_background": "light"
     },
     "output_type": "display_data"
    },
    {
     "data": {
      "image/png": "[encoded data removed]",
      "text/plain": [
       "<Figure size 432x288 with 1 Axes>"
      ]
     },
     "metadata": {
      "needs_background": "light"
     },
     "output_type": "display_data"
    },
    {
     "data": {
      "image/png": "[encoded data removed]",
      "text/plain": [
       "<Figure size 432x288 with 1 Axes>"
      ]
     },
     "metadata": {
      "needs_background": "light"
     },
     "output_type": "display_data"
    }
   ],
   "source": [
    "Plotting(\"Metrics Evaluation without resampling\", accuracy_score(y_test,y_pred),precision_score(y_test,y_pred),recall_score(y_test,y_pred),specificity_score(y_test,y_pred)) \n",
    "\n",
    "\n",
    "Plotting(\"Metrics evaluation after oversampling with SMOTE \", accuracy_score(y_test,y_pred_SMOTE),precision_score(y_test,y_pred_SMOTE),recall_score(y_test,y_pred_SMOTE),specificity_score(y_test,y_pred_SMOTE)) \n",
    "\n",
    "\n",
    "Plotting(\"Metrics evaluation after UnderSampling\", accuracy_score(y_test,y_pred_undersample),precision_score(y_test,y_pred_undersample),recall_score(y_test,y_pred_undersample),specificity_score(y_test,y_pred_undersample)) \n",
    "\n",
    "\n",
    "Plotting(\"Metrics evaluation after SMOTETOMEK\", accuracy_score(y_test,y_pred_smotetomek),precision_score(y_test,y_pred_smotetomek),recall_score(y_test,y_pred_smotetomek),specificity_score(y_test,y_pred_smotetomek)) \n",
    "\n"
   ]
  },
  {
   "cell_type": "code",
   "execution_count": 1046,
   "id": "f3a0fbc9",
   "metadata": {},
   "outputs": [
    {
     "name": "stdout",
     "output_type": "stream",
     "text": [
      "Counter({'HR': 1, 'O2Sat': 1, 'Temp': 1, 'SBP': 1, 'MAP': 1, 'DBP': 1, 'Resp': 1, 'Age': 1, 'Gender': 1, 'Unit1': 1, 'Unit2': 1, 'HospAdmTime': 1, 'ICULOS': 1, 'AgeGroup': 1})\n"
     ]
    }
   ],
   "source": [
    "print(Counter((X_test)))\n"
   ]
  },
  {
   "cell_type": "code",
   "execution_count": 1047,
   "id": "1e07f9d3",
   "metadata": {},
   "outputs": [
    {
     "data": {
      "text/html": [
       "<div>\n",
       "<style scoped>\n",
       "    .dataframe tbody tr th:only-of-type {\n",
       "        vertical-align: middle;\n",
       "    }\n",
       "\n",
       "    .dataframe tbody tr th {\n",
       "        vertical-align: top;\n",
       "    }\n",
       "\n",
       "    .dataframe thead th {\n",
       "        text-align: right;\n",
       "    }\n",
       "</style>\n",
       "<table border=\"1\" class=\"dataframe\">\n",
       "  <thead>\n",
       "    <tr style=\"text-align: right;\">\n",
       "      <th></th>\n",
       "      <th>HR</th>\n",
       "      <th>O2Sat</th>\n",
       "      <th>Temp</th>\n",
       "      <th>SBP</th>\n",
       "      <th>MAP</th>\n",
       "      <th>DBP</th>\n",
       "      <th>Resp</th>\n",
       "      <th>Age</th>\n",
       "      <th>Gender</th>\n",
       "      <th>Unit1</th>\n",
       "      <th>Unit2</th>\n",
       "      <th>HospAdmTime</th>\n",
       "      <th>ICULOS</th>\n",
       "      <th>AgeGroup</th>\n",
       "    </tr>\n",
       "  </thead>\n",
       "  <tbody>\n",
       "    <tr>\n",
       "      <th>5489</th>\n",
       "      <td>98.0</td>\n",
       "      <td>98.0</td>\n",
       "      <td>98.00</td>\n",
       "      <td>98.0</td>\n",
       "      <td>98.00</td>\n",
       "      <td>98.0</td>\n",
       "      <td>98.0</td>\n",
       "      <td>46</td>\n",
       "      <td>0</td>\n",
       "      <td>98.0</td>\n",
       "      <td>98.0</td>\n",
       "      <td>-4.80</td>\n",
       "      <td>19</td>\n",
       "      <td>Adult</td>\n",
       "    </tr>\n",
       "    <tr>\n",
       "      <th>2500</th>\n",
       "      <td>122.0</td>\n",
       "      <td>98.0</td>\n",
       "      <td>39.28</td>\n",
       "      <td>135.0</td>\n",
       "      <td>93.67</td>\n",
       "      <td>98.0</td>\n",
       "      <td>32.0</td>\n",
       "      <td>36</td>\n",
       "      <td>1</td>\n",
       "      <td>1.0</td>\n",
       "      <td>0.0</td>\n",
       "      <td>-0.02</td>\n",
       "      <td>24</td>\n",
       "      <td>Young</td>\n",
       "    </tr>\n",
       "    <tr>\n",
       "      <th>30561</th>\n",
       "      <td>68.0</td>\n",
       "      <td>96.0</td>\n",
       "      <td>98.00</td>\n",
       "      <td>160.0</td>\n",
       "      <td>90.00</td>\n",
       "      <td>62.0</td>\n",
       "      <td>15.0</td>\n",
       "      <td>53</td>\n",
       "      <td>1</td>\n",
       "      <td>98.0</td>\n",
       "      <td>98.0</td>\n",
       "      <td>0.00</td>\n",
       "      <td>21</td>\n",
       "      <td>Adult</td>\n",
       "    </tr>\n",
       "    <tr>\n",
       "      <th>1925</th>\n",
       "      <td>91.0</td>\n",
       "      <td>98.5</td>\n",
       "      <td>36.90</td>\n",
       "      <td>101.5</td>\n",
       "      <td>72.50</td>\n",
       "      <td>48.5</td>\n",
       "      <td>14.0</td>\n",
       "      <td>62</td>\n",
       "      <td>1</td>\n",
       "      <td>0.0</td>\n",
       "      <td>1.0</td>\n",
       "      <td>-93.26</td>\n",
       "      <td>41</td>\n",
       "      <td>Adult</td>\n",
       "    </tr>\n",
       "    <tr>\n",
       "      <th>32849</th>\n",
       "      <td>98.0</td>\n",
       "      <td>98.0</td>\n",
       "      <td>98.00</td>\n",
       "      <td>98.0</td>\n",
       "      <td>98.00</td>\n",
       "      <td>98.0</td>\n",
       "      <td>98.0</td>\n",
       "      <td>50</td>\n",
       "      <td>0</td>\n",
       "      <td>1.0</td>\n",
       "      <td>0.0</td>\n",
       "      <td>-6.05</td>\n",
       "      <td>31</td>\n",
       "      <td>Adult</td>\n",
       "    </tr>\n",
       "    <tr>\n",
       "      <th>...</th>\n",
       "      <td>...</td>\n",
       "      <td>...</td>\n",
       "      <td>...</td>\n",
       "      <td>...</td>\n",
       "      <td>...</td>\n",
       "      <td>...</td>\n",
       "      <td>...</td>\n",
       "      <td>...</td>\n",
       "      <td>...</td>\n",
       "      <td>...</td>\n",
       "      <td>...</td>\n",
       "      <td>...</td>\n",
       "      <td>...</td>\n",
       "      <td>...</td>\n",
       "    </tr>\n",
       "    <tr>\n",
       "      <th>26145</th>\n",
       "      <td>127.0</td>\n",
       "      <td>94.5</td>\n",
       "      <td>38.70</td>\n",
       "      <td>86.0</td>\n",
       "      <td>70.00</td>\n",
       "      <td>60.0</td>\n",
       "      <td>5.0</td>\n",
       "      <td>58</td>\n",
       "      <td>1</td>\n",
       "      <td>0.0</td>\n",
       "      <td>1.0</td>\n",
       "      <td>-74.53</td>\n",
       "      <td>43</td>\n",
       "      <td>Adult</td>\n",
       "    </tr>\n",
       "    <tr>\n",
       "      <th>7717</th>\n",
       "      <td>97.0</td>\n",
       "      <td>94.0</td>\n",
       "      <td>98.00</td>\n",
       "      <td>147.0</td>\n",
       "      <td>98.00</td>\n",
       "      <td>72.0</td>\n",
       "      <td>21.0</td>\n",
       "      <td>60</td>\n",
       "      <td>0</td>\n",
       "      <td>98.0</td>\n",
       "      <td>98.0</td>\n",
       "      <td>-0.05</td>\n",
       "      <td>22</td>\n",
       "      <td>Adult</td>\n",
       "    </tr>\n",
       "    <tr>\n",
       "      <th>34119</th>\n",
       "      <td>76.0</td>\n",
       "      <td>100.0</td>\n",
       "      <td>36.50</td>\n",
       "      <td>88.0</td>\n",
       "      <td>80.00</td>\n",
       "      <td>77.0</td>\n",
       "      <td>17.0</td>\n",
       "      <td>60</td>\n",
       "      <td>0</td>\n",
       "      <td>98.0</td>\n",
       "      <td>98.0</td>\n",
       "      <td>-0.02</td>\n",
       "      <td>27</td>\n",
       "      <td>Adult</td>\n",
       "    </tr>\n",
       "    <tr>\n",
       "      <th>3206</th>\n",
       "      <td>77.0</td>\n",
       "      <td>100.0</td>\n",
       "      <td>98.00</td>\n",
       "      <td>169.0</td>\n",
       "      <td>110.33</td>\n",
       "      <td>98.0</td>\n",
       "      <td>14.0</td>\n",
       "      <td>61</td>\n",
       "      <td>0</td>\n",
       "      <td>1.0</td>\n",
       "      <td>0.0</td>\n",
       "      <td>-8.63</td>\n",
       "      <td>5</td>\n",
       "      <td>Adult</td>\n",
       "    </tr>\n",
       "    <tr>\n",
       "      <th>5111</th>\n",
       "      <td>80.0</td>\n",
       "      <td>97.5</td>\n",
       "      <td>98.00</td>\n",
       "      <td>114.0</td>\n",
       "      <td>90.00</td>\n",
       "      <td>76.0</td>\n",
       "      <td>23.0</td>\n",
       "      <td>66</td>\n",
       "      <td>1</td>\n",
       "      <td>1.0</td>\n",
       "      <td>0.0</td>\n",
       "      <td>-350.75</td>\n",
       "      <td>117</td>\n",
       "      <td>OLD</td>\n",
       "    </tr>\n",
       "  </tbody>\n",
       "</table>\n",
       "<p>12004 rows × 14 columns</p>\n",
       "</div>"
      ],
      "text/plain": [
       "          HR  O2Sat   Temp    SBP     MAP   DBP  Resp  Age  Gender  Unit1  \\\n",
       "5489    98.0   98.0  98.00   98.0   98.00  98.0  98.0   46       0   98.0   \n",
       "2500   122.0   98.0  39.28  135.0   93.67  98.0  32.0   36       1    1.0   \n",
       "30561   68.0   96.0  98.00  160.0   90.00  62.0  15.0   53       1   98.0   \n",
       "1925    91.0   98.5  36.90  101.5   72.50  48.5  14.0   62       1    0.0   \n",
       "32849   98.0   98.0  98.00   98.0   98.00  98.0  98.0   50       0    1.0   \n",
       "...      ...    ...    ...    ...     ...   ...   ...  ...     ...    ...   \n",
       "26145  127.0   94.5  38.70   86.0   70.00  60.0   5.0   58       1    0.0   \n",
       "7717    97.0   94.0  98.00  147.0   98.00  72.0  21.0   60       0   98.0   \n",
       "34119   76.0  100.0  36.50   88.0   80.00  77.0  17.0   60       0   98.0   \n",
       "3206    77.0  100.0  98.00  169.0  110.33  98.0  14.0   61       0    1.0   \n",
       "5111    80.0   97.5  98.00  114.0   90.00  76.0  23.0   66       1    1.0   \n",
       "\n",
       "       Unit2  HospAdmTime  ICULOS AgeGroup  \n",
       "5489    98.0        -4.80      19    Adult  \n",
       "2500     0.0        -0.02      24    Young  \n",
       "30561   98.0         0.00      21    Adult  \n",
       "1925     1.0       -93.26      41    Adult  \n",
       "32849    0.0        -6.05      31    Adult  \n",
       "...      ...          ...     ...      ...  \n",
       "26145    1.0       -74.53      43    Adult  \n",
       "7717    98.0        -0.05      22    Adult  \n",
       "34119   98.0        -0.02      27    Adult  \n",
       "3206     0.0        -8.63       5    Adult  \n",
       "5111     0.0      -350.75     117      OLD  \n",
       "\n",
       "[12004 rows x 14 columns]"
      ]
     },
     "execution_count": 1047,
     "metadata": {},
     "output_type": "execute_result"
    }
   ],
   "source": [
    "X_test"
   ]
  },
  {
   "cell_type": "code",
   "execution_count": 1180,
   "id": "ac32394c",
   "metadata": {},
   "outputs": [
    {
     "data": {
      "text/plain": [
       "array([0, 0, 0, ..., 0, 0, 0])"
      ]
     },
     "execution_count": 1180,
     "metadata": {},
     "output_type": "execute_result"
    }
   ],
   "source": [
    "y_pred_SMOTE"
   ]
  },
  {
   "cell_type": "code",
   "execution_count": 1182,
   "id": "bc874775",
   "metadata": {},
   "outputs": [],
   "source": [
    "from numpy import asarray\n",
    "from numpy import savetxt\n",
    "\n",
    "# save to csv file\n",
    "savetxt('y_train_SMOTE.csv', y_train_SMOTE, delimiter=',')\n",
    "savetxt('X_train_SMOTE.csv', X_train_SMOTE, delimiter=',')\n",
    "savetxt('y_pred_SMOTE.csv', y_pred_SMOTE, delimiter=',')\n",
    "X_test.to_csv('X_test.csv')\n",
    "#savetxt('X_test.csv', X_test, delimiter=',')\n",
    "savetxt('y_test.csv', y_test, delimiter=',')"
   ]
  },
  {
   "cell_type": "code",
   "execution_count": 1108,
   "id": "d0503f99",
   "metadata": {},
   "outputs": [
    {
     "data": {
      "text/html": [
       "<div>\n",
       "<style scoped>\n",
       "    .dataframe tbody tr th:only-of-type {\n",
       "        vertical-align: middle;\n",
       "    }\n",
       "\n",
       "    .dataframe tbody tr th {\n",
       "        vertical-align: top;\n",
       "    }\n",
       "\n",
       "    .dataframe thead th {\n",
       "        text-align: right;\n",
       "    }\n",
       "</style>\n",
       "<table border=\"1\" class=\"dataframe\">\n",
       "  <thead>\n",
       "    <tr style=\"text-align: right;\">\n",
       "      <th></th>\n",
       "      <th>Age</th>\n",
       "      <th>Gender</th>\n",
       "    </tr>\n",
       "  </thead>\n",
       "  <tbody>\n",
       "    <tr>\n",
       "      <th>5489</th>\n",
       "      <td>46</td>\n",
       "      <td>0</td>\n",
       "    </tr>\n",
       "    <tr>\n",
       "      <th>2500</th>\n",
       "      <td>36</td>\n",
       "      <td>1</td>\n",
       "    </tr>\n",
       "    <tr>\n",
       "      <th>30561</th>\n",
       "      <td>53</td>\n",
       "      <td>1</td>\n",
       "    </tr>\n",
       "    <tr>\n",
       "      <th>1925</th>\n",
       "      <td>62</td>\n",
       "      <td>1</td>\n",
       "    </tr>\n",
       "    <tr>\n",
       "      <th>32849</th>\n",
       "      <td>50</td>\n",
       "      <td>0</td>\n",
       "    </tr>\n",
       "    <tr>\n",
       "      <th>...</th>\n",
       "      <td>...</td>\n",
       "      <td>...</td>\n",
       "    </tr>\n",
       "    <tr>\n",
       "      <th>26145</th>\n",
       "      <td>58</td>\n",
       "      <td>1</td>\n",
       "    </tr>\n",
       "    <tr>\n",
       "      <th>7717</th>\n",
       "      <td>60</td>\n",
       "      <td>0</td>\n",
       "    </tr>\n",
       "    <tr>\n",
       "      <th>34119</th>\n",
       "      <td>60</td>\n",
       "      <td>0</td>\n",
       "    </tr>\n",
       "    <tr>\n",
       "      <th>3206</th>\n",
       "      <td>61</td>\n",
       "      <td>0</td>\n",
       "    </tr>\n",
       "    <tr>\n",
       "      <th>5111</th>\n",
       "      <td>66</td>\n",
       "      <td>1</td>\n",
       "    </tr>\n",
       "  </tbody>\n",
       "</table>\n",
       "<p>12004 rows × 2 columns</p>\n",
       "</div>"
      ],
      "text/plain": [
       "       Age  Gender\n",
       "5489    46       0\n",
       "2500    36       1\n",
       "30561   53       1\n",
       "1925    62       1\n",
       "32849   50       0\n",
       "...    ...     ...\n",
       "26145   58       1\n",
       "7717    60       0\n",
       "34119   60       0\n",
       "3206    61       0\n",
       "5111    66       1\n",
       "\n",
       "[12004 rows x 2 columns]"
      ]
     },
     "execution_count": 1108,
     "metadata": {},
     "output_type": "execute_result"
    }
   ],
   "source": [
    "sensitive_features = X_test[['Age','Gender']] \n",
    "sensitive_features"
   ]
  },
  {
   "cell_type": "code",
   "execution_count": 1109,
   "id": "baa5c11a",
   "metadata": {
    "scrolled": true
   },
   "outputs": [],
   "source": [
    "sensitive_features = X_test[['Age','Gender']] \n",
    "\n",
    "#Define target variable \n",
    "sensitive_features['y_true'] =  y_test\n",
    "#Define the predicted values\n",
    "sensitive_features['y_pred'] = y_pred_SMOTE\n"
   ]
  },
  {
   "cell_type": "code",
   "execution_count": 1110,
   "id": "8e73d346",
   "metadata": {},
   "outputs": [
    {
     "data": {
      "text/html": [
       "<div>\n",
       "<style scoped>\n",
       "    .dataframe tbody tr th:only-of-type {\n",
       "        vertical-align: middle;\n",
       "    }\n",
       "\n",
       "    .dataframe tbody tr th {\n",
       "        vertical-align: top;\n",
       "    }\n",
       "\n",
       "    .dataframe thead th {\n",
       "        text-align: right;\n",
       "    }\n",
       "</style>\n",
       "<table border=\"1\" class=\"dataframe\">\n",
       "  <thead>\n",
       "    <tr style=\"text-align: right;\">\n",
       "      <th></th>\n",
       "      <th>Age</th>\n",
       "      <th>Gender</th>\n",
       "      <th>y_true</th>\n",
       "      <th>y_pred</th>\n",
       "    </tr>\n",
       "  </thead>\n",
       "  <tbody>\n",
       "    <tr>\n",
       "      <th>5489</th>\n",
       "      <td>46</td>\n",
       "      <td>0</td>\n",
       "      <td>0</td>\n",
       "      <td>0</td>\n",
       "    </tr>\n",
       "    <tr>\n",
       "      <th>2500</th>\n",
       "      <td>36</td>\n",
       "      <td>1</td>\n",
       "      <td>0</td>\n",
       "      <td>0</td>\n",
       "    </tr>\n",
       "    <tr>\n",
       "      <th>30561</th>\n",
       "      <td>53</td>\n",
       "      <td>1</td>\n",
       "      <td>0</td>\n",
       "      <td>0</td>\n",
       "    </tr>\n",
       "    <tr>\n",
       "      <th>1925</th>\n",
       "      <td>62</td>\n",
       "      <td>1</td>\n",
       "      <td>0</td>\n",
       "      <td>0</td>\n",
       "    </tr>\n",
       "    <tr>\n",
       "      <th>32849</th>\n",
       "      <td>50</td>\n",
       "      <td>0</td>\n",
       "      <td>0</td>\n",
       "      <td>0</td>\n",
       "    </tr>\n",
       "    <tr>\n",
       "      <th>...</th>\n",
       "      <td>...</td>\n",
       "      <td>...</td>\n",
       "      <td>...</td>\n",
       "      <td>...</td>\n",
       "    </tr>\n",
       "    <tr>\n",
       "      <th>26145</th>\n",
       "      <td>58</td>\n",
       "      <td>1</td>\n",
       "      <td>0</td>\n",
       "      <td>0</td>\n",
       "    </tr>\n",
       "    <tr>\n",
       "      <th>7717</th>\n",
       "      <td>60</td>\n",
       "      <td>0</td>\n",
       "      <td>0</td>\n",
       "      <td>0</td>\n",
       "    </tr>\n",
       "    <tr>\n",
       "      <th>34119</th>\n",
       "      <td>60</td>\n",
       "      <td>0</td>\n",
       "      <td>0</td>\n",
       "      <td>0</td>\n",
       "    </tr>\n",
       "    <tr>\n",
       "      <th>3206</th>\n",
       "      <td>61</td>\n",
       "      <td>0</td>\n",
       "      <td>0</td>\n",
       "      <td>0</td>\n",
       "    </tr>\n",
       "    <tr>\n",
       "      <th>5111</th>\n",
       "      <td>66</td>\n",
       "      <td>1</td>\n",
       "      <td>0</td>\n",
       "      <td>0</td>\n",
       "    </tr>\n",
       "  </tbody>\n",
       "</table>\n",
       "<p>12004 rows × 4 columns</p>\n",
       "</div>"
      ],
      "text/plain": [
       "       Age  Gender  y_true  y_pred\n",
       "5489    46       0       0       0\n",
       "2500    36       1       0       0\n",
       "30561   53       1       0       0\n",
       "1925    62       1       0       0\n",
       "32849   50       0       0       0\n",
       "...    ...     ...     ...     ...\n",
       "26145   58       1       0       0\n",
       "7717    60       0       0       0\n",
       "34119   60       0       0       0\n",
       "3206    61       0       0       0\n",
       "5111    66       1       0       0\n",
       "\n",
       "[12004 rows x 4 columns]"
      ]
     },
     "execution_count": 1110,
     "metadata": {},
     "output_type": "execute_result"
    }
   ],
   "source": [
    "sensitive_features"
   ]
  },
  {
   "cell_type": "code",
   "execution_count": 1111,
   "id": "96ce49df",
   "metadata": {},
   "outputs": [
    {
     "data": {
      "text/plain": [
       "Counter({0: 11829, 1: 175})"
      ]
     },
     "execution_count": 1111,
     "metadata": {},
     "output_type": "execute_result"
    }
   ],
   "source": [
    "Counter(y_test)"
   ]
  },
  {
   "cell_type": "code",
   "execution_count": 1112,
   "id": "38e68a41",
   "metadata": {},
   "outputs": [],
   "source": [
    "sensitive_features['y_true'] =  y_test\n",
    "sensitive_features['y_pred'] = y_pred_SMOTE"
   ]
  },
  {
   "cell_type": "code",
   "execution_count": 1142,
   "id": "20bc7c59",
   "metadata": {},
   "outputs": [],
   "source": [
    "def fairness_metrics(sensitive_features):\n",
    "    \"\"\"Calculate fairness for subgroup of population\"\"\"\n",
    "    \n",
    "    #Confusion Matrix\n",
    "    cm=confusion_matrix(sensitive_features['y_true'],sensitive_features['y_pred'])\n",
    "    TN, FP, FN, TP = cm.ravel()\n",
    "    \n",
    "    N = TP+FP+FN+TN #Total population\n",
    "    ACC = (TP+TN)/N #Accuracy\n",
    "    PPV = TP/(TP+FP) #Positive predictive value (Precison)\n",
    "    TPR = TP/(TP+FN) # True positive rate\n",
    "    TNR = TN/(FP+TN) # True negative rate\n",
    "    return np.array([ACC, PPV, TPR, TNR])  "
   ]
  },
  {
   "cell_type": "code",
   "execution_count": 1143,
   "id": "b5279953",
   "metadata": {},
   "outputs": [],
   "source": [
    "fm_Gender_1 = fairness_metrics(sensitive_features[sensitive_features.Gender==1])\n",
    "fm_Gender_0 = fairness_metrics(sensitive_features[sensitive_features.Gender==0])\n"
   ]
  },
  {
   "cell_type": "code",
   "execution_count": 1144,
   "id": "a7064c76",
   "metadata": {},
   "outputs": [
    {
     "data": {
      "text/plain": [
       "array([0.99252137, 0.87719298, 0.54347826, 0.99891641])"
      ]
     },
     "execution_count": 1144,
     "metadata": {},
     "output_type": "execute_result"
    }
   ],
   "source": [
    "fm_Gender_1"
   ]
  },
  {
   "cell_type": "code",
   "execution_count": 1145,
   "id": "70592a57",
   "metadata": {},
   "outputs": [
    {
     "data": {
      "image/png": "[encoded data removed]",
      "text/plain": [
       "<Figure size 540x540 with 1 Axes>"
      ]
     },
     "metadata": {
      "needs_background": "light"
     },
     "output_type": "display_data"
    }
   ],
   "source": [
    "cm = confusion_matrix(sensitive_features['y_true'][sensitive_features.Gender==1],sensitive_features['y_pred'][sensitive_features.Gender==1]) \n",
    "fig, ax = plt.subplots(figsize=(7.5, 7.5))\n",
    "ax.matshow(cm, cmap=plt.cm.Blues, alpha=0.3)\n",
    "for i in range(cm.shape[0]):\n",
    "    for j in range(cm.shape[1]):\n",
    "        ax.text(x=j, y=i,s=cm[i, j], va='center', ha='center', size='xx-large')\n",
    " \n",
    "plt.xlabel('Predictions', fontsize=18)\n",
    "plt.ylabel('Actuals', fontsize=18)\n",
    "plt.title('Confusion Matrix for Male Patients', fontsize=18)\n",
    "plt.savefig('cm for male patients.png')\n",
    "plt.show()"
   ]
  },
  {
   "cell_type": "code",
   "execution_count": 1146,
   "id": "94719e99",
   "metadata": {},
   "outputs": [
    {
     "data": {
      "image/png": "[encoded data removed]",
      "text/plain": [
       "<Figure size 540x540 with 1 Axes>"
      ]
     },
     "metadata": {
      "needs_background": "light"
     },
     "output_type": "display_data"
    }
   ],
   "source": [
    "cm = confusion_matrix(sensitive_features['y_true'][sensitive_features.Gender==0],sensitive_features['y_pred'][sensitive_features.Gender==0]) \n",
    "fig, ax = plt.subplots(figsize=(7.5, 7.5))\n",
    "ax.matshow(cm, cmap=plt.cm.Blues, alpha=0.3)\n",
    "for i in range(cm.shape[0]):\n",
    "    for j in range(cm.shape[1]):\n",
    "        ax.text(x=j, y=i,s=cm[i, j], va='center', ha='center', size='xx-large')\n",
    " \n",
    "plt.xlabel('Predictions', fontsize=18)\n",
    "plt.ylabel('Actuals', fontsize=18)\n",
    "plt.title('Confusion Matrix for female patients', fontsize=18)\n",
    "plt.savefig('cm for female patients.png')\n",
    "plt.show()"
   ]
  },
  {
   "cell_type": "code",
   "execution_count": 1147,
   "id": "a144a952",
   "metadata": {},
   "outputs": [
    {
     "data": {
      "image/png": "[encoded data removed]",
      "text/plain": [
       "<Figure size 432x288 with 1 Axes>"
      ]
     },
     "metadata": {
      "needs_background": "light"
     },
     "output_type": "display_data"
    }
   ],
   "source": [
    "Plotting(\"Evaluation of male patients' performance metrics\", fm_Gender_1[0],fm_Gender_1[1],fm_Gender_1[2],fm_Gender_1[3])\n",
    "#plt.savefig('barplots for male patients.png')"
   ]
  },
  {
   "cell_type": "code",
   "execution_count": 1148,
   "id": "f38c0932",
   "metadata": {},
   "outputs": [
    {
     "data": {
      "image/png": "[encoded data removed]",
      "text/plain": [
       "<Figure size 432x288 with 1 Axes>"
      ]
     },
     "metadata": {
      "needs_background": "light"
     },
     "output_type": "display_data"
    },
    {
     "data": {
      "text/plain": [
       "<Figure size 432x288 with 0 Axes>"
      ]
     },
     "metadata": {},
     "output_type": "display_data"
    }
   ],
   "source": [
    "Plotting(\"Evaluation of female patients' performance metrics\",fm_Gender_0[0],fm_Gender_0[1],fm_Gender_0[2],fm_Gender_0[3])\n",
    "plt.savefig('barplots for female patients.png')"
   ]
  },
  {
   "cell_type": "code",
   "execution_count": 1149,
   "id": "c2d2f7d4",
   "metadata": {},
   "outputs": [
    {
     "name": "stdout",
     "output_type": "stream",
     "text": [
      "          HR  O2Sat   Temp    SBP     MAP   DBP  Resp  Age  Gender  Unit1  \\\n",
      "5489    98.0   98.0  98.00   98.0   98.00  98.0  98.0   46       0   98.0   \n",
      "2500   122.0   98.0  39.28  135.0   93.67  98.0  32.0   36       1    1.0   \n",
      "30561   68.0   96.0  98.00  160.0   90.00  62.0  15.0   53       1   98.0   \n",
      "1925    91.0   98.5  36.90  101.5   72.50  48.5  14.0   62       1    0.0   \n",
      "32849   98.0   98.0  98.00   98.0   98.00  98.0  98.0   50       0    1.0   \n",
      "...      ...    ...    ...    ...     ...   ...   ...  ...     ...    ...   \n",
      "26145  127.0   94.5  38.70   86.0   70.00  60.0   5.0   58       1    0.0   \n",
      "7717    97.0   94.0  98.00  147.0   98.00  72.0  21.0   60       0   98.0   \n",
      "34119   76.0  100.0  36.50   88.0   80.00  77.0  17.0   60       0   98.0   \n",
      "3206    77.0  100.0  98.00  169.0  110.33  98.0  14.0   61       0    1.0   \n",
      "5111    80.0   97.5  98.00  114.0   90.00  76.0  23.0   66       1    1.0   \n",
      "\n",
      "       Unit2  HospAdmTime  ICULOS AgeGroup  \n",
      "5489    98.0        -4.80      19    Adult  \n",
      "2500     0.0        -0.02      24    Young  \n",
      "30561   98.0         0.00      21    Adult  \n",
      "1925     1.0       -93.26      41    Adult  \n",
      "32849    0.0        -6.05      31    Adult  \n",
      "...      ...          ...     ...      ...  \n",
      "26145    1.0       -74.53      43    Adult  \n",
      "7717    98.0        -0.05      22    Adult  \n",
      "34119   98.0        -0.02      27    Adult  \n",
      "3206     0.0        -8.63       5    Adult  \n",
      "5111     0.0      -350.75     117      OLD  \n",
      "\n",
      "[12004 rows x 14 columns]\n"
     ]
    }
   ],
   "source": [
    "import numpy as np\n",
    "bins= [15, 40, 65, np.inf]\n",
    "# (15,40] (40,65] and 60+ \n",
    "labels = ['Young','Adult','OLD']\n",
    "X_test['AgeGroup'] = pd.cut(X_test['Age'], bins=bins, labels=labels)\n",
    "print (X_test)\n"
   ]
  },
  {
   "cell_type": "code",
   "execution_count": 1150,
   "id": "9ff93618",
   "metadata": {},
   "outputs": [],
   "source": [
    "Counter(X_test['AgeGroup'])\n",
    "sensitive_features = X_test[['Age','Gender','AgeGroup']]"
   ]
  },
  {
   "cell_type": "code",
   "execution_count": 1151,
   "id": "3f981622",
   "metadata": {},
   "outputs": [
    {
     "name": "stdout",
     "output_type": "stream",
     "text": [
      "       Age  Gender AgeGroup\n",
      "5489    46       0    Adult\n",
      "2500    36       1    Young\n",
      "30561   53       1    Adult\n",
      "1925    62       1    Adult\n",
      "32849   50       0    Adult\n",
      "...    ...     ...      ...\n",
      "26145   58       1    Adult\n",
      "7717    60       0    Adult\n",
      "34119   60       0    Adult\n",
      "3206    61       0    Adult\n",
      "5111    66       1      OLD\n",
      "\n",
      "[12004 rows x 3 columns]\n"
     ]
    }
   ],
   "source": [
    "print(sensitive_features)"
   ]
  },
  {
   "cell_type": "code",
   "execution_count": 1152,
   "id": "dae17d1f",
   "metadata": {},
   "outputs": [],
   "source": [
    "sensitive_features['y_true'] =  y_test\n",
    "sensitive_features['y_pred'] = y_pred_SMOTE"
   ]
  },
  {
   "cell_type": "code",
   "execution_count": 1153,
   "id": "632ab9dc",
   "metadata": {},
   "outputs": [],
   "source": [
    "Young = fairness_metrics(sensitive_features[sensitive_features.AgeGroup=='Young'])\n",
    "Adult = fairness_metrics(sensitive_features[sensitive_features.AgeGroup=='Adult'])\n",
    "OLD = fairness_metrics(sensitive_features[sensitive_features.AgeGroup=='OLD'])\n"
   ]
  },
  {
   "cell_type": "code",
   "execution_count": 1154,
   "id": "71fec32a",
   "metadata": {},
   "outputs": [
    {
     "data": {
      "image/png": "[encoded data removed]",
      "text/plain": [
       "<Figure size 540x540 with 1 Axes>"
      ]
     },
     "metadata": {
      "needs_background": "light"
     },
     "output_type": "display_data"
    }
   ],
   "source": [
    "cm = confusion_matrix(sensitive_features['y_true'][sensitive_features.AgeGroup=='Young'],sensitive_features['y_pred'][sensitive_features.AgeGroup=='Young']) \n",
    "fig, ax = plt.subplots(figsize=(7.5, 7.5))\n",
    "ax.matshow(cm, cmap=plt.cm.Blues, alpha=0.3)\n",
    "for i in range(cm.shape[0]):\n",
    "    for j in range(cm.shape[1]):\n",
    "        ax.text(x=j, y=i,s=cm[i, j], va='center', ha='center', size='xx-large')\n",
    " \n",
    "plt.xlabel('Predictions', fontsize=18)\n",
    "plt.ylabel('Actuals', fontsize=18)\n",
    "plt.title('Confusion Matrix for patients younger than 40 years', fontsize=18)\n",
    "plt.savefig('cm for young patients.png')\n",
    "plt.show()"
   ]
  },
  {
   "cell_type": "code",
   "execution_count": 1155,
   "id": "f38361bb",
   "metadata": {},
   "outputs": [
    {
     "data": {
      "image/png": "[encoded data removed]",
      "text/plain": [
       "<Figure size 540x540 with 1 Axes>"
      ]
     },
     "metadata": {
      "needs_background": "light"
     },
     "output_type": "display_data"
    }
   ],
   "source": [
    "cm = confusion_matrix(sensitive_features['y_true'][sensitive_features.AgeGroup=='Adult'],sensitive_features['y_pred'][sensitive_features.AgeGroup=='Adult']) \n",
    "fig, ax = plt.subplots(figsize=(7.5, 7.5))\n",
    "ax.matshow(cm, cmap=plt.cm.Blues, alpha=0.3)\n",
    "for i in range(cm.shape[0]):\n",
    "    for j in range(cm.shape[1]):\n",
    "        ax.text(x=j, y=i,s=cm[i, j], va='center', ha='center', size='xx-large')\n",
    " \n",
    "plt.xlabel('Predictions', fontsize=18)\n",
    "plt.ylabel('Actuals', fontsize=18)\n",
    "plt.title('Confusion Matrix for patients patients younger than 65 and older 40 years', fontsize=18)\n",
    "plt.savefig('cm for adult patients.png')\n",
    "plt.show()"
   ]
  },
  {
   "cell_type": "code",
   "execution_count": 1156,
   "id": "795c1d64",
   "metadata": {},
   "outputs": [
    {
     "data": {
      "image/png": "[encoded data removed]",
      "text/plain": [
       "<Figure size 540x540 with 1 Axes>"
      ]
     },
     "metadata": {
      "needs_background": "light"
     },
     "output_type": "display_data"
    }
   ],
   "source": [
    "cm = confusion_matrix(sensitive_features['y_true'][sensitive_features.AgeGroup=='OLD'],sensitive_features['y_pred'][sensitive_features.AgeGroup=='OLD']) \n",
    "fig, ax = plt.subplots(figsize=(7.5, 7.5))\n",
    "ax.matshow(cm, cmap=plt.cm.Blues, alpha=0.3)\n",
    "for i in range(cm.shape[0]):\n",
    "    for j in range(cm.shape[1]):\n",
    "        ax.text(x=j, y=i,s=cm[i, j], va='center', ha='center', size='xx-large')\n",
    " \n",
    "plt.xlabel('Predictions', fontsize=18)\n",
    "plt.ylabel('Actuals', fontsize=18)\n",
    "plt.title('Confusion Matrix for patients older than 65 years', fontsize=18)\n",
    "plt.savefig('cm for senior patients.png')\n",
    "plt.show()"
   ]
  },
  {
   "cell_type": "code",
   "execution_count": 1157,
   "id": "5482ea07",
   "metadata": {},
   "outputs": [
    {
     "data": {
      "image/png": "[encoded data removed]",
      "text/plain": [
       "<Figure size 432x288 with 1 Axes>"
      ]
     },
     "metadata": {
      "needs_background": "light"
     },
     "output_type": "display_data"
    },
    {
     "data": {
      "text/plain": [
       "<Figure size 432x288 with 0 Axes>"
      ]
     },
     "metadata": {},
     "output_type": "display_data"
    }
   ],
   "source": [
    "Plotting(\"Performance metric evaluation for patients younder than 40 years\",Young[0],Young[1],Young[2],Young[3])\n",
    "plt.savefig('metrics for young patients.png')\n"
   ]
  },
  {
   "cell_type": "code",
   "execution_count": 1158,
   "id": "511bc8f5",
   "metadata": {},
   "outputs": [
    {
     "data": {
      "text/plain": [
       "array([0.99013807, 0.875     , 0.51851852, 0.99866131])"
      ]
     },
     "execution_count": 1158,
     "metadata": {},
     "output_type": "execute_result"
    }
   ],
   "source": [
    "Young"
   ]
  },
  {
   "cell_type": "code",
   "execution_count": 1159,
   "id": "52ca0799",
   "metadata": {},
   "outputs": [
    {
     "data": {
      "image/png": "[encoded data removed]",
      "text/plain": [
       "<Figure size 432x288 with 1 Axes>"
      ]
     },
     "metadata": {
      "needs_background": "light"
     },
     "output_type": "display_data"
    },
    {
     "data": {
      "text/plain": [
       "<Figure size 432x288 with 0 Axes>"
      ]
     },
     "metadata": {},
     "output_type": "display_data"
    }
   ],
   "source": [
    "Plotting(\"Performance metric evaluation for adult patients\",Adult[0],Adult[1],Adult[2],Adult[3])\n",
    "plt.savefig('metrics for adult patients.png')"
   ]
  },
  {
   "cell_type": "code",
   "execution_count": 1160,
   "id": "47e14de3",
   "metadata": {},
   "outputs": [
    {
     "data": {
      "image/png": "[encoded data removed]",
      "text/plain": [
       "<Figure size 432x288 with 1 Axes>"
      ]
     },
     "metadata": {
      "needs_background": "light"
     },
     "output_type": "display_data"
    },
    {
     "data": {
      "text/plain": [
       "<Figure size 432x288 with 0 Axes>"
      ]
     },
     "metadata": {},
     "output_type": "display_data"
    }
   ],
   "source": [
    "Plotting(\"Performance metric evaluation for patients older than 65 years\",OLD[0],OLD[1],OLD[2],OLD[3])\n",
    "plt.savefig('metrics for senior patients.png')"
   ]
  },
  {
   "cell_type": "code",
   "execution_count": 1161,
   "id": "13457f8b",
   "metadata": {},
   "outputs": [],
   "source": [
    "#Evaluation of both age and gender together\n",
    "\n",
    "pd.crosstab(sensitive_features.AgeGroup, sensitive_features['Gender'])\n",
    "sensitive_features[\"Young_Male\"] = np.where((sensitive_features.AgeGroup=='Young') &\n",
    "                                   (sensitive_features.Gender==1),1,0)\n",
    "sensitive_features[\"Adult_Male\"] = np.where((sensitive_features.AgeGroup=='Adult') &\n",
    "                                   (sensitive_features.Gender==1),1,0)\n",
    "sensitive_features[\"Old_Male\"] = np.where((sensitive_features.AgeGroup=='OLD') &\n",
    "                                   (sensitive_features.Gender==1),1,0)\n",
    "sensitive_features[\"Young_Female\"] = np.where((sensitive_features.AgeGroup=='Young') &\n",
    "                                   (sensitive_features.Gender==0),1,0)\n",
    "sensitive_features[\"Adult_Female\"] = np.where((sensitive_features.AgeGroup=='Adult') &\n",
    "                                   (sensitive_features.Gender==0),1,0)\n",
    "sensitive_features[\"Old_Female\"] = np.where((sensitive_features.AgeGroup=='OLD') &\n",
    "                                   (sensitive_features.Gender==0),1,0)\n",
    "Young_Male = fairness_metrics(sensitive_features[sensitive_features.Young_Male==1])\n",
    "Adult_Male = fairness_metrics(sensitive_features[sensitive_features.Adult_Male==1])\n",
    "Old_Male = fairness_metrics(sensitive_features[sensitive_features.Old_Male ==1])\n",
    "Young_Female = fairness_metrics(sensitive_features[sensitive_features.Young_Female ==1])\n",
    "Adult_Female = fairness_metrics(sensitive_features[sensitive_features.Adult_Female ==1])\n",
    "Old_Female = fairness_metrics(sensitive_features[sensitive_features.Old_Female ==1])\n"
   ]
  },
  {
   "cell_type": "code",
   "execution_count": 1229,
   "id": "928baa0d",
   "metadata": {},
   "outputs": [
    {
     "data": {
      "image/png": "[encoded data removed]",
      "text/plain": [
       "<Figure size 432x288 with 1 Axes>"
      ]
     },
     "metadata": {
      "needs_background": "light"
     },
     "output_type": "display_data"
    },
    {
     "data": {
      "text/plain": [
       "<Figure size 432x288 with 0 Axes>"
      ]
     },
     "metadata": {},
     "output_type": "display_data"
    }
   ],
   "source": [
    "import matplotlib.pyplot as plt\n",
    "fig, axe = plt.subplots()\n",
    "index = np.arange(3)  \n",
    "width = 0.18   # the width of the bars\n",
    "axe.set_yticks(np.arange(0, 1.25, 0.5))\n",
    "Accuracy = [round(Young_Female[0],2),round(Adult_Female[0],2),round(Old_Female[0],2)]\n",
    "plts1 = plt.bar(index + 0.00, Accuracy, width, color='royalblue', label = 'Accuracy')\n",
    "Precision = [round(Young_Female[1],2),round(Adult_Female[1],2),round(Old_Female[1],2)]\n",
    "plts2 = plt.bar(index + width, Precision, width, color='green', label= 'Precision')\n",
    "Sensitivity = [round(Young_Female[2],2),round(Adult_Female[2],2),round(Old_Female[2],2)]\n",
    "plts3 = plt.bar(index +width*2, Sensitivity, width, color='pink', label = 'Sensitivity')\n",
    "Specificity= [round(Young_Female[3],2),round(Adult_Female[3],2),round(Old_Female[3],2)]\n",
    "plts4 = plt.bar(index +width*3, Specificity, width, color='orange', label = 'Specificity')\n",
    "\n",
    "ax.set_ylabel('Metrics')\n",
    "ax.set_xticks(index+width)\n",
    "ax.set_xticklabels( ('Young', 'Adult', 'Old'))\n",
    "plt.legend()\n",
    "def autolabel(plts):\n",
    "    \"\"\"Attach a text label above each bar in *rects*, displaying its height.\"\"\"\n",
    "    for rect in plts:\n",
    "        height = rect.get_height()\n",
    "        axe.annotate('{}'.format(height),\n",
    "                    xy=(rect.get_x() + rect.get_width() / 2, height),\n",
    "                    xytext=(0, 3),  # 3 points vertical offset\n",
    "                    textcoords=\"offset points\",\n",
    "                    ha='center', va='bottom')\n",
    "      \n",
    "    \n",
    " \n",
    "autolabel(plts1)\n",
    "autolabel(plts2)\n",
    "autolabel(plts3)\n",
    "autolabel(plts4)\n",
    "fig.tight_layout()\n",
    "plt.title('Performance metric evaluation for female patients over age') \n",
    "plt.show()\n",
    "plt.savefig('metrics for female patients with differents ages .png')"
   ]
  },
  {
   "cell_type": "code",
   "execution_count": 1163,
   "id": "918ee1c4",
   "metadata": {},
   "outputs": [
    {
     "data": {
      "image/png": "[encoded data removed]",
      "text/plain": [
       "<Figure size 432x288 with 1 Axes>"
      ]
     },
     "metadata": {
      "needs_background": "light"
     },
     "output_type": "display_data"
    }
   ],
   "source": [
    "index = np.arange(3)  # the x locations for the groups\n",
    "width = 0.18   # the width of the bars\n",
    "fig, axe = plt.subplots()\n",
    "axe.set_yticks(np.arange(0, 1.25, 0.5))\n",
    " #ax.set_title('Evaluation metrics for young patients')\n",
    "Accuracy = [round(Young_Male[0],2),round(Adult_Male[0],2),round(Old_Male[0],2)]\n",
    "rects1 = plt.bar(index + 0.00, Accuracy, width, color='royalblue', label = 'Accuracy')\n",
    "Precision = [round(Young_Male[1],2),round(Adult_Male[1],2),round(Old_Male[1],2)]\n",
    "rects2 = plt.bar(index + width, Precision, width, color='green',label ='Precision')\n",
    "Sensitivity = [round(Young_Male[2],2),round(Adult_Male[2],2),round(Old_Male[2],2)]\n",
    "rects3 = plt.bar(index +width*2, Sensitivity, width, color='pink', label='Sensitivity')\n",
    "Specificity= [round(Young_Male[3],2),round(Adult_Male[3],2),round(Old_Male[3],2)]\n",
    "rects4 = plt.bar(index +width*3, Specificity, width, color='orange', label='Specificty')\n",
    "\n",
    "axe.set_ylabel('Metrics')\n",
    "axe.set_xticks(index +width)\n",
    "axe.set_xticklabels( ('Young', 'Adult', 'Old'))\n",
    "plt.legend()\n",
    "def autolabel(rects):\n",
    "    \"\"\"Attach a value label above each bar \"\"\"\n",
    "    for rect in rects:\n",
    "        height = rect.get_height()\n",
    "        axe.annotate('{}'.format(height),\n",
    "                    xy=(rect.get_x() + rect.get_width() / 2, height),\n",
    "                    xytext=(0, 3),  \n",
    "                    textcoords=\"offset points\",\n",
    "                    ha='center', va='bottom')\n",
    "         \n",
    "autolabel(rects1)\n",
    "autolabel(rects2)\n",
    "autolabel(rects3)\n",
    "autolabel(rects4)\n",
    "fig.tight_layout()\n",
    "plt.title('Performance metric evaluation for male patients over age')\n",
    "plt.savefig('metrics for male patients with differents ages .png')\n",
    "plt.show()"
   ]
  },
  {
   "cell_type": "code",
   "execution_count": 1164,
   "id": "2d05e325",
   "metadata": {},
   "outputs": [],
   "source": [
    "def evaluation_metrics(sensitive_features):\n",
    "    \n",
    "    #Confusion Matrix\n",
    "    cm=confusion_matrix(sensitive_features['y_true'],sensitive_features['y_pred'])\n",
    "    print(cm)\n",
    "    TN, FP, FN, TP = cm.ravel() \n",
    "    \n",
    "    N = TP+FP+FN+TN #Total population\n",
    "    ACC = (TP+TN)/N #Accuracy\n",
    "    PPV = TP/(TP+FP) #Positive predictive value (Precison)\n",
    "    TPR = TP/(TP+FN) # True positive rate\n",
    "    FPR = FP/(FP+TN) # False positive rate\n",
    "    TNR = TN/(FP + TN) # True negative rate\n",
    "    FNR = FN /(FN +TP) # False negative rate\n",
    "    FDR = 1 - PPV # False discovery rate\n",
    "    df_metrics = [{'Acc': (TP+TN)/N, 'PPV': TP/(TP+FP), 'TPR' : TP/(TP+FN), 'FPR' : FP/(FP+TN), 'TNR' : TN/(FP + TN), 'FNR' : FN /(FN +TP), 'FDR' : 1 - PPV  }]\n",
    "  \n",
    "    return df_metrics"
   ]
  },
  {
   "cell_type": "code",
   "execution_count": 1165,
   "id": "cb6bd125",
   "metadata": {},
   "outputs": [
    {
     "name": "stdout",
     "output_type": "stream",
     "text": [
      "[[6453    7]\n",
      " [  42   50]]\n",
      "[[5357   12]\n",
      " [  29   54]]\n"
     ]
    }
   ],
   "source": [
    "Male = evaluation_metrics(sensitive_features[sensitive_features.Gender==1])\n",
    "Female= evaluation_metrics(sensitive_features[sensitive_features.Gender==0])\n",
    "data_metrics_Male = pd.DataFrame(Male, index= ['Men'])\n",
    "data_metrics_Female = pd.DataFrame(Female, index= ['Women'])"
   ]
  },
  {
   "cell_type": "code",
   "execution_count": 1166,
   "id": "6954bcf5",
   "metadata": {},
   "outputs": [
    {
     "data": {
      "text/html": [
       "<div>\n",
       "<style scoped>\n",
       "    .dataframe tbody tr th:only-of-type {\n",
       "        vertical-align: middle;\n",
       "    }\n",
       "\n",
       "    .dataframe tbody tr th {\n",
       "        vertical-align: top;\n",
       "    }\n",
       "\n",
       "    .dataframe thead th {\n",
       "        text-align: right;\n",
       "    }\n",
       "</style>\n",
       "<table border=\"1\" class=\"dataframe\">\n",
       "  <thead>\n",
       "    <tr style=\"text-align: right;\">\n",
       "      <th></th>\n",
       "      <th>Acc</th>\n",
       "      <th>PPV</th>\n",
       "      <th>TPR</th>\n",
       "      <th>FPR</th>\n",
       "      <th>TNR</th>\n",
       "      <th>FNR</th>\n",
       "      <th>FDR</th>\n",
       "    </tr>\n",
       "  </thead>\n",
       "  <tbody>\n",
       "    <tr>\n",
       "      <th>Men</th>\n",
       "      <td>0.992521</td>\n",
       "      <td>0.877193</td>\n",
       "      <td>0.543478</td>\n",
       "      <td>0.001084</td>\n",
       "      <td>0.998916</td>\n",
       "      <td>0.456522</td>\n",
       "      <td>0.122807</td>\n",
       "    </tr>\n",
       "    <tr>\n",
       "      <th>Women</th>\n",
       "      <td>0.992480</td>\n",
       "      <td>0.818182</td>\n",
       "      <td>0.650602</td>\n",
       "      <td>0.002235</td>\n",
       "      <td>0.997765</td>\n",
       "      <td>0.349398</td>\n",
       "      <td>0.181818</td>\n",
       "    </tr>\n",
       "  </tbody>\n",
       "</table>\n",
       "</div>"
      ],
      "text/plain": [
       "            Acc       PPV       TPR       FPR       TNR       FNR       FDR\n",
       "Men    0.992521  0.877193  0.543478  0.001084  0.998916  0.456522  0.122807\n",
       "Women  0.992480  0.818182  0.650602  0.002235  0.997765  0.349398  0.181818"
      ]
     },
     "execution_count": 1166,
     "metadata": {},
     "output_type": "execute_result"
    }
   ],
   "source": [
    "pd.concat([data_metrics_Male, data_metrics_Female])"
   ]
  },
  {
   "cell_type": "code",
   "execution_count": 1138,
   "id": "314d00b2",
   "metadata": {},
   "outputs": [
    {
     "name": "stdout",
     "output_type": "stream",
     "text": [
      "[[1492    2]\n",
      " [  13   14]]\n",
      "[[5206   10]\n",
      " [  36   60]]\n",
      "[[5112    7]\n",
      " [  22   30]]\n"
     ]
    }
   ],
   "source": [
    "Youngs = evaluation_metrics(sensitive_features[sensitive_features.AgeGroup=='Young'])\n",
    "Adults = evaluation_metrics(sensitive_features[sensitive_features.AgeGroup=='Adult'])\n",
    "OLDs = evaluation_metrics(sensitive_features[sensitive_features.AgeGroup=='OLD'])\n",
    "data_metrics_Youngs = pd.DataFrame(Youngs, index= ['Youngs'])\n",
    "data_metrics_Adults = pd.DataFrame(Adults, index= ['Adults'])\n",
    "data_metrics_Olds = pd.DataFrame(OLDs, index= ['Seniors'])\n"
   ]
  },
  {
   "cell_type": "code",
   "execution_count": 1139,
   "id": "dec0e6c8",
   "metadata": {},
   "outputs": [
    {
     "data": {
      "text/html": [
       "<div>\n",
       "<style scoped>\n",
       "    .dataframe tbody tr th:only-of-type {\n",
       "        vertical-align: middle;\n",
       "    }\n",
       "\n",
       "    .dataframe tbody tr th {\n",
       "        vertical-align: top;\n",
       "    }\n",
       "\n",
       "    .dataframe thead th {\n",
       "        text-align: right;\n",
       "    }\n",
       "</style>\n",
       "<table border=\"1\" class=\"dataframe\">\n",
       "  <thead>\n",
       "    <tr style=\"text-align: right;\">\n",
       "      <th></th>\n",
       "      <th>Acc</th>\n",
       "      <th>PPV</th>\n",
       "      <th>TPR</th>\n",
       "      <th>FPR</th>\n",
       "      <th>TNR</th>\n",
       "      <th>FNR</th>\n",
       "      <th>FDR</th>\n",
       "    </tr>\n",
       "  </thead>\n",
       "  <tbody>\n",
       "    <tr>\n",
       "      <th>Men</th>\n",
       "      <td>0.992521</td>\n",
       "      <td>0.877193</td>\n",
       "      <td>0.543478</td>\n",
       "      <td>0.001084</td>\n",
       "      <td>0.998916</td>\n",
       "      <td>0.456522</td>\n",
       "      <td>0.122807</td>\n",
       "    </tr>\n",
       "    <tr>\n",
       "      <th>Women</th>\n",
       "      <td>0.992480</td>\n",
       "      <td>0.818182</td>\n",
       "      <td>0.650602</td>\n",
       "      <td>0.002235</td>\n",
       "      <td>0.997765</td>\n",
       "      <td>0.349398</td>\n",
       "      <td>0.181818</td>\n",
       "    </tr>\n",
       "    <tr>\n",
       "      <th>Youngs</th>\n",
       "      <td>0.990138</td>\n",
       "      <td>0.875000</td>\n",
       "      <td>0.518519</td>\n",
       "      <td>0.001339</td>\n",
       "      <td>0.998661</td>\n",
       "      <td>0.481481</td>\n",
       "      <td>0.125000</td>\n",
       "    </tr>\n",
       "    <tr>\n",
       "      <th>Adults</th>\n",
       "      <td>0.991340</td>\n",
       "      <td>0.857143</td>\n",
       "      <td>0.625000</td>\n",
       "      <td>0.001917</td>\n",
       "      <td>0.998083</td>\n",
       "      <td>0.375000</td>\n",
       "      <td>0.142857</td>\n",
       "    </tr>\n",
       "    <tr>\n",
       "      <th>Seniors</th>\n",
       "      <td>0.994392</td>\n",
       "      <td>0.810811</td>\n",
       "      <td>0.576923</td>\n",
       "      <td>0.001367</td>\n",
       "      <td>0.998633</td>\n",
       "      <td>0.423077</td>\n",
       "      <td>0.189189</td>\n",
       "    </tr>\n",
       "  </tbody>\n",
       "</table>\n",
       "</div>"
      ],
      "text/plain": [
       "              Acc       PPV       TPR       FPR       TNR       FNR       FDR\n",
       "Men      0.992521  0.877193  0.543478  0.001084  0.998916  0.456522  0.122807\n",
       "Women    0.992480  0.818182  0.650602  0.002235  0.997765  0.349398  0.181818\n",
       "Youngs   0.990138  0.875000  0.518519  0.001339  0.998661  0.481481  0.125000\n",
       "Adults   0.991340  0.857143  0.625000  0.001917  0.998083  0.375000  0.142857\n",
       "Seniors  0.994392  0.810811  0.576923  0.001367  0.998633  0.423077  0.189189"
      ]
     },
     "execution_count": 1139,
     "metadata": {},
     "output_type": "execute_result"
    }
   ],
   "source": [
    "pd.concat([data_metrics_Male, data_metrics_Female, data_metrics_Youngs, data_metrics_Adults, data_metrics_Olds])"
   ]
  },
  {
   "cell_type": "code",
   "execution_count": 1140,
   "id": "0e8a4360",
   "metadata": {},
   "outputs": [
    {
     "name": "stdout",
     "output_type": "stream",
     "text": [
      "[[662   1]\n",
      " [ 13   8]]\n",
      "[[2961    2]\n",
      " [  18   27]]\n",
      "[[2830    4]\n",
      " [  11   15]]\n",
      "[[830   1]\n",
      " [  0   6]]\n",
      "[[2245    8]\n",
      " [  18   33]]\n",
      "[[2282    3]\n",
      " [  11   15]]\n"
     ]
    }
   ],
   "source": [
    "Young_Males = evaluation_metrics(sensitive_features[sensitive_features.Young_Male==1])\n",
    "Adult_Males = evaluation_metrics(sensitive_features[sensitive_features.Adult_Male==1])\n",
    "Old_Males = evaluation_metrics(sensitive_features[sensitive_features.Old_Male ==1])\n",
    "Young_Females = evaluation_metrics(sensitive_features[sensitive_features.Young_Female ==1])\n",
    "Adult_Females = evaluation_metrics(sensitive_features[sensitive_features.Adult_Female ==1])\n",
    "Old_Females = evaluation_metrics(sensitive_features[sensitive_features.Old_Female ==1])"
   ]
  },
  {
   "cell_type": "code",
   "execution_count": 1141,
   "id": "60c8bd38",
   "metadata": {},
   "outputs": [
    {
     "data": {
      "text/html": [
       "<div>\n",
       "<style scoped>\n",
       "    .dataframe tbody tr th:only-of-type {\n",
       "        vertical-align: middle;\n",
       "    }\n",
       "\n",
       "    .dataframe tbody tr th {\n",
       "        vertical-align: top;\n",
       "    }\n",
       "\n",
       "    .dataframe thead th {\n",
       "        text-align: right;\n",
       "    }\n",
       "</style>\n",
       "<table border=\"1\" class=\"dataframe\">\n",
       "  <thead>\n",
       "    <tr style=\"text-align: right;\">\n",
       "      <th></th>\n",
       "      <th>Acc</th>\n",
       "      <th>PPV</th>\n",
       "      <th>TPR</th>\n",
       "      <th>FPR</th>\n",
       "      <th>TNR</th>\n",
       "      <th>FNR</th>\n",
       "      <th>FDR</th>\n",
       "    </tr>\n",
       "  </thead>\n",
       "  <tbody>\n",
       "    <tr>\n",
       "      <th>Men</th>\n",
       "      <td>0.992521</td>\n",
       "      <td>0.877193</td>\n",
       "      <td>0.543478</td>\n",
       "      <td>0.001084</td>\n",
       "      <td>0.998916</td>\n",
       "      <td>0.456522</td>\n",
       "      <td>0.122807</td>\n",
       "    </tr>\n",
       "    <tr>\n",
       "      <th>Women</th>\n",
       "      <td>0.992480</td>\n",
       "      <td>0.818182</td>\n",
       "      <td>0.650602</td>\n",
       "      <td>0.002235</td>\n",
       "      <td>0.997765</td>\n",
       "      <td>0.349398</td>\n",
       "      <td>0.181818</td>\n",
       "    </tr>\n",
       "    <tr>\n",
       "      <th>Youngs</th>\n",
       "      <td>0.990138</td>\n",
       "      <td>0.875000</td>\n",
       "      <td>0.518519</td>\n",
       "      <td>0.001339</td>\n",
       "      <td>0.998661</td>\n",
       "      <td>0.481481</td>\n",
       "      <td>0.125000</td>\n",
       "    </tr>\n",
       "    <tr>\n",
       "      <th>Adults</th>\n",
       "      <td>0.991340</td>\n",
       "      <td>0.857143</td>\n",
       "      <td>0.625000</td>\n",
       "      <td>0.001917</td>\n",
       "      <td>0.998083</td>\n",
       "      <td>0.375000</td>\n",
       "      <td>0.142857</td>\n",
       "    </tr>\n",
       "    <tr>\n",
       "      <th>Seniors</th>\n",
       "      <td>0.994392</td>\n",
       "      <td>0.810811</td>\n",
       "      <td>0.576923</td>\n",
       "      <td>0.001367</td>\n",
       "      <td>0.998633</td>\n",
       "      <td>0.423077</td>\n",
       "      <td>0.189189</td>\n",
       "    </tr>\n",
       "    <tr>\n",
       "      <th>Young_men</th>\n",
       "      <td>0.979532</td>\n",
       "      <td>0.888889</td>\n",
       "      <td>0.380952</td>\n",
       "      <td>0.001508</td>\n",
       "      <td>0.998492</td>\n",
       "      <td>0.619048</td>\n",
       "      <td>0.111111</td>\n",
       "    </tr>\n",
       "    <tr>\n",
       "      <th>Adult_men</th>\n",
       "      <td>0.993351</td>\n",
       "      <td>0.931034</td>\n",
       "      <td>0.600000</td>\n",
       "      <td>0.000675</td>\n",
       "      <td>0.999325</td>\n",
       "      <td>0.400000</td>\n",
       "      <td>0.068966</td>\n",
       "    </tr>\n",
       "    <tr>\n",
       "      <th>Senior_men</th>\n",
       "      <td>0.994755</td>\n",
       "      <td>0.789474</td>\n",
       "      <td>0.576923</td>\n",
       "      <td>0.001411</td>\n",
       "      <td>0.998589</td>\n",
       "      <td>0.423077</td>\n",
       "      <td>0.210526</td>\n",
       "    </tr>\n",
       "    <tr>\n",
       "      <th>Young_women</th>\n",
       "      <td>0.998805</td>\n",
       "      <td>0.857143</td>\n",
       "      <td>1.000000</td>\n",
       "      <td>0.001203</td>\n",
       "      <td>0.998797</td>\n",
       "      <td>0.000000</td>\n",
       "      <td>0.142857</td>\n",
       "    </tr>\n",
       "    <tr>\n",
       "      <th>Adult_women</th>\n",
       "      <td>0.988715</td>\n",
       "      <td>0.804878</td>\n",
       "      <td>0.647059</td>\n",
       "      <td>0.003551</td>\n",
       "      <td>0.996449</td>\n",
       "      <td>0.352941</td>\n",
       "      <td>0.195122</td>\n",
       "    </tr>\n",
       "    <tr>\n",
       "      <th>Senior_women</th>\n",
       "      <td>0.993942</td>\n",
       "      <td>0.833333</td>\n",
       "      <td>0.576923</td>\n",
       "      <td>0.001313</td>\n",
       "      <td>0.998687</td>\n",
       "      <td>0.423077</td>\n",
       "      <td>0.166667</td>\n",
       "    </tr>\n",
       "  </tbody>\n",
       "</table>\n",
       "</div>"
      ],
      "text/plain": [
       "                   Acc       PPV       TPR       FPR       TNR       FNR  \\\n",
       "Men           0.992521  0.877193  0.543478  0.001084  0.998916  0.456522   \n",
       "Women         0.992480  0.818182  0.650602  0.002235  0.997765  0.349398   \n",
       "Youngs        0.990138  0.875000  0.518519  0.001339  0.998661  0.481481   \n",
       "Adults        0.991340  0.857143  0.625000  0.001917  0.998083  0.375000   \n",
       "Seniors       0.994392  0.810811  0.576923  0.001367  0.998633  0.423077   \n",
       "Young_men     0.979532  0.888889  0.380952  0.001508  0.998492  0.619048   \n",
       "Adult_men     0.993351  0.931034  0.600000  0.000675  0.999325  0.400000   \n",
       "Senior_men    0.994755  0.789474  0.576923  0.001411  0.998589  0.423077   \n",
       "Young_women   0.998805  0.857143  1.000000  0.001203  0.998797  0.000000   \n",
       "Adult_women   0.988715  0.804878  0.647059  0.003551  0.996449  0.352941   \n",
       "Senior_women  0.993942  0.833333  0.576923  0.001313  0.998687  0.423077   \n",
       "\n",
       "                   FDR  \n",
       "Men           0.122807  \n",
       "Women         0.181818  \n",
       "Youngs        0.125000  \n",
       "Adults        0.142857  \n",
       "Seniors       0.189189  \n",
       "Young_men     0.111111  \n",
       "Adult_men     0.068966  \n",
       "Senior_men    0.210526  \n",
       "Young_women   0.142857  \n",
       "Adult_women   0.195122  \n",
       "Senior_women  0.166667  "
      ]
     },
     "execution_count": 1141,
     "metadata": {},
     "output_type": "execute_result"
    }
   ],
   "source": [
    "dm_Young_Males = pd.DataFrame(Young_Males, index= ['Young_men'])\n",
    "dm_Adult_Males = pd.DataFrame(Adult_Males, index= ['Adult_men'])\n",
    "dm_Old_Males = pd.DataFrame(Old_Males, index= ['Senior_men'])\n",
    "dm_Young_Females = pd.DataFrame(Young_Females, index= ['Young_women'])\n",
    "dm_Adult_Females = pd.DataFrame(Adult_Females, index= ['Adult_women'])\n",
    "dm_Old_Females = pd.DataFrame(Old_Females, index= ['Senior_women'])\n",
    "pd.concat([data_metrics_Male, data_metrics_Female, data_metrics_Youngs, data_metrics_Adults, data_metrics_Olds,dm_Young_Males,dm_Adult_Males, dm_Old_Males, dm_Young_Females, dm_Adult_Females, dm_Old_Females  ])"
   ]
  }
 ],
 "metadata": {
  "kernelspec": {
   "display_name": "Python 3",
   "language": "python",
   "name": "python3"
  },
  "language_info": {
   "codemirror_mode": {
    "name": "ipython",
    "version": 3
   },
   "file_extension": ".py",
   "mimetype": "text/x-python",
   "name": "python",
   "nbconvert_exporter": "python",
   "pygments_lexer": "ipython3",
   "version": "3.8.8"
  }
 },
 "nbformat": 4,
 "nbformat_minor": 5
}
